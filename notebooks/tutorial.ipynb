{
 "cells": [
  {
   "cell_type": "markdown",
   "id": "2b5a69db",
   "metadata": {},
   "source": [
    "# LdaOverTime's Tutorial"
   ]
  },
  {
   "cell_type": "markdown",
   "id": "32660e71",
   "metadata": {},
   "source": [
    "## Introduction\n",
    "\n",
    "In this tutorial, we are exploring the basics of how to make a basic cleanning \n",
    "of our data and how to run the LdaOverTime tutorial.\n",
    "\n",
    "For even further information, you can check our API documentation."
   ]
  },
  {
   "cell_type": "markdown",
   "id": "3b77b183",
   "metadata": {},
   "source": [
    "## Dataset\n",
    "\n",
    "For this tutorial, we will be using the following [dataset](https://www.kaggle.com/datasets/asad1m9a9h6mood/news-articles)."
   ]
  },
  {
   "cell_type": "markdown",
   "id": "5feda440",
   "metadata": {},
   "source": [
    "## Importing\n",
    "\n",
    "Firstly, we are importing the main component of our library and then we are importing the model TemporalLdaModel.\n",
    "\n",
    "The LdaOverTime is where you should interact with , it has all the values and methods that you will need, like\n",
    "the functionality of ploting the graph, show the results inside PyLdaVis and also to get the results in a \n",
    "table.\n",
    "\n",
    "TemporalLdaModel is the simplest and also the fastest of our models. It consists of a single LDA training\n",
    "followed by a simple mathematical calculation, in this model you can choose either to calculate the average of\n",
    "each topic's weight or the proportion of main topics. One limitation of this model is that the words that\n",
    "describe each topic don't vary over time and this is the main limitation of this model.\n",
    "\n",
    "Another alternative model is LdaSeqModel, it is basically a wrapper of Gensim's and one advantage over\n",
    "TemporalLdaModel is that it tracks the changes the topic's vocabulary over time, making it mode accurate. One disavantage is that it is slower. You can try exchanging the PrevalenceModel with it."
   ]
  },
  {
   "cell_type": "code",
   "execution_count": 1,
   "id": "712d9f8b",
   "metadata": {},
   "outputs": [
    {
     "name": "stderr",
     "output_type": "stream",
     "text": [
      "/home/oozaku/.local/share/hatch/env/virtual/lda-over-time-vJj5Sxd8/lda-over-time/lib/python3.10/site-packages/past/builtins/misc.py:45: DeprecationWarning: the imp module is deprecated in favour of importlib and slated for removal in Python 3.12; see the module's documentation for alternative uses\n",
      "  from imp import reload\n",
      "/home/oozaku/.local/share/hatch/env/virtual/lda-over-time-vJj5Sxd8/lda-over-time/lib/python3.10/site-packages/gensim/matutils.py:22: DeprecationWarning: Please use `triu` from the `scipy.linalg` namespace, the `scipy.linalg.special_matrices` namespace is deprecated.\n",
      "  from scipy.linalg.special_matrices import triu\n"
     ]
    }
   ],
   "source": [
    "from lda_over_time.lda_over_time import LdaOverTime\n",
    "from lda_over_time.models.temporal_lda_model import TemporalLdaModel"
   ]
  },
  {
   "cell_type": "markdown",
   "id": "e0baa147",
   "metadata": {},
   "source": [
    "## Loading dataset\n",
    "\n",
    "Because this dataset seems to be encoded with latin-1, we are setting manually the \n",
    "encoding in Pandas' function."
   ]
  },
  {
   "cell_type": "code",
   "execution_count": 2,
   "id": "f0f00b2c",
   "metadata": {},
   "outputs": [],
   "source": [
    "import pandas as pd"
   ]
  },
  {
   "cell_type": "code",
   "execution_count": 3,
   "id": "14cd1c57",
   "metadata": {},
   "outputs": [],
   "source": [
    "articles_path = \"../environment-testing/Articles.csv\"\n",
    "\n",
    "data = pd.read_csv(\n",
    "    articles_path, \n",
    "    usecols=[\"Date\", \"Article\"], \n",
    "    encoding=\"latin-1\"\n",
    ")"
   ]
  },
  {
   "cell_type": "markdown",
   "id": "94d4c55c",
   "metadata": {},
   "source": [
    "## Preprocessing\n",
    "\n",
    "LdaOverTime does not have a module to filter or to clean your texts, so you will have to clear you dataset's\n",
    "texts by yourselve. Luckily, there are good libraries that can help you, we will be using the \n",
    "spaCy [1].\n",
    "\n",
    "[1] Honnibal, M., Montani, I., Van Landeghem, S., & Boyd, A. (2020). spaCy: Industrial-strength Natural Language Processing in Python. https://doi.org/10.5281/zenodo.1212303"
   ]
  },
  {
   "cell_type": "markdown",
   "id": "edb68775",
   "metadata": {},
   "source": [
    "### Installing library and English module\n",
    "\n",
    "Uncomment to install!"
   ]
  },
  {
   "cell_type": "code",
   "execution_count": null,
   "id": "32cdf8b1",
   "metadata": {
    "scrolled": false
   },
   "outputs": [],
   "source": [
    "# install libraries\n",
    "#! pip install spacy"
   ]
  },
  {
   "cell_type": "code",
   "execution_count": null,
   "id": "5febe2a1",
   "metadata": {},
   "outputs": [],
   "source": [
    "# install spaCy's English module\n",
    "#! python -m spacy download en_core_web_sm"
   ]
  },
  {
   "cell_type": "code",
   "execution_count": 4,
   "id": "7ccb2439",
   "metadata": {},
   "outputs": [],
   "source": [
    "import spacy\n",
    "\n",
    "nlp = spacy.load(\"en_core_web_sm\")"
   ]
  },
  {
   "cell_type": "markdown",
   "id": "b3c739c1",
   "metadata": {},
   "source": [
    "### Cleanning each text"
   ]
  },
  {
   "cell_type": "markdown",
   "id": "561b8c89",
   "metadata": {},
   "source": [
    "For this example, we are considering that only nouns, adjectives, adverbs and verbs carry relevant meaning\n",
    "for our analysis.\n",
    "\n",
    "Another aspect is that we are using lemmatization to improve the final result. In brief, lemmatization\n",
    "transform the word to its basic form, e.g. \"be\", \"been\", \"was\" and \"were\" will all become \"be\"."
   ]
  },
  {
   "cell_type": "code",
   "execution_count": 5,
   "id": "706e2e0f",
   "metadata": {},
   "outputs": [],
   "source": [
    "filters = {\n",
    "    \"ADJ\": \"adjective\",\n",
    "    \"ADV\": \"adverb\",\n",
    "    \"NOUN\": \"noun\",\n",
    "    \"PROPN\": \"proper noun\",\n",
    "    \"VERB\": \"verb\",\n",
    "}"
   ]
  },
  {
   "cell_type": "code",
   "execution_count": 6,
   "id": "0ae94a46",
   "metadata": {},
   "outputs": [],
   "source": [
    "articles = data['Article']"
   ]
  },
  {
   "cell_type": "code",
   "execution_count": 7,
   "id": "b04b203c",
   "metadata": {},
   "outputs": [],
   "source": [
    "# it stores the clean articles\n",
    "clean_articles = []\n",
    "\n",
    "# clear each article\n",
    "for article in articles:\n",
    "    \n",
    "    # words that belongs to one of the chosen part of speeches\n",
    "    clean = []\n",
    "    \n",
    "    # filter and store all words from the chosen part of speech in their basic form\n",
    "    for word in nlp(article):\n",
    "        if word.pos_ in filters:\n",
    "            clean.append(word.lemma_)\n",
    "            \n",
    "    # append cleanned text\n",
    "    clean_articles.append(' '.join(clean))"
   ]
  },
  {
   "cell_type": "markdown",
   "id": "31696cb5",
   "metadata": {},
   "source": [
    "## Choosing a model and trainning it\n",
    "\n",
    "To run LdaOverTime, we instantiate the chosen model, in this example TemporalLdaModel, and then we give this \n",
    "new object to our main library component LdaOverTime. \n",
    "\n",
    "We also set to calculate the average of topic's weights instead of the proportion of main topics. You can\n",
    "compare the following results with the proportion of main topics by changing: `aggregator = \"main\"`."
   ]
  },
  {
   "cell_type": "markdown",
   "id": "ffc80baf",
   "metadata": {},
   "source": [
    "### Instantiate chosen model\n",
    "\n",
    "In this example, we want to find 5 topics over the dataset and each timeslice has a length of one semester. \n",
    "Moreover, we found that the date format is MM/DD/YYYY:"
   ]
  },
  {
   "cell_type": "code",
   "execution_count": 8,
   "id": "8ad59224",
   "metadata": {},
   "outputs": [],
   "source": [
    "model = TemporalLdaModel(\n",
    "    corpus = clean_articles,         # list texts to be analysed\n",
    "    dates = data[\"Date\"].values,     # dates of each article\n",
    "    date_format = \"%m/%d/%Y\",        # date format is MM/DD/YYYY\n",
    "    freq = \"6M\",                     # frequency of one semester\n",
    "    n_topics = 5,                    # we want to get 5 topics\n",
    "    aggregator = \"average\"           # calculate average of topics\n",
    ")"
   ]
  },
  {
   "cell_type": "markdown",
   "id": "97e89b16",
   "metadata": {},
   "source": [
    "### Call main component and train model\n",
    "\n",
    "Finally we can call our main component, LdaOverTime, and easily train our model."
   ]
  },
  {
   "cell_type": "code",
   "execution_count": 9,
   "id": "e9f1bdb2",
   "metadata": {},
   "outputs": [],
   "source": [
    "main = LdaOverTime(model)"
   ]
  },
  {
   "cell_type": "markdown",
   "id": "cbbdbd80",
   "metadata": {},
   "source": [
    "## Getting results\n",
    "\n",
    "After trainning the model, we can get the topic's words, plot the graph with \n",
    "the topics' evolution over time and also get this evolution in a table to\n",
    "even further analysis."
   ]
  },
  {
   "cell_type": "markdown",
   "id": "3fcf7a7f",
   "metadata": {},
   "source": [
    "### Get topic words\n",
    "\n",
    "Right bellow, we are printing the top 10 words for each topic, identified by numbers 1 to 5.\n",
    "From the words found, we can infer that the topics are: \n",
    "\n",
    "1. Trade\n",
    "2. World\n",
    "3. Sports\n",
    "4. Business\n",
    "5. Politics"
   ]
  },
  {
   "cell_type": "code",
   "execution_count": 10,
   "id": "587b70cd",
   "metadata": {},
   "outputs": [
    {
     "name": "stdout",
     "output_type": "stream",
     "text": [
      "['percent', 'market', 'say', 'year', 'rate', 'dollar', 'rise', 'low', 'high', 'month']\n",
      "['say', 'Pakistan', 'year', 'government', 'also', 'country', 'tax', 'Minister', 'project', 'new']\n",
      "['first', 'say', 'match', 'win', 'test', 'wicket', 'team', 'play', 'run', 'England']\n",
      "['say', 'price', 'year', 'export', 'month', 'Pakistan', 'increase', 'strong', 'country', 'oil']\n",
      "['oil', 'say', 'price', 'crude', 'barrel', 'US', 'market', 'year', 'production', 'cent']\n"
     ]
    }
   ],
   "source": [
    "for topic_id in range(1, 6):\n",
    "    print(\n",
    "        main.get_topic_words(\n",
    "            topic_id=topic_id,  # select which topic we want\n",
    "            timeslice=1,        # get the oldest time slice found in our trainning\n",
    "            n=10                # we want the top 10 words for each topic\n",
    "        )\n",
    "    )"
   ]
  },
  {
   "cell_type": "markdown",
   "id": "5feca701",
   "metadata": {},
   "source": [
    "### Plot\n",
    "\n"
   ]
  },
  {
   "cell_type": "code",
   "execution_count": 11,
   "id": "f8ae6d2c",
   "metadata": {},
   "outputs": [
    {
     "data": {
      "image/png": "[encoded data removed]",
      "text/plain": [
       "<Figure size 640x480 with 1 Axes>"
      ]
     },
     "metadata": {},
     "output_type": "display_data"
    }
   ],
   "source": [
    "main.plot(\n",
    "    title = 'Subjects Found',    # Plot's title\n",
    "    \n",
    "    legend_title=\"Subjects\",     # Legend's title\n",
    "    \n",
    "    topic_names=[                # Names for each topic, if not provided\n",
    "        \"Economics\",             # it will display the top 10 words\n",
    "        \"World\", \n",
    "        \"Sports\", \n",
    "        \"Business\", \n",
    "        \"Politics\"\n",
    "    ],\n",
    "    \n",
    "    # path_to_save=\"./plot_of_news.png\",   # Set a location to save graph, default\n",
    "                                           # behaviour is to not save plot\n",
    "    \n",
    "    # display=True               # Set it to display graph, default behaviour is \n",
    "                                 # to display\n",
    ")"
   ]
  },
  {
   "cell_type": "markdown",
   "id": "4e1ce9f7",
   "metadata": {},
   "source": [
    "### Get table\n",
    "\n",
    "Finally, we extract the table with the results for further analysis\n",
    "and we also saw above how to extract each topic's top-n words."
   ]
  },
  {
   "cell_type": "code",
   "execution_count": 12,
   "id": "57e1a3f4",
   "metadata": {},
   "outputs": [
    {
     "data": {
      "text/html": [
       "<div>\n",
       "<style scoped>\n",
       "    .dataframe tbody tr th:only-of-type {\n",
       "        vertical-align: middle;\n",
       "    }\n",
       "\n",
       "    .dataframe tbody tr th {\n",
       "        vertical-align: top;\n",
       "    }\n",
       "\n",
       "    .dataframe thead th {\n",
       "        text-align: right;\n",
       "    }\n",
       "</style>\n",
       "<table border=\"1\" class=\"dataframe\">\n",
       "  <thead>\n",
       "    <tr style=\"text-align: right;\">\n",
       "      <th></th>\n",
       "      <th>1</th>\n",
       "      <th>2</th>\n",
       "      <th>3</th>\n",
       "      <th>4</th>\n",
       "      <th>5</th>\n",
       "      <th>date</th>\n",
       "    </tr>\n",
       "  </thead>\n",
       "  <tbody>\n",
       "    <tr>\n",
       "      <th>0</th>\n",
       "      <td>2015-01-31</td>\n",
       "      <td>0.338014</td>\n",
       "      <td>0.212670</td>\n",
       "      <td>0.002137</td>\n",
       "      <td>0.152261</td>\n",
       "      <td>0.294918</td>\n",
       "    </tr>\n",
       "    <tr>\n",
       "      <th>1</th>\n",
       "      <td>2015-07-31</td>\n",
       "      <td>0.254769</td>\n",
       "      <td>0.356222</td>\n",
       "      <td>0.005657</td>\n",
       "      <td>0.135343</td>\n",
       "      <td>0.248009</td>\n",
       "    </tr>\n",
       "    <tr>\n",
       "      <th>2</th>\n",
       "      <td>2016-01-31</td>\n",
       "      <td>0.204529</td>\n",
       "      <td>0.223571</td>\n",
       "      <td>0.330743</td>\n",
       "      <td>0.078559</td>\n",
       "      <td>0.162598</td>\n",
       "    </tr>\n",
       "    <tr>\n",
       "      <th>3</th>\n",
       "      <td>2016-07-31</td>\n",
       "      <td>0.085083</td>\n",
       "      <td>0.128637</td>\n",
       "      <td>0.694403</td>\n",
       "      <td>0.046381</td>\n",
       "      <td>0.045496</td>\n",
       "    </tr>\n",
       "    <tr>\n",
       "      <th>4</th>\n",
       "      <td>2017-01-31</td>\n",
       "      <td>0.232176</td>\n",
       "      <td>0.354217</td>\n",
       "      <td>0.155933</td>\n",
       "      <td>0.114988</td>\n",
       "      <td>0.142686</td>\n",
       "    </tr>\n",
       "    <tr>\n",
       "      <th>5</th>\n",
       "      <td>2017-07-31</td>\n",
       "      <td>0.086342</td>\n",
       "      <td>0.580512</td>\n",
       "      <td>0.051951</td>\n",
       "      <td>0.137468</td>\n",
       "      <td>0.143727</td>\n",
       "    </tr>\n",
       "  </tbody>\n",
       "</table>\n",
       "</div>"
      ],
      "text/plain": [
       "           1         2         3         4         5      date\n",
       "0 2015-01-31  0.338014  0.212670  0.002137  0.152261  0.294918\n",
       "1 2015-07-31  0.254769  0.356222  0.005657  0.135343  0.248009\n",
       "2 2016-01-31  0.204529  0.223571  0.330743  0.078559  0.162598\n",
       "3 2016-07-31  0.085083  0.128637  0.694403  0.046381  0.045496\n",
       "4 2017-01-31  0.232176  0.354217  0.155933  0.114988  0.142686\n",
       "5 2017-07-31  0.086342  0.580512  0.051951  0.137468  0.143727"
      ]
     },
     "execution_count": 12,
     "metadata": {},
     "output_type": "execute_result"
    }
   ],
   "source": [
    "main.get_results()"
   ]
  },
  {
   "cell_type": "markdown",
   "id": "280434d5",
   "metadata": {},
   "source": [
    "## Save your work\n",
    "\n",
    "We can save our current work with `save` and continue our last work with `load`: "
   ]
  },
  {
   "cell_type": "code",
   "execution_count": 13,
   "id": "f7cea289",
   "metadata": {},
   "outputs": [],
   "source": [
    "main.save('./my_work')"
   ]
  },
  {
   "cell_type": "code",
   "execution_count": 14,
   "id": "f96c8eb2",
   "metadata": {},
   "outputs": [],
   "source": [
    "loaded = LdaOverTime.load('./my_work')"
   ]
  },
  {
   "cell_type": "code",
   "execution_count": 15,
   "id": "ac4c4c71",
   "metadata": {},
   "outputs": [
    {
     "data": {
      "text/html": [
       "<div>\n",
       "<style scoped>\n",
       "    .dataframe tbody tr th:only-of-type {\n",
       "        vertical-align: middle;\n",
       "    }\n",
       "\n",
       "    .dataframe tbody tr th {\n",
       "        vertical-align: top;\n",
       "    }\n",
       "\n",
       "    .dataframe thead th {\n",
       "        text-align: right;\n",
       "    }\n",
       "</style>\n",
       "<table border=\"1\" class=\"dataframe\">\n",
       "  <thead>\n",
       "    <tr style=\"text-align: right;\">\n",
       "      <th></th>\n",
       "      <th>1</th>\n",
       "      <th>2</th>\n",
       "      <th>3</th>\n",
       "      <th>4</th>\n",
       "      <th>5</th>\n",
       "      <th>date</th>\n",
       "    </tr>\n",
       "  </thead>\n",
       "  <tbody>\n",
       "    <tr>\n",
       "      <th>0</th>\n",
       "      <td>2015-01-31</td>\n",
       "      <td>0.338014</td>\n",
       "      <td>0.212670</td>\n",
       "      <td>0.002137</td>\n",
       "      <td>0.152261</td>\n",
       "      <td>0.294918</td>\n",
       "    </tr>\n",
       "    <tr>\n",
       "      <th>1</th>\n",
       "      <td>2015-07-31</td>\n",
       "      <td>0.254769</td>\n",
       "      <td>0.356222</td>\n",
       "      <td>0.005657</td>\n",
       "      <td>0.135343</td>\n",
       "      <td>0.248009</td>\n",
       "    </tr>\n",
       "    <tr>\n",
       "      <th>2</th>\n",
       "      <td>2016-01-31</td>\n",
       "      <td>0.204529</td>\n",
       "      <td>0.223571</td>\n",
       "      <td>0.330743</td>\n",
       "      <td>0.078559</td>\n",
       "      <td>0.162598</td>\n",
       "    </tr>\n",
       "    <tr>\n",
       "      <th>3</th>\n",
       "      <td>2016-07-31</td>\n",
       "      <td>0.085083</td>\n",
       "      <td>0.128637</td>\n",
       "      <td>0.694403</td>\n",
       "      <td>0.046381</td>\n",
       "      <td>0.045496</td>\n",
       "    </tr>\n",
       "    <tr>\n",
       "      <th>4</th>\n",
       "      <td>2017-01-31</td>\n",
       "      <td>0.232176</td>\n",
       "      <td>0.354217</td>\n",
       "      <td>0.155933</td>\n",
       "      <td>0.114988</td>\n",
       "      <td>0.142686</td>\n",
       "    </tr>\n",
       "    <tr>\n",
       "      <th>5</th>\n",
       "      <td>2017-07-31</td>\n",
       "      <td>0.086342</td>\n",
       "      <td>0.580512</td>\n",
       "      <td>0.051951</td>\n",
       "      <td>0.137468</td>\n",
       "      <td>0.143727</td>\n",
       "    </tr>\n",
       "  </tbody>\n",
       "</table>\n",
       "</div>"
      ],
      "text/plain": [
       "           1         2         3         4         5      date\n",
       "0 2015-01-31  0.338014  0.212670  0.002137  0.152261  0.294918\n",
       "1 2015-07-31  0.254769  0.356222  0.005657  0.135343  0.248009\n",
       "2 2016-01-31  0.204529  0.223571  0.330743  0.078559  0.162598\n",
       "3 2016-07-31  0.085083  0.128637  0.694403  0.046381  0.045496\n",
       "4 2017-01-31  0.232176  0.354217  0.155933  0.114988  0.142686\n",
       "5 2017-07-31  0.086342  0.580512  0.051951  0.137468  0.143727"
      ]
     },
     "execution_count": 15,
     "metadata": {},
     "output_type": "execute_result"
    }
   ],
   "source": [
    "loaded.get_results()"
   ]
  },
  {
   "cell_type": "markdown",
   "id": "0296e19f",
   "metadata": {},
   "source": [
    "## PyLdaVis\n",
    "\n",
    "One last functionality is the possibility to use \n",
    "[pyLdaVis](https://github.com/bmabey/pyLDAvis) \n",
    "to show how good is our model for different time slices.\n",
    "\n",
    "In this example, we will show how our model behaves \n",
    "at the first time slice:"
   ]
  },
  {
   "cell_type": "code",
   "execution_count": null,
   "id": "fcdf4539",
   "metadata": {
    "scrolled": true
   },
   "outputs": [],
   "source": [
    "graph = main.showvis(1)"
   ]
  },
  {
   "cell_type": "code",
   "execution_count": 18,
   "id": "3afb51c8",
   "metadata": {},
   "outputs": [
    {
     "data": {
      "text/html": [
       "\n",
       "<link rel=\"stylesheet\" type=\"text/css\" href=\"https://cdn.jsdelivr.net/gh/bmabey/pyLDAvis@3.3.1/pyLDAvis/js/ldavis.v1.0.0.css\">\n",
       "\n",
       "\n",
       "<div id=\"ldavis_el214751401579547507523975847682\"></div>\n",
       "<script type=\"text/javascript\">\n",
       "\n",
       "var ldavis_el214751401579547507523975847682_data = {\"mdsDat\": {\"x\": [-0.11384776176353466, -0.11920065674190829, 0.01948202758997752, 0.008004761264112911, 0.2055616296513526], \"y\": [-0.07673998464358363, -0.047788147263960065, 0.1344416109465452, 0.07600048744082462, -0.085913966479826], \"topics\": [1, 2, 3, 4, 5], \"cluster\": [1, 1, 1, 1, 1], \"Freq\": [37.91844650708894, 37.71115353121265, 15.738176053572733, 8.518458338145773, 0.11376556997990438]}, \"tinfo\": {\"Term\": [\"say\", \"year\", \"first\", \"Pakistan\", \"day\", \"last\", \"oil\", \"have\", \"make\", \"take\", \"strong\", \"time\", \"percent\", \"also\", \"price\", \"barrel\", \"crude\", \"second\", \"West\", \"New\", \"run\", \"come\", \"back\", \"world\", \"more\", \"just\", \"early\", \"go\", \"point\", \"-\", \"bpd\", \"opec\", \"EIA\", \"cosmetic\", \"Countries\", \"Exporting\", \"Iran\\u00b4s\", \"Algeria\", \"BuzzFeed\", \"IEA\", \"facial\", \"Pop\", \"shale\", \"OPEC\", \"Gladiators\", \"london\", \"Zanganeh\", \"Baker\", \"\\\"Crude\", \"disruption\", \"wildfire\", \"Rosneft\", \"LVMH\", \"gcc\", \"Innisfree\", \"CLIO\", \"Amorepacific\", \"\\\"OPEC\", \"mid-2014\", \"Brun\", \"inventory\", \"lifting\", \"gasoline\", \"sanction\", \"Arabia\", \"storage\", \"Saudi\", \"barrel\", \"output\", \"Iran\", \"Energy\", \"WTI\", \"production\", \"crude\", \"singapore\", \"oil\", \"stockpile\", \"rig\", \"producer\", \"nuclear\", \"Organization\", \"supply\", \"Intermediate\", \"glut\", \"Texas\", \"cent\", \"price\", \"West\", \"Brent\", \"US\", \"analyst\", \"demand\", \"say\", \"cut\", \"delivery\", \"market\", \"week\", \"deal\", \"level\", \"global\", \"fall\", \"year\", \"day\", \"last\", \"more\", \"rise\", \"low\", \"percent\", \"high\", \"also\", \"strong\", \"yen\", \"Nikkei\", \"ounce\", \"DOWN\", \"stimulus\", \"s&amp;p\", \"Topix\", \"index\", \"MSCI\", \"Nasdaq\", \"Composite\", \"monetary\", \"Dow\", \"Shanghai\", \"Wall\", \"sterling\", \"FTSE\", \"SPDR\", \"Fed\", \"Taipei\", \"Yellen\", \"bullion\", \"Hang\", \"Seng\", \"ringgit\", \"outflow\", \"peso\", \"Treasuries\", \"BoE\", \"EAPC\", \"gold\", \"metal\", \"broad\", \"Brexit\", \"Clinton\", \"Gold\", \"easing\", \"Tokyo\", \"inflation\", \"vote\", \"rate\", \"Street\", \"percent\", \"Kong\", \"point\", \"Reserve\", \"Hong\", \"central\", \"yield\", \"hike\", \"euro\", \"dollar\", \"stock\", \"interest\", \"currency\", \"Bank\", \"share\", \"Japan\", \"investor\", \"gain\", \"bank\", \"policy\", \"economy\", \"rise\", \"market\", \"low\", \"growth\", \"high\", \"month\", \"year\", \"fall\", \"trade\", \"week\", \"U.S.\", \"say\", \"global\", \"more\", \"US\", \"price\", \"strong\", \"last\", \"PCB\", \"CPEC\", \"borrower\", \"Road\", \"Gwadar\", \"Xinjiang\", \"Belt\", \"style=\\\"text\", \"align\", \"railway\", \"PIA\", \"sukuk\", \"Modi\", \"Railways\", \"megawatt\", \"allocate\", \"waive\", \"Sethi\", \"FBR\", \"Silk\", \"ECC\", \"Corridor\", \"ordinance\", \"NBP\", \"tiny_mce\", \"corridor\", \"evasion\", \"cricket\", \"PSX\", \"kilometer\", \"arrangement\", \"ICC\", \"Board\", \"visa\", \"Revenue\", \"provincial\", \"tax\", \"Sharif\", \"project\", \"Pakistan\", \"education\", \"coal\", \"delegation\", \"enhance\", \"Economic\", \"Dar\", \"phone\", \"Ishaq\", \"Cricket\", \"budget\", \"pakistan\\u0092s\", \"construction\", \"Minister\", \"security\", \"infrastructure\", \"government\", \"Finance\", \"ISLAMABAD\", \"national\", \"system\", \"pakistani\", \"loan\", \"business\", \"say\", \"country\", \"r\", \"power\", \"sector\", \"Prime\", \"India\", \"company\", \"new\", \"also\", \"development\", \"investment\", \"year\", \"include\", \"have\", \"minister\", \"make\", \"issue\", \"economic\", \"China\", \"strong\", \"other\", \"add\", \"percent\", \"-\", \"increase\", \"last\", \"more\", \"banknote\", \"litre\", \"OGRA\", \"Airbus\", \"gem\", \"poultry\", \"CNG\", \"jewellary\", \"bale\", \"Tufenkci\", \"onion\", \"jade\", \"Windows\", \"hybrid\", \"petrol\", \"RCCI\", \"Zanjani\", \"Jewellary\", \"death\", \"HKSCA\", \"Compressed\", \"Tribune\", \"Cotton\", \"liter\", \"HOBC\", \"Octane\", \"Gates\", \"Lucara\", \"Motor\", \"stpf\", \"LPG\", \"coup\", \"sentence\", \"kg\", \"Volkswagen\", \"stone\", \"kerosene\", \"Gas\", \"lawsuit\", \"car\", \"diesel\", \"station\", \"aircraft\", \"summary\", \"diamond\", \"cotton\", \"tourism\", \"farmer\", \"petroleum\", \"Association\", \"crop\", \"decrease\", \"export\", \"r\", \"say\", \"import\", \"Authority\", \"year\", \"price\", \"ISLAMABAD\", \"increase\", \"product\", \"Pakistan\", \"compare\", \"country\", \"month\", \"sell\", \"strong\", \"June\", \"new\", \"government\", \"go\", \"last\", \"period\", \"also\", \"other\", \"have\", \"oil\", \"accord\", \"market\", \"percent\", \"make\", \"more\", \"Lord\\u00b4s\", \"Indies\", \"spinner\", \"Messi\", \"Root\", \"Ronaldo\", \"title\", \"Test\", \"Woakes\", \"captain\", \"bowl\", \"Hales\", \"batsman\", \"bowler\", \"athlete\", \"england\\u00b4s\", \"Yasir\", \"innings\", \"Anderson\", \"Broad\", \"Kohli\", \"opener\", \"career\", \"Alastair\", \"bowling\", \"batting\", \"paceman\", \"Misbah\", \"Mathews\", \"Barcelona\", \"Bairstow\", \"Zimbabwe\", \"wicket\", \"tournament\", \"ball\", \"match\", \"unbeaten\", \"Twenty20\", \"test\", \"score\", \"Amir\", \"England\", \"injury\", \"play\", \"over\", \"bat\", \"team\", \"Lanka\", \"game\", \"win\", \"player\", \"final\", \"series\", \"run\", \"Sri\", \"first\", \"cricket\", \"have\", \"second\", \"make\", \"say\", \"Pakistan\", \"take\", \"year\", \"time\", \"World\", \"India\", \"day\", \"last\", \"strong\"], \"Freq\": [79.0, 43.0, 10.0, 15.0, 15.0, 22.0, 53.0, 8.0, 9.0, 9.0, 20.0, 9.0, 72.0, 21.0, 47.0, 26.0, 31.0, 5.0, 6.0, 6.0, 2.0, 9.0, 5.0, 8.0, 21.0, 4.0, 12.0, 5.0, 10.0, 11.0, 6.051074342750416, 1.4022415312637935, 1.1662830950727812, 2.3665722179042152, 2.809905018118782, 2.7357460740633965, 0.9618651229625682, 0.6438506104517261, 0.4980564729144669, 1.5010783916282182, 0.42547448420668316, 0.4252555058262766, 1.8872869280044995, 12.281622630970647, 1.0666201956687233, 0.6004349869707248, 0.38887212775928226, 0.7559766452920006, 0.41561963715642725, 1.0487931784429065, 0.42129342495346905, 0.33548177752073993, 0.4533502199810707, 0.3802075391800858, 0.2853989479891184, 0.28539340638000804, 0.2852297027231257, 0.29494654674242426, 0.6812879120962588, 0.4927303079950363, 5.142676134707364, 1.285434815871381, 1.0510765475844992, 4.757017235479579, 6.311831253522134, 0.954946819817514, 7.412929079194208, 24.28046667512941, 11.881940972624271, 8.699198076877792, 4.636486106388755, 5.107434215023039, 13.40184194851909, 27.072107680561103, 1.4711796009728453, 44.65145071686922, 3.382219788223399, 2.6642473285691075, 6.817494263504942, 3.104263079901906, 2.697799849133219, 11.04171179465863, 5.226927140611148, 4.079490605746425, 5.351273158651165, 12.32306572434352, 31.44752880794923, 5.463362042091587, 5.65585447139632, 20.557506009245483, 9.760762289344731, 9.714866908880909, 34.341897222623004, 8.23045756436257, 4.745093954555368, 18.114643476565604, 11.730262833699483, 6.476593018462403, 7.140667787909396, 10.01953688737183, 10.596162803176174, 15.299992805355215, 8.732547254315772, 10.235994401103508, 9.553020256520814, 9.309264550123407, 8.59390117051352, 11.651673316613337, 8.291488549529593, 7.688936950613871, 7.395867256401873, 10.411765096577106, 2.2825724049577056, 2.9818931635629493, 0.7113143905461287, 1.4016711653490534, 1.3800020276974534, 0.5875561997040927, 7.8258852764771945, 1.10718174042126, 1.288390713858523, 0.900175261345243, 2.7865643156687843, 1.930636302801371, 2.491022004780748, 2.81292684348693, 0.6003161855056885, 0.533093111774173, 0.5096176690185747, 5.479627949016621, 0.3872887644002106, 1.5120889952634542, 0.6660634080324896, 0.39402207190656496, 0.3940403211050533, 0.40464819495671916, 0.45999728287919595, 0.383720329062515, 0.35218754180638506, 0.36047222801689877, 0.30150035082656, 7.763332535373302, 1.6481031678489884, 2.6416777145818218, 1.4585115980176424, 1.2107072782865433, 1.0055842627130638, 0.9799009762488238, 3.805253358747179, 3.0681123875680947, 2.100658770635823, 15.61043884591641, 2.819513201361081, 56.71360945596933, 3.4584529016014964, 8.696366982960644, 3.461168517307523, 3.2095417075263364, 4.108806645987355, 2.283527549448079, 4.669732456756506, 5.281941833314019, 14.645837390310904, 8.429288247827655, 6.816829785636257, 6.523014653127185, 6.881995564516922, 7.584247667411864, 4.411707123686535, 7.804469884229537, 8.522690851251335, 7.623487324576909, 5.840172274021076, 9.018398694368798, 13.178224363063807, 20.046997272577396, 11.91155070154752, 8.378673238192237, 11.824125512018849, 11.527662699186722, 17.926024022820595, 11.134402313395185, 9.161296948270078, 11.283990627857865, 8.590583943321187, 19.27997890484204, 9.131570044333698, 9.56292733316614, 11.493398971396868, 11.085819966410499, 8.612862249903529, 8.579329164908007, 0.7618827602170211, 0.6751731975733041, 0.2669570120082706, 0.2956474124256151, 0.4440108941620312, 0.2630305461181843, 0.22221686512639538, 0.2163320363228397, 0.2571709710687171, 0.25122885191782884, 0.41331833575210114, 0.17606289527109056, 0.5684104174010258, 0.20548465708065325, 0.2671876285395651, 0.41305312439410924, 0.3737481674488508, 0.17957673453419842, 0.733186515761788, 0.15066996389478954, 0.19722400391012357, 0.5183538624128698, 0.15299989261481195, 0.1528029555789792, 0.14085612270271025, 0.1806813398402348, 0.20882613243109804, 0.945225108779182, 0.12731563947027422, 0.1545040634751964, 0.2949295345665975, 0.34344209005060683, 1.1158773989718413, 0.25349467224631544, 0.4600599365256115, 0.3735977245457775, 3.697208930786896, 0.9096268912874151, 3.16510951573978, 11.36217730091959, 0.4577266867961063, 0.46193721047962405, 0.649500362599179, 0.647376512492329, 1.002567841222485, 1.4865464625544058, 0.5422105393954789, 1.0137551604035346, 0.6005925248416033, 1.3591259707175982, 0.4556683650177088, 0.8150936405229998, 3.618788232291789, 1.4447257763833248, 0.9533800059869585, 5.1752110813678796, 1.5203940034430459, 2.0290538978506456, 0.9597006732788247, 1.0537157996238569, 1.1876440618450894, 0.9286187470433118, 2.115035138471247, 18.126690304864926, 4.636243020729216, 1.7776222648590956, 2.3040079476336084, 2.753712718421441, 1.2628167895959677, 1.9749997862464426, 2.748992613410072, 3.15651385133704, 4.753607073391477, 1.3930675794932144, 2.3499973808318155, 6.083781445709156, 2.3480756546377997, 2.5179149429330394, 1.8824754763137685, 2.4353976912282564, 1.5432130703250513, 2.293320070726724, 2.4467085566560733, 2.928939223908542, 2.1174474822075164, 2.2303409632352373, 2.528231054538102, 1.8509458357539146, 1.8233110938915364, 1.8853159134278938, 1.8464125521947239, 0.389254606007795, 1.3479765120397695, 0.7165385784791818, 0.2229165498766594, 0.3990300824753451, 0.20437110987285106, 0.7888318497148887, 0.19260565709140334, 0.2247114907524293, 0.19215247567931654, 0.1928293641236074, 0.1618102689909155, 0.2107331676430548, 0.15440034512386802, 1.1447529646174668, 0.1536924984718837, 0.14875855793963472, 0.129053106144474, 0.2324475873485439, 0.13854820567234344, 0.1653607447677877, 0.1086388295348372, 0.11369032741382194, 0.1352239649060631, 0.11819057356336524, 0.11815845934545428, 0.1036850843879825, 0.1024041107362867, 0.09895487477731062, 0.10735779236609647, 0.19384108902189234, 0.4939534097292729, 0.15666556620021688, 0.2910190681158945, 0.44629733313122144, 0.28110052585636924, 0.33981062622255065, 0.8758714921671286, 0.2474546325174236, 1.0308776755688414, 1.024078607826187, 0.5600059026403441, 0.35723332623696497, 0.3154526525143583, 0.6163314969198191, 0.6307839112524677, 0.5753701168562113, 0.4440243883822105, 0.9899993249863513, 0.5981296968324306, 0.35866815087486315, 0.7692608762072302, 2.3214359985292603, 1.087519533918376, 7.711214784633554, 1.3634403209820696, 0.5379505996581847, 4.417569213431533, 4.432378339488445, 0.9333183401371465, 1.7861954425164, 1.2309510824449863, 1.8741593341926626, 1.1766199233759622, 1.5507007646753745, 1.941859357621656, 0.9320053157845847, 1.733247430617528, 1.19416658325524, 1.267040247840597, 1.2529975946681289, 1.004843715706603, 1.4726215479702864, 0.894747843271555, 1.371369788869735, 1.1494791408957863, 1.091183806832925, 1.476246084621534, 1.0521381008440687, 1.349873588323769, 1.3112356109496557, 1.0321972040668028, 1.013732748295266, 0.003619495092926736, 0.01099677454623669, 0.009928598475820725, 0.004063099627459187, 0.00474004068598428, 0.0033028722300102176, 0.008483474494202925, 0.0034119829801638802, 0.002780333550943952, 0.023508450017042194, 0.008552819152769816, 0.0031794071952522436, 0.011368279203050705, 0.014238516538916442, 0.002391431483545253, 0.0029239271242362157, 0.002288576302391332, 0.010562587975099598, 0.0037064419372948095, 0.0031542098338983265, 0.003262796345925248, 0.006156605056670247, 0.005659002637832639, 0.0022640202420468264, 0.006819904387268154, 0.004416520274433201, 0.0023537957667667305, 0.004236519635661398, 0.0024092026470727253, 0.0025743900808088793, 0.003680629402009642, 0.0035141795553605168, 0.03463475786642433, 0.013495885898265402, 0.031627554243332634, 0.040856851632100115, 0.004803123667922769, 0.01155230409048474, 0.036866805690368605, 0.0184396339836694, 0.011235686656571476, 0.03394699273266102, 0.006887042834637588, 0.03425217600709537, 0.01946912365552079, 0.01099543629693451, 0.03439226329256713, 0.013929636113265932, 0.019939822309419118, 0.03700472408904028, 0.021084959251342322, 0.023677910924621223, 0.01848620940258785, 0.0341756216322068, 0.015372213213732068, 0.0470574601173971, 0.018930969636188053, 0.03277713210991783, 0.02529766761804316, 0.02940870432629951, 0.04567249424221455, 0.030693304218320228, 0.02747064788658089, 0.03139536663215368, 0.023630271421064934, 0.01799706978188555, 0.019635386880183046, 0.022738172177318744, 0.022722922107177478, 0.019776069998761962], \"Total\": [79.0, 43.0, 10.0, 15.0, 15.0, 22.0, 53.0, 8.0, 9.0, 9.0, 20.0, 9.0, 72.0, 21.0, 47.0, 26.0, 31.0, 5.0, 6.0, 6.0, 2.0, 9.0, 5.0, 8.0, 21.0, 4.0, 12.0, 5.0, 10.0, 11.0, 6.08812645804108, 1.4184350733185807, 1.1815958909242772, 2.40462557471607, 2.8579458093477847, 2.7851243286782963, 0.9805664660101852, 0.6566333355130285, 0.5083475272497857, 1.5322448760062501, 0.4347328446009285, 0.43461644991840465, 1.9299616752600341, 12.569597822135746, 1.0917940457610722, 0.6148707811227277, 0.39833511149358164, 0.7749401173139858, 0.42667719158982387, 1.0778125833122931, 0.4329904736669683, 0.34501913180638255, 0.4665040855194759, 0.3914896243567117, 0.2940918408328901, 0.2941285690731508, 0.2939603981027453, 0.30399106151873123, 0.7024438224243271, 0.5082650363953343, 5.384497881640612, 1.3301017128479178, 1.089448168717887, 5.012440852639312, 6.671740011439623, 0.99180092418336, 7.876159064393011, 26.511200327545254, 12.925533536733218, 9.431074637798408, 4.972905317873825, 5.516538231377534, 14.95833976551347, 31.14377193359367, 1.5473138320480586, 53.546698591801906, 3.6562962186149957, 2.8750170413534257, 7.727410558792973, 3.412758287696511, 2.9651333390716808, 13.498129918741531, 6.164917129921539, 4.705063453126913, 6.365238122550495, 15.922739564271787, 47.5193794191106, 6.560578304357785, 6.9423122852482395, 33.032564933442444, 13.779977836427982, 14.040923785529968, 79.50545371120573, 12.432449235387258, 5.9835829118092505, 40.75884686925084, 24.071042616567684, 9.675649833409286, 11.334806393492906, 19.915948228979637, 22.209782132246225, 43.75876285394865, 15.842164497570005, 22.195983949516876, 21.98852848223889, 23.273982249671, 21.448872189176285, 72.2052832647076, 21.931054504216622, 21.00075723979247, 20.690692230830233, 10.548204348293067, 2.3138202799364236, 3.0297280685647108, 0.7256099662534792, 1.4313648019076917, 1.4096451207662999, 0.6011689277895284, 8.014761456091794, 1.1341376852762541, 1.3220733126195134, 0.925687181557761, 2.866285819718893, 1.9862060297213084, 2.563176560560509, 2.8964507108239275, 0.6183684461488774, 0.549166873145527, 0.5250008145827721, 5.6495906465012435, 0.39932501849555196, 1.5592063313172198, 0.6868796693660155, 0.4064342499762, 0.4064832722751362, 0.41742915147875803, 0.47492819431062117, 0.3962509496688009, 0.36443453033492945, 0.37320719634821825, 0.31236216630769903, 8.075009741779011, 1.7079453595088758, 2.7541952694125493, 1.5225804519796737, 1.266949623892073, 1.0507809905345487, 1.0286653753914197, 4.112766738242157, 3.3219336368489976, 2.2481142028402923, 17.90310210368785, 3.0783738786615715, 72.2052832647076, 3.8437155381625723, 10.337190683123506, 3.903174009722132, 3.6024583038018454, 4.688550027888323, 2.520648322597943, 5.490324962114358, 6.338856924851979, 19.797166453351938, 10.84293031279812, 8.670673267493013, 8.282299247526378, 8.917278450808457, 10.053678599867402, 5.357746264581046, 10.591358065063378, 11.989799638760543, 10.778693938877474, 7.76265992716999, 13.892916441586813, 23.273982249671, 40.75884686925084, 21.448872189176285, 13.412088265128077, 21.931054504216622, 21.90156557558612, 43.75876285394865, 22.209782132246225, 16.98854507302259, 24.071042616567684, 15.46016504033721, 79.50545371120573, 19.915948228979637, 21.98852848223889, 33.032564933442444, 47.5193794191106, 20.690692230830233, 22.195983949516876, 0.784164843447493, 0.6960020232325452, 0.278739096991903, 0.30872204680741716, 0.46372579399439584, 0.2758820655959209, 0.23475053030863363, 0.22869277175038652, 0.27230254711218904, 0.2660280891295635, 0.4377635142827665, 0.1877962792109367, 0.6071893001947326, 0.21976540589431484, 0.28621755422350026, 0.44253079601990425, 0.4009870220953083, 0.19272406421452945, 0.7901799465601248, 0.1624211688366025, 0.21283238173162802, 0.5618921816921778, 0.16609582801110076, 0.16617439409810691, 0.15319317394063559, 0.19681527175548835, 0.2275997334310264, 1.0314204335535506, 0.13940134961017706, 0.16922782778607645, 0.3231496210695737, 0.3773138217079552, 1.2571170579086832, 0.27815248277097043, 0.5135543793969154, 0.4156137623926718, 4.513959959004661, 1.059378496146775, 3.94573777794979, 15.452810933275188, 0.5178149418390795, 0.523413988532869, 0.7570348325219324, 0.7572301118559129, 1.2261951826251392, 1.9112369871036132, 0.6330546585565358, 1.2812858507025495, 0.710665131749427, 1.8024526458152275, 0.5214430145635401, 1.0417072868824726, 6.165882314534304, 2.0839087963402627, 1.26309489317737, 10.103346105360936, 2.2711746321010664, 3.2692253052391664, 1.2883381808905023, 1.4677864339873972, 1.7623933347255898, 1.2796403172876325, 3.9086827550250653, 79.50545371120573, 12.322797440330515, 3.204918718047327, 4.697150500143274, 6.211140901615923, 2.01265264325115, 4.113586919839667, 7.383224756948961, 10.227811206462876, 21.00075723979247, 2.4884571371977633, 6.4734976540969775, 43.75876285394865, 7.205407550396535, 8.572302410766795, 4.86339189769615, 9.711463360103666, 3.3560451309698545, 9.80472488378231, 12.22396690432217, 20.690692230830233, 10.520913564632842, 13.355774370173469, 72.2052832647076, 11.772372470572307, 12.783022560916569, 22.195983949516876, 21.98852848223889, 0.40257018923462107, 1.3995434624580358, 0.7462829384443179, 0.23473029396198028, 0.4203574524194674, 0.21678499509982097, 0.837071164243893, 0.2045683171628679, 0.24022846492633645, 0.20549973822960066, 0.20763371262645494, 0.17453243423602122, 0.2275177715625721, 0.16698281049492558, 1.2394967783880435, 0.16716702114411178, 0.1622103311895022, 0.14082231067555004, 0.25377118435347634, 0.1516710105097848, 0.18328289270299272, 0.12043354153433855, 0.12629809068311346, 0.15044689557593544, 0.13156637497619783, 0.13153307732287278, 0.11569278589904612, 0.1143983773241463, 0.11066010051259387, 0.12043203310215952, 0.2199730993462416, 0.573293018297789, 0.17811088262438762, 0.33977609438498274, 0.5390365273331094, 0.33536574177447254, 0.4181460081242128, 1.183610788571375, 0.2959310642192764, 1.4998776053736167, 1.4938672051279032, 0.751098724925375, 0.45816281874747855, 0.4012434152538624, 0.9276909508576223, 0.9655822615876433, 0.9012420053834066, 0.6461966149338507, 1.8563077164491013, 0.9676916188964229, 0.4895285100485929, 1.4632747334699403, 8.829166954292191, 3.204918718047327, 79.50545371120573, 4.804955410735065, 1.0781489566754303, 43.75876285394865, 47.5193794191106, 3.2692253052391664, 12.783022560916569, 6.064199074574328, 15.452810933275188, 5.859184500357343, 12.322797440330515, 21.90156557558612, 3.8311138086548215, 20.690692230830233, 7.892285410072951, 10.227811206462876, 10.103346105360936, 5.277115788686587, 22.195983949516876, 3.6046344091953686, 21.00075723979247, 10.520913564632842, 8.572302410766795, 53.546698591801906, 7.210135500133943, 40.75884686925084, 72.2052832647076, 9.711463360103666, 21.98852848223889, 0.019679202893166714, 0.06541193258713787, 0.05935222342161729, 0.02639713048598164, 0.031210980398586004, 0.022094346983411273, 0.05791184435059298, 0.023879936131557235, 0.019718727989175525, 0.16919852492361007, 0.06251372954602157, 0.023587143117309497, 0.0845489140608531, 0.10802371250182102, 0.018465262437366767, 0.022941956766865404, 0.017984188547689614, 0.08377952335168785, 0.029436745814277417, 0.025926904354386715, 0.02718488704979132, 0.05236277215442519, 0.04868699749047182, 0.019494584465996504, 0.059124011563238106, 0.038603903038945515, 0.020977873589923743, 0.038034442272986364, 0.021864555093915564, 0.023415976234364453, 0.03368233939796442, 0.03213325117828369, 0.360734775194491, 0.1392953836835168, 0.47678480483857794, 0.7639671179972488, 0.04803615702300264, 0.1606423738851694, 0.8123572306838711, 0.33410762741860384, 0.16699334489093576, 0.8625125126059439, 0.0822921972271283, 1.0580975971099547, 0.4699166520314262, 0.18156126439039538, 1.258444204323424, 0.2753248094357887, 0.5982399851950969, 2.0121604898546015, 0.7484875054061711, 0.9677463439989027, 0.5789853233705758, 2.669008409272009, 0.4362959076065672, 10.64604164477211, 1.0314204335535506, 8.572302410766795, 5.113202402579706, 9.711463360103666, 79.50545371120573, 15.452810933275188, 9.412229121910185, 43.75876285394865, 9.146149191906526, 1.8896548438165996, 4.113586919839667, 15.842164497570005, 22.195983949516876, 20.690692230830233], \"Category\": [\"Default\", \"Default\", \"Default\", \"Default\", \"Default\", \"Default\", \"Default\", \"Default\", \"Default\", \"Default\", \"Default\", \"Default\", \"Default\", \"Default\", \"Default\", \"Default\", \"Default\", \"Default\", \"Default\", \"Default\", \"Default\", \"Default\", \"Default\", \"Default\", \"Default\", \"Default\", \"Default\", \"Default\", \"Default\", \"Default\", \"Topic1\", \"Topic1\", \"Topic1\", \"Topic1\", \"Topic1\", \"Topic1\", \"Topic1\", \"Topic1\", \"Topic1\", \"Topic1\", \"Topic1\", \"Topic1\", \"Topic1\", \"Topic1\", \"Topic1\", \"Topic1\", \"Topic1\", \"Topic1\", \"Topic1\", \"Topic1\", \"Topic1\", \"Topic1\", \"Topic1\", \"Topic1\", \"Topic1\", \"Topic1\", \"Topic1\", \"Topic1\", \"Topic1\", \"Topic1\", \"Topic1\", \"Topic1\", \"Topic1\", \"Topic1\", \"Topic1\", \"Topic1\", \"Topic1\", \"Topic1\", \"Topic1\", \"Topic1\", \"Topic1\", \"Topic1\", \"Topic1\", \"Topic1\", \"Topic1\", \"Topic1\", \"Topic1\", \"Topic1\", \"Topic1\", \"Topic1\", \"Topic1\", \"Topic1\", \"Topic1\", \"Topic1\", \"Topic1\", \"Topic1\", \"Topic1\", \"Topic1\", \"Topic1\", \"Topic1\", \"Topic1\", \"Topic1\", \"Topic1\", \"Topic1\", \"Topic1\", \"Topic1\", \"Topic1\", \"Topic1\", \"Topic1\", \"Topic1\", \"Topic1\", \"Topic1\", \"Topic1\", \"Topic1\", \"Topic1\", \"Topic1\", \"Topic1\", \"Topic1\", \"Topic1\", \"Topic1\", \"Topic1\", \"Topic2\", \"Topic2\", \"Topic2\", \"Topic2\", \"Topic2\", \"Topic2\", \"Topic2\", \"Topic2\", \"Topic2\", \"Topic2\", \"Topic2\", \"Topic2\", \"Topic2\", \"Topic2\", \"Topic2\", \"Topic2\", \"Topic2\", \"Topic2\", \"Topic2\", \"Topic2\", \"Topic2\", \"Topic2\", \"Topic2\", \"Topic2\", \"Topic2\", \"Topic2\", \"Topic2\", \"Topic2\", \"Topic2\", \"Topic2\", \"Topic2\", \"Topic2\", \"Topic2\", \"Topic2\", \"Topic2\", \"Topic2\", \"Topic2\", \"Topic2\", \"Topic2\", \"Topic2\", \"Topic2\", \"Topic2\", \"Topic2\", \"Topic2\", \"Topic2\", \"Topic2\", \"Topic2\", \"Topic2\", \"Topic2\", \"Topic2\", \"Topic2\", \"Topic2\", \"Topic2\", \"Topic2\", \"Topic2\", \"Topic2\", \"Topic2\", \"Topic2\", \"Topic2\", \"Topic2\", \"Topic2\", \"Topic2\", \"Topic2\", \"Topic2\", \"Topic2\", \"Topic2\", \"Topic2\", \"Topic2\", \"Topic2\", \"Topic2\", \"Topic2\", \"Topic2\", \"Topic2\", \"Topic2\", \"Topic2\", \"Topic2\", \"Topic2\", \"Topic2\", \"Topic2\", \"Topic2\", \"Topic2\", \"Topic3\", \"Topic3\", \"Topic3\", \"Topic3\", \"Topic3\", \"Topic3\", \"Topic3\", \"Topic3\", \"Topic3\", \"Topic3\", \"Topic3\", \"Topic3\", \"Topic3\", \"Topic3\", \"Topic3\", \"Topic3\", \"Topic3\", \"Topic3\", \"Topic3\", \"Topic3\", \"Topic3\", \"Topic3\", \"Topic3\", \"Topic3\", \"Topic3\", \"Topic3\", \"Topic3\", \"Topic3\", \"Topic3\", \"Topic3\", \"Topic3\", \"Topic3\", \"Topic3\", \"Topic3\", \"Topic3\", \"Topic3\", \"Topic3\", \"Topic3\", \"Topic3\", \"Topic3\", \"Topic3\", \"Topic3\", \"Topic3\", \"Topic3\", \"Topic3\", \"Topic3\", \"Topic3\", \"Topic3\", \"Topic3\", \"Topic3\", \"Topic3\", \"Topic3\", \"Topic3\", \"Topic3\", \"Topic3\", \"Topic3\", \"Topic3\", \"Topic3\", \"Topic3\", \"Topic3\", \"Topic3\", \"Topic3\", \"Topic3\", \"Topic3\", \"Topic3\", \"Topic3\", \"Topic3\", \"Topic3\", \"Topic3\", \"Topic3\", \"Topic3\", \"Topic3\", \"Topic3\", \"Topic3\", \"Topic3\", \"Topic3\", \"Topic3\", \"Topic3\", \"Topic3\", \"Topic3\", \"Topic3\", \"Topic3\", \"Topic3\", \"Topic3\", \"Topic3\", \"Topic3\", \"Topic3\", \"Topic3\", \"Topic3\", \"Topic3\", \"Topic3\", \"Topic4\", \"Topic4\", \"Topic4\", \"Topic4\", \"Topic4\", \"Topic4\", \"Topic4\", \"Topic4\", \"Topic4\", \"Topic4\", \"Topic4\", \"Topic4\", \"Topic4\", \"Topic4\", \"Topic4\", \"Topic4\", \"Topic4\", \"Topic4\", \"Topic4\", \"Topic4\", \"Topic4\", \"Topic4\", \"Topic4\", \"Topic4\", \"Topic4\", \"Topic4\", \"Topic4\", \"Topic4\", \"Topic4\", \"Topic4\", \"Topic4\", \"Topic4\", \"Topic4\", \"Topic4\", \"Topic4\", \"Topic4\", \"Topic4\", \"Topic4\", \"Topic4\", \"Topic4\", \"Topic4\", \"Topic4\", \"Topic4\", \"Topic4\", \"Topic4\", \"Topic4\", \"Topic4\", \"Topic4\", \"Topic4\", \"Topic4\", \"Topic4\", \"Topic4\", \"Topic4\", \"Topic4\", \"Topic4\", \"Topic4\", \"Topic4\", \"Topic4\", \"Topic4\", \"Topic4\", \"Topic4\", \"Topic4\", \"Topic4\", \"Topic4\", \"Topic4\", \"Topic4\", \"Topic4\", \"Topic4\", \"Topic4\", \"Topic4\", \"Topic4\", \"Topic4\", \"Topic4\", \"Topic4\", \"Topic4\", \"Topic4\", \"Topic4\", \"Topic4\", \"Topic4\", \"Topic4\", \"Topic4\", \"Topic4\", \"Topic4\", \"Topic5\", \"Topic5\", \"Topic5\", \"Topic5\", \"Topic5\", \"Topic5\", \"Topic5\", \"Topic5\", \"Topic5\", \"Topic5\", \"Topic5\", \"Topic5\", \"Topic5\", \"Topic5\", \"Topic5\", \"Topic5\", \"Topic5\", \"Topic5\", \"Topic5\", \"Topic5\", \"Topic5\", \"Topic5\", \"Topic5\", \"Topic5\", \"Topic5\", \"Topic5\", \"Topic5\", \"Topic5\", \"Topic5\", \"Topic5\", \"Topic5\", \"Topic5\", \"Topic5\", \"Topic5\", \"Topic5\", \"Topic5\", \"Topic5\", \"Topic5\", \"Topic5\", \"Topic5\", \"Topic5\", \"Topic5\", \"Topic5\", \"Topic5\", \"Topic5\", \"Topic5\", \"Topic5\", \"Topic5\", \"Topic5\", \"Topic5\", \"Topic5\", \"Topic5\", \"Topic5\", \"Topic5\", \"Topic5\", \"Topic5\", \"Topic5\", \"Topic5\", \"Topic5\", \"Topic5\", \"Topic5\", \"Topic5\", \"Topic5\", \"Topic5\", \"Topic5\", \"Topic5\", \"Topic5\", \"Topic5\", \"Topic5\", \"Topic5\"], \"logprob\": [30.0, 29.0, 28.0, 27.0, 26.0, 25.0, 24.0, 23.0, 22.0, 21.0, 20.0, 19.0, 18.0, 17.0, 16.0, 15.0, 14.0, 13.0, 12.0, 11.0, 10.0, 9.0, 8.0, 7.0, 6.0, 5.0, 4.0, 3.0, 2.0, 1.0, -5.7717, -7.2339, -7.4181, -6.7105, -6.5388, -6.5656, -7.6108, -8.0122, -8.269, -7.1658, -8.4265, -8.427, -6.9368, -5.0639, -7.5075, -8.0821, -8.5165, -7.8517, -8.4499, -7.5243, -8.4364, -8.6641, -8.363, -8.539, -8.8258, -8.8258, -8.8264, -8.7929, -7.9557, -8.2798, -5.9344, -7.3209, -7.5221, -6.0123, -5.7295, -7.6181, -5.5687, -4.3823, -5.0969, -5.4087, -6.038, -5.9413, -4.9766, -4.2735, -7.1859, -3.7731, -6.3534, -6.592, -5.6525, -6.4392, -6.5795, -5.1703, -5.9181, -6.166, -5.8946, -5.0605, -4.1236, -5.8739, -5.8393, -4.5487, -5.2936, -5.2983, -4.0356, -5.4641, -6.0148, -4.6752, -5.1098, -5.7038, -5.6062, -5.2674, -5.2115, -4.8441, -5.4049, -5.246, -5.3151, -5.3409, -5.4209, -5.1165, -5.4567, -5.5322, -5.571, -5.2235, -6.7412, -6.4739, -7.9071, -7.2288, -7.2444, -8.0983, -5.509, -7.4647, -7.3131, -7.6716, -6.5417, -6.9086, -6.6538, -6.5323, -8.0768, -8.1955, -8.2406, -5.8654, -8.5151, -7.153, -7.9728, -8.4978, -8.4978, -8.4712, -8.343, -8.5243, -8.6101, -8.5868, -8.7655, -5.5171, -7.0669, -6.5951, -7.1891, -7.3753, -7.5609, -7.5868, -6.2301, -6.4454, -6.8242, -4.8185, -6.5299, -3.5285, -6.3257, -5.4036, -6.3249, -6.4003, -6.1533, -6.7408, -6.0254, -5.9022, -4.8823, -5.4348, -5.6471, -5.6911, -5.6376, -5.5404, -6.0822, -5.5118, -5.4237, -5.5352, -5.8017, -5.3672, -4.9879, -4.5684, -5.089, -5.4408, -5.0963, -5.1217, -4.6802, -5.1564, -5.3515, -5.1431, -5.4158, -4.6074, -5.3547, -5.3086, -5.1247, -5.1608, -5.4132, -5.4171, -6.9646, -7.0854, -8.0133, -7.9112, -7.5045, -8.0281, -8.1967, -8.2236, -8.0506, -8.074, -7.5761, -8.4295, -7.2575, -8.275, -8.0124, -7.5768, -7.6768, -8.4098, -7.003, -8.5853, -8.316, -7.3497, -8.5699, -8.5712, -8.6526, -8.4036, -8.2589, -6.7489, -8.7537, -8.5601, -7.9136, -7.7613, -6.583, -8.065, -7.469, -7.6772, -5.385, -6.7873, -5.5404, -4.2623, -7.4741, -7.4649, -7.1242, -7.1274, -6.69, -6.2962, -7.3047, -6.6789, -7.2024, -6.3858, -7.4786, -6.8971, -5.4065, -6.3247, -6.7404, -5.0487, -6.2736, -5.985, -6.7337, -6.6403, -6.5206, -6.7667, -5.9435, -3.7952, -5.1587, -6.1173, -5.858, -5.6797, -6.4593, -6.012, -5.6814, -5.5431, -5.1337, -6.3611, -5.8382, -4.887, -5.839, -5.7692, -6.06, -5.8025, -6.2587, -5.8626, -5.7979, -5.618, -5.9424, -5.8905, -5.7651, -6.0769, -6.092, -6.0585, -6.0794, -7.0223, -5.7802, -6.4121, -7.5797, -6.9975, -7.6666, -6.316, -7.7259, -7.5717, -7.7282, -7.7247, -7.9001, -7.6359, -7.947, -5.9436, -7.9516, -7.9842, -8.1263, -7.5378, -8.0553, -7.8784, -8.2985, -8.253, -8.0796, -8.2142, -8.2145, -8.3452, -8.3576, -8.3918, -8.3103, -7.7195, -6.7841, -7.9324, -7.3131, -6.8855, -7.3478, -7.1581, -6.2113, -7.4753, -6.0483, -6.055, -6.6586, -7.1081, -7.2325, -6.5627, -6.5395, -6.6315, -6.8906, -6.0888, -6.5927, -7.1041, -6.3411, -5.2366, -5.9949, -4.0361, -5.7687, -6.6987, -4.5932, -4.5898, -6.1478, -5.4987, -5.871, -5.4506, -5.9161, -5.64, -5.4151, -6.1492, -5.5288, -5.9013, -5.8421, -5.8532, -6.0739, -5.6917, -6.19, -5.7629, -5.9394, -5.9915, -5.6893, -6.0279, -5.7787, -5.8078, -6.0471, -6.0651, -7.3843, -6.2731, -6.3752, -7.2687, -7.1146, -7.4759, -6.5325, -7.4434, -7.6481, -5.5133, -6.5244, -7.514, -6.2398, -6.0147, -7.7988, -7.5977, -7.8427, -6.3133, -7.3606, -7.5219, -7.4881, -6.8531, -6.9374, -7.8535, -6.7508, -7.1853, -7.8146, -7.2269, -7.7914, -7.725, -7.3676, -7.4139, -5.1258, -6.0683, -5.2166, -4.9606, -7.1014, -6.2238, -5.0633, -5.7562, -6.2516, -5.1459, -6.741, -5.1369, -5.7018, -6.2732, -5.1328, -6.0366, -5.6779, -5.0596, -5.6221, -5.5061, -5.7536, -5.1391, -5.9381, -4.8193, -5.7299, -5.1809, -5.4399, -5.2894, -4.8492, -5.2466, -5.3575, -5.224, -5.5081, -5.7805, -5.6933, -5.5466, -5.5473, -5.6862], \"loglift\": [30.0, 29.0, 28.0, 27.0, 26.0, 25.0, 24.0, 23.0, 22.0, 21.0, 20.0, 19.0, 18.0, 17.0, 16.0, 15.0, 14.0, 13.0, 12.0, 11.0, 10.0, 9.0, 8.0, 7.0, 6.0, 5.0, 4.0, 3.0, 2.0, 1.0, 0.9636, 0.9583, 0.9567, 0.9538, 0.9528, 0.9518, 0.9505, 0.9501, 0.9493, 0.9492, 0.9482, 0.948, 0.9474, 0.9466, 0.9464, 0.946, 0.9457, 0.945, 0.9435, 0.9424, 0.9423, 0.9417, 0.9411, 0.9405, 0.9397, 0.9396, 0.9396, 0.9395, 0.9392, 0.9387, 0.9238, 0.9356, 0.9339, 0.9174, 0.9143, 0.9319, 0.9091, 0.8818, 0.8855, 0.889, 0.8997, 0.8927, 0.8599, 0.8296, 0.9193, 0.7881, 0.8918, 0.8936, 0.8445, 0.875, 0.8752, 0.7689, 0.8047, 0.8271, 0.7962, 0.7135, 0.5569, 0.7867, 0.7648, 0.4955, 0.6249, 0.6014, 0.1303, 0.5573, 0.7378, 0.1588, 0.2509, 0.5683, 0.5077, 0.2827, 0.2297, -0.0811, 0.3741, 0.1957, 0.1361, 0.0534, 0.0551, -0.8543, -0.0029, -0.035, -0.059, 0.9622, 0.9616, 0.9593, 0.9553, 0.9543, 0.954, 0.9523, 0.9514, 0.9512, 0.9494, 0.9473, 0.947, 0.9468, 0.9467, 0.946, 0.9456, 0.9455, 0.9455, 0.9447, 0.9446, 0.9445, 0.9444, 0.9442, 0.9441, 0.9441, 0.9433, 0.9431, 0.941, 0.9405, 0.9398, 0.9359, 0.9395, 0.9335, 0.9322, 0.9298, 0.9312, 0.9266, 0.8975, 0.8957, 0.9074, 0.8382, 0.8874, 0.7337, 0.8696, 0.8024, 0.855, 0.8597, 0.8432, 0.8764, 0.8133, 0.7928, 0.6738, 0.7234, 0.7347, 0.7364, 0.7161, 0.6933, 0.7809, 0.6699, 0.6339, 0.6289, 0.6906, 0.5431, 0.4064, 0.2656, 0.3871, 0.5047, 0.3575, 0.3334, 0.0828, 0.2847, 0.3577, 0.2176, 0.3876, -0.4415, 0.1954, 0.1426, -0.0805, -0.4803, 0.0988, 0.0247, 1.8203, 1.8187, 1.8059, 1.8058, 1.8056, 1.8014, 1.7942, 1.7935, 1.7919, 1.7918, 1.7916, 1.7846, 1.7831, 1.7819, 1.7803, 1.7801, 1.7787, 1.7784, 1.7742, 1.774, 1.7729, 1.7684, 1.767, 1.7652, 1.7651, 1.7636, 1.763, 1.7618, 1.7584, 1.7581, 1.7577, 1.755, 1.7299, 1.7563, 1.7391, 1.7425, 1.6495, 1.6967, 1.6286, 1.5416, 1.7257, 1.7241, 1.6959, 1.6923, 1.6477, 1.5978, 1.6942, 1.6149, 1.6808, 1.5668, 1.7142, 1.6038, 1.3162, 1.4828, 1.5678, 1.1801, 1.4478, 1.3721, 1.5546, 1.5176, 1.4544, 1.5284, 1.235, 0.3706, 0.8715, 1.2597, 1.1368, 1.0357, 1.383, 1.1154, 0.8611, 0.6734, 0.3634, 1.2689, 0.8358, -0.124, 0.7278, 0.624, 0.8999, 0.4659, 1.0722, 0.3962, 0.2404, -0.106, 0.2459, 0.0593, -1.5029, -0.001, -0.0984, -0.6167, -0.6282, 2.4293, 2.4254, 2.4223, 2.4113, 2.4109, 2.404, 2.4036, 2.4027, 2.3962, 2.3958, 2.389, 2.3872, 2.3863, 2.3846, 2.3834, 2.3789, 2.3764, 2.3757, 2.3752, 2.3724, 2.36, 2.3599, 2.3578, 2.3563, 2.3557, 2.3557, 2.3534, 2.3522, 2.3511, 2.348, 2.3365, 2.314, 2.3346, 2.308, 2.2741, 2.2864, 2.2555, 2.1618, 2.284, 2.088, 2.0854, 2.1693, 2.2141, 2.2224, 2.054, 2.0372, 2.0142, 2.0877, 1.8343, 1.9818, 2.1519, 1.8199, 1.1271, 1.3821, 0.1298, 1.2033, 1.7677, 0.1698, 0.0907, 1.2094, 0.4949, 0.8683, 0.3533, 0.8576, 0.3902, 0.04, 1.0494, -0.0168, 0.5745, 0.3745, 0.3756, 0.8044, -0.2499, 1.0695, -0.2658, 0.2489, 0.4017, -1.1281, 0.5383, -0.9447, -1.5456, 0.2213, -0.6139, 5.0856, 4.9957, 4.9907, 4.9075, 4.8941, 4.8783, 4.858, 4.833, 4.8198, 4.8051, 4.7897, 4.7748, 4.7723, 4.7524, 4.7348, 4.7187, 4.7172, 4.7079, 4.7066, 4.6722, 4.6587, 4.6381, 4.6266, 4.6258, 4.619, 4.6108, 4.5913, 4.584, 4.5732, 4.571, 4.5649, 4.5657, 4.4355, 4.4446, 4.0657, 3.8503, 4.4761, 4.1465, 3.6862, 3.8818, 4.0799, 3.5437, 4.2982, 3.3483, 3.5951, 3.9747, 3.179, 3.7949, 3.3775, 2.7829, 3.2093, 3.0684, 3.3345, 2.4208, 3.433, 1.3572, 2.7809, 1.2122, 1.4699, 0.979, -0.6833, 0.5573, 0.9421, -0.461, 0.8202, 2.1248, 1.4341, 0.2324, -0.1055, -0.1742]}, \"token.table\": {\"Topic\": [1, 2, 3, 4, 1, 1, 4, 4, 1, 2, 3, 3, 1, 2, 2, 4, 3, 1, 2, 3, 2, 2, 3, 1, 3, 2, 3, 2, 1, 3, 1, 2, 1, 3, 2, 2, 3, 4, 1, 2, 2, 1, 3, 4, 1, 2, 3, 4, 1, 2, 1, 1, 3, 1, 2, 1, 2, 3, 4, 2, 2, 1, 2, 3, 4, 3, 2, 1, 2, 2, 4, 1, 1, 3, 2, 3, 4, 2, 3, 2, 2, 1, 2, 3, 2, 1, 2, 2, 2, 1, 2, 1, 2, 4, 1, 2, 1, 2, 3, 2, 1, 2, 3, 4, 1, 2, 3, 4, 1, 2, 3, 4, 1, 2, 1, 2, 1, 2, 3, 1, 2, 1, 2, 3, 2, 1, 2, 3, 4, 1, 2, 3, 2, 1, 2, 3, 4, 1, 2, 3, 4, 1, 2, 4, 3, 1, 4, 1, 2, 3, 4, 3, 1, 2, 1, 2, 1, 2, 1, 2, 3, 4, 1, 2, 3, 4, 3, 1, 2, 1, 2, 3, 1, 3, 4, 4, 1, 1, 2, 1, 2, 3, 4, 2, 1, 2, 3, 1, 2, 3, 3, 1, 2, 1, 2, 3, 4, 1, 2, 1, 2, 3, 4, 1, 2, 1, 1, 2, 3, 1, 2, 1, 2, 3, 4, 2, 1, 2, 3, 4, 1, 2, 3, 1, 2, 3, 4, 1, 2, 3, 4, 2, 1, 2, 3, 4, 1, 2, 3, 4, 1, 2, 3, 4, 2, 2, 3, 1, 2, 3, 1, 1, 2, 3, 1, 2, 3, 1, 2, 3, 4, 1, 2, 1, 2, 3, 4, 1, 2, 3, 1, 4, 3, 1, 1, 2, 1, 2, 3, 4, 1, 2, 3, 4, 2, 1, 1, 2, 3, 2, 1, 2, 3, 4, 1, 2, 3, 4, 3, 1, 2, 3, 4, 1, 1, 2, 4, 1, 1, 2, 3, 4, 2, 1, 2, 3, 1, 2, 3, 4, 1, 2, 3, 4, 4, 1, 4, 3, 1, 2, 1, 2, 3, 1, 2, 3, 1, 2, 3, 4, 1, 2, 1, 2, 3, 4, 1, 2, 4, 3, 3, 4, 1, 2, 3, 1, 1, 2, 4, 1, 2, 2, 1, 1, 2, 3, 4, 1, 2, 1, 2, 3, 3, 1, 2, 4, 1, 1, 2, 3, 1, 4, 2, 2, 1, 2, 1, 1, 1, 2, 3, 4, 1, 2, 3, 3, 1, 2, 3, 4, 2, 3, 3, 1, 2, 3, 4, 4, 1, 2, 3, 2, 1, 2, 4, 1, 1, 2, 3, 4, 1, 2, 3, 4, 2, 2], \"Freq\": [0.42472322486386027, 0.3397785798910882, 0.1698892899455441, 0.08494464497277204, 1.5229199401195475, 0.8993156192705604, 1.033387063060877, 0.9275156218520958, 1.2904222889712982, 0.7849928695862769, 0.22428367702465055, 0.7954708702016832, 0.8642653561911117, 0.14404422603185194, 0.6567797443476897, 1.1946415582279397, 1.4367774325648537, 0.24541951262476464, 0.49083902524952927, 0.16361300841650978, 0.7892973652164614, 1.0802785432517108, 1.779700861806672, 1.0497049979700748, 1.4071324950730655, 1.3781508613549933, 0.5232213517986858, 1.0069448839004014, 0.8463130311140235, 0.815530850365207, 1.005448461290584, 1.1594034699608702, 1.077151195409533, 1.265534520780084, 1.8209401347757623, 0.8850198736250863, 0.8806015934361673, 0.8448723259839545, 0.9159236615023999, 0.9516730974465806, 0.8327646698461318, 1.3052743927021244, 0.6117657283500337, 0.30588286417501687, 0.24309684455117248, 0.24309684455117248, 0.48619368910234495, 0.24309684455117248, 0.8110409101417451, 0.16220818202834902, 0.9542920977350001, 1.0198186810006749, 0.7804659666316334, 0.1866456436376604, 0.7465825745506416, 0.38011803224590557, 0.38011803224590557, 0.1267060107486352, 0.1267060107486352, 0.7804948025456907, 0.8817271597464106, 0.162182790554206, 0.162182790554206, 0.648731162216824, 0.162182790554206, 1.6469328423265832, 0.7563877059273152, 0.31425287005309976, 0.6285057401061995, 0.8643713677083656, 1.339974356220141, 0.954684483131779, 1.0117588846575227, 1.275242072321952, 0.12942629070115105, 0.7118445988563309, 0.12942629070115105, 0.4968567245586125, 0.4968567245586125, 0.7686052408956194, 1.9047589493641424, 0.8887580790040159, 0.7802817920442613, 0.9439496871394413, 0.9745404938611137, 0.7855165672885375, 0.1571033134577075, 0.9725812949240212, 1.6634259586185798, 0.4527765377495167, 0.5821412628208072, 0.6357362815244003, 0.3330047188937335, 0.030273156263066682, 0.9063655122628328, 1.0357504061053457, 0.7621279356850006, 0.1524255871370001, 0.5291971723154829, 1.2827038730085178, 0.4160809460438391, 0.2773872973625594, 0.1386936486812797, 0.1386936486812797, 0.3743699063355065, 0.3743699063355065, 0.1497479625342026, 0.0748739812671013, 0.38093864467141736, 0.3333213140874902, 0.23808665291963588, 0.04761733058392717, 0.7256905721259258, 0.29027622885037035, 0.3526235278938363, 0.5289352918407544, 0.18555123759347472, 0.7422049503738989, 0.09277561879673736, 0.9052777582108907, 0.0754398131842409, 0.985524864069687, 1.089247386820136, 0.5547995961623237, 1.45585907488424, 0.2558406661974252, 0.2558406661974252, 0.5116813323948504, 0.666721068717405, 0.7536391555964516, 0.1884097888991129, 0.06280326296637097, 0.8531422243992907, 0.4340539277243404, 0.4340539277243404, 0.1085134819310851, 0.1085134819310851, 0.2708843446920176, 0.2708843446920176, 0.40632651703802636, 0.1354421723460088, 0.34134443110265994, 0.5120166466539899, 0.17067221555132997, 0.9599625658688724, 0.8317303205244971, 1.0356445429680594, 0.24345121426580357, 0.24345121426580357, 0.4057520237763393, 0.16230080951053572, 0.969536735426796, 0.8669470113501592, 0.12843659427409765, 0.2414788382099726, 0.8451759337349041, 0.643477391182833, 0.24130402169356238, 0.5681041881228093, 0.31561343784600515, 0.06312268756920103, 0.06312268756920103, 0.6201133880726496, 0.2067044626908832, 0.1033522313454416, 0.683398665422622, 1.320943181265082, 0.8356197404956079, 0.1671239480991216, 0.712203851594552, 0.2136611554783656, 0.0712203851594552, 0.40185542481398495, 0.40185542481398495, 1.0779451918502925, 0.6694035430775663, 0.9278050891991236, 0.2525613961867472, 0.7576841885602417, 0.3869787178579546, 0.5417702050011365, 0.07739574357159093, 0.07739574357159093, 0.9721334302901834, 0.20398328598777288, 0.5099582149694322, 0.20398328598777288, 0.21593738165874607, 0.6478121449762382, 0.07197912721958202, 1.3206025280070766, 0.15775714957051998, 0.7887857478525999, 0.45304387386801526, 0.22652193693400763, 0.11326096846700381, 0.22652193693400763, 0.4952772582144864, 0.4952772582144864, 0.3757265031894983, 0.46965812898687287, 0.09393162579737457, 0.09393162579737457, 0.2502126883172943, 0.750638064951883, 0.9178958932730561, 0.5021101624199359, 0.4518991461779423, 0.05021101624199359, 0.8501479395228265, 0.21253698488070663, 0.37899490556711407, 0.37899490556711407, 0.18949745278355704, 0.18949745278355704, 0.9907108790976534, 0.09897711011497369, 0.2969313303449211, 0.4948855505748685, 0.09897711011497369, 0.2236788142678803, 0.5964768380476808, 0.1491192095119202, 0.23330954790955624, 0.34996432186433435, 0.34996432186433435, 0.11665477395477812, 0.36477954119633704, 0.5471693117945056, 0.04559744264954213, 0.04559744264954213, 0.9106929069776717, 0.20811847655564808, 0.20811847655564808, 0.20811847655564808, 0.20811847655564808, 0.27756930971794014, 0.27756930971794014, 0.27756930971794014, 0.13878465485897007, 0.39114379843834757, 0.31291503875067805, 0.15645751937533903, 0.15645751937533903, 0.9981582164144669, 0.9030884803724237, 0.7917061539885231, 0.11533129771468531, 0.8073190840027972, 0.11533129771468531, 0.9285916922817214, 0.30895199270431967, 0.30895199270431967, 0.30895199270431967, 0.18883319662255532, 0.7553327864902213, 0.09441659831127766, 0.29796977125602975, 0.29796977125602975, 0.5959395425120595, 0.29796977125602975, 0.4482497004337171, 0.4482497004337171, 0.45053195311116917, 0.4054787578000522, 0.09010639062223383, 0.045053195311116914, 0.6175667900263886, 0.2646714814398808, 0.08822382714662694, 0.7518222030245132, 0.7145187175850097, 0.781469594612049, 1.626357977482753, 0.4196024816886017, 0.5594699755848023, 0.41188437331006944, 0.20594218665503472, 0.20594218665503472, 0.10297109332751736, 0.44162191481377516, 0.49069101645975016, 0.02453455082298751, 0.02453455082298751, 1.1709976486455662, 1.4236013871525335, 0.4112356236287323, 0.20561781181436614, 0.4112356236287323, 1.0466506792034511, 0.3196118549535548, 0.5479060370632368, 0.045658836421936404, 0.09131767284387281, 0.45478259302697055, 0.45478259302697055, 0.09095651860539411, 0.045478259302697055, 0.7761937159300811, 0.2933178897655368, 0.2933178897655368, 0.2933178897655368, 0.0977726299218456, 0.8790543446383049, 0.8403879451662325, 0.13072701369252507, 0.018675287670360724, 0.7050023076913863, 0.38019512045478837, 0.28514634034109126, 0.19009756022739419, 0.09504878011369709, 0.9901878756469408, 0.9283949452374299, 0.0773662454364525, 0.5674102257971279, 0.16619282492123874, 0.789415918375884, 0.041548206230309685, 0.013849402076769895, 0.2774206442265032, 0.2774206442265032, 0.2774206442265032, 0.2774206442265032, 0.8067790230971739, 0.5387037887839429, 0.5387037887839429, 1.5796424313188966, 0.096738082004485, 0.870642738040365, 0.12882182259458674, 0.7729309355675203, 0.12882182259458674, 0.21289503071479138, 0.21289503071479138, 0.42579006142958276, 0.6523654218332007, 0.2314845045214583, 0.021044045865587117, 0.08417618346234847, 0.9058661949874972, 0.1294094564267853, 0.494706714457685, 0.16490223815256166, 0.16490223815256166, 0.16490223815256166, 0.8690804062340908, 0.0668523389410839, 0.0668523389410839, 0.7603140828985355, 0.6240407872866578, 0.3120203936433289, 0.055856241795884665, 0.8936998687341546, 0.055856241795884665, 1.043472075764719, 0.38669789739687643, 0.558563629573266, 0.042966433044097384, 0.3746709813749733, 0.3746709813749733, 0.7093984047959447, 0.9975180050987014, 0.4276436195622633, 0.23897731681420598, 0.2263995632976688, 0.10062202813229724, 0.3911443049840864, 0.3911443049840864, 0.16100101669563394, 0.3220020333912679, 0.4830030500869018, 0.4798674499364794, 0.2610206978818829, 0.5220413957637658, 0.2610206978818829, 1.0362900080544497, 0.09946608000908136, 0.7957286400726509, 0.09946608000908136, 0.6462813033063746, 1.3313829018939614, 1.6171588415092601, 0.6986339182486686, 0.18445198320968284, 0.7378079328387314, 0.8205024485506263, 1.008266856399021, 0.3383163753975146, 0.4349781969396616, 0.14499273231322055, 0.09666182154214703, 0.8149277022980055, 0.07408433657254596, 0.07408433657254596, 0.6812980259555841, 0.3187342723113777, 0.42497902974850355, 0.21248951487425177, 0.10624475743712589, 0.2215349735225614, 0.8861398940902456, 0.7946319722117746, 0.3280068952575927, 0.4373425270101236, 0.1093356317525309, 0.1093356317525309, 1.1095798842338465, 0.3531791553785179, 0.5297687330677768, 0.05886319256308632, 0.8896345201116465, 0.4985243136805635, 0.4569806208738499, 0.04154369280671363, 0.4969782505133375, 0.4499480204196824, 0.3374610153147618, 0.1124870051049206, 0.1124870051049206, 0.34278848444744014, 0.4113461813369282, 0.13711539377897605, 0.09141026251931737, 0.9480286568033943, 0.7934466629357763], \"Term\": [\"-\", \"-\", \"-\", \"-\", \"Algeria\", \"Arabia\", \"Association\", \"Authority\", \"Baker\", \"Bank\", \"Bank\", \"Board\", \"Brent\", \"Brent\", \"Brexit\", \"CNG\", \"CPEC\", \"China\", \"China\", \"China\", \"Clinton\", \"Composite\", \"Corridor\", \"Countries\", \"Cricket\", \"DOWN\", \"Dar\", \"Dow\", \"EIA\", \"Economic\", \"Energy\", \"England\", \"Exporting\", \"FBR\", \"FTSE\", \"Fed\", \"Finance\", \"Gas\", \"Gladiators\", \"Gold\", \"Hong\", \"IEA\", \"ISLAMABAD\", \"ISLAMABAD\", \"India\", \"India\", \"India\", \"India\", \"Intermediate\", \"Intermediate\", \"Iran\", \"Iran\\u00b4s\", \"Ishaq\", \"Japan\", \"Japan\", \"June\", \"June\", \"June\", \"June\", \"Kong\", \"MSCI\", \"Minister\", \"Minister\", \"Minister\", \"Minister\", \"Modi\", \"Nasdaq\", \"New\", \"New\", \"Nikkei\", \"OGRA\", \"OPEC\", \"Organization\", \"PCB\", \"Pakistan\", \"Pakistan\", \"Pakistan\", \"Prime\", \"Prime\", \"Reserve\", \"SPDR\", \"Saudi\", \"Shanghai\", \"Sharif\", \"Street\", \"Texas\", \"Texas\", \"Tokyo\", \"Topix\", \"U.S.\", \"U.S.\", \"US\", \"US\", \"US\", \"WTI\", \"Wall\", \"West\", \"West\", \"World\", \"Yellen\", \"accord\", \"accord\", \"accord\", \"accord\", \"add\", \"add\", \"add\", \"add\", \"also\", \"also\", \"also\", \"also\", \"analyst\", \"analyst\", \"back\", \"back\", \"bank\", \"bank\", \"bank\", \"barrel\", \"barrel\", \"bpd\", \"broad\", \"budget\", \"bullion\", \"business\", \"business\", \"business\", \"car\", \"cent\", \"cent\", \"cent\", \"central\", \"come\", \"come\", \"come\", \"come\", \"company\", \"company\", \"company\", \"company\", \"compare\", \"compare\", \"compare\", \"construction\", \"cosmetic\", \"cotton\", \"country\", \"country\", \"country\", \"country\", \"cricket\", \"crude\", \"crude\", \"currency\", \"currency\", \"cut\", \"cut\", \"day\", \"day\", \"day\", \"day\", \"deal\", \"deal\", \"deal\", \"decrease\", \"delegation\", \"delivery\", \"delivery\", \"demand\", \"demand\", \"demand\", \"development\", \"development\", \"diamond\", \"diesel\", \"disruption\", \"dollar\", \"dollar\", \"early\", \"early\", \"early\", \"early\", \"easing\", \"economic\", \"economic\", \"economic\", \"economy\", \"economy\", \"economy\", \"enhance\", \"euro\", \"euro\", \"export\", \"export\", \"export\", \"export\", \"fall\", \"fall\", \"first\", \"first\", \"first\", \"first\", \"gain\", \"gain\", \"gasoline\", \"global\", \"global\", \"global\", \"glut\", \"glut\", \"go\", \"go\", \"go\", \"go\", \"gold\", \"government\", \"government\", \"government\", \"government\", \"growth\", \"growth\", \"growth\", \"have\", \"have\", \"have\", \"have\", \"high\", \"high\", \"high\", \"high\", \"hike\", \"import\", \"import\", \"import\", \"import\", \"include\", \"include\", \"include\", \"include\", \"increase\", \"increase\", \"increase\", \"increase\", \"index\", \"inflation\", \"infrastructure\", \"interest\", \"interest\", \"interest\", \"inventory\", \"investment\", \"investment\", \"investment\", \"investor\", \"investor\", \"investor\", \"issue\", \"issue\", \"issue\", \"issue\", \"just\", \"just\", \"last\", \"last\", \"last\", \"last\", \"level\", \"level\", \"level\", \"lifting\", \"litre\", \"loan\", \"london\", \"low\", \"low\", \"make\", \"make\", \"make\", \"make\", \"market\", \"market\", \"market\", \"market\", \"metal\", \"mid-2014\", \"minister\", \"minister\", \"minister\", \"monetary\", \"month\", \"month\", \"month\", \"month\", \"more\", \"more\", \"more\", \"more\", \"national\", \"new\", \"new\", \"new\", \"new\", \"nuclear\", \"oil\", \"oil\", \"oil\", \"opec\", \"other\", \"other\", \"other\", \"other\", \"ounce\", \"output\", \"output\", \"pakistani\", \"percent\", \"percent\", \"percent\", \"percent\", \"period\", \"period\", \"period\", \"period\", \"petrol\", \"petroleum\", \"petroleum\", \"phone\", \"point\", \"point\", \"policy\", \"policy\", \"policy\", \"power\", \"power\", \"power\", \"price\", \"price\", \"price\", \"price\", \"producer\", \"producer\", \"product\", \"product\", \"product\", \"product\", \"production\", \"production\", \"production\", \"project\", \"r\", \"r\", \"rate\", \"rate\", \"rate\", \"rig\", \"rise\", \"rise\", \"rise\", \"run\", \"run\", \"s&amp;p\", \"sanction\", \"say\", \"say\", \"say\", \"say\", \"second\", \"second\", \"sector\", \"sector\", \"sector\", \"security\", \"sell\", \"sell\", \"sell\", \"shale\", \"share\", \"share\", \"share\", \"singapore\", \"station\", \"sterling\", \"stimulus\", \"stock\", \"stock\", \"stockpile\", \"storage\", \"strong\", \"strong\", \"strong\", \"strong\", \"supply\", \"supply\", \"supply\", \"system\", \"take\", \"take\", \"take\", \"take\", \"tax\", \"tax\", \"team\", \"time\", \"time\", \"time\", \"time\", \"tourism\", \"trade\", \"trade\", \"trade\", \"vote\", \"week\", \"week\", \"week\", \"win\", \"world\", \"world\", \"world\", \"world\", \"year\", \"year\", \"year\", \"year\", \"yen\", \"yield\"]}, \"R\": 30, \"lambda.step\": 0.01, \"plot.opts\": {\"xlab\": \"PC1\", \"ylab\": \"PC2\"}, \"topic.order\": [5, 1, 2, 4, 3]};\n",
       "\n",
       "function LDAvis_load_lib(url, callback){\n",
       "  var s = document.createElement('script');\n",
       "  s.src = url;\n",
       "  s.async = true;\n",
       "  s.onreadystatechange = s.onload = callback;\n",
       "  s.onerror = function(){console.warn(\"failed to load library \" + url);};\n",
       "  document.getElementsByTagName(\"head\")[0].appendChild(s);\n",
       "}\n",
       "\n",
       "if(typeof(LDAvis) !== \"undefined\"){\n",
       "   // already loaded: just create the visualization\n",
       "   !function(LDAvis){\n",
       "       new LDAvis(\"#\" + \"ldavis_el214751401579547507523975847682\", ldavis_el214751401579547507523975847682_data);\n",
       "   }(LDAvis);\n",
       "}else if(typeof define === \"function\" && define.amd){\n",
       "   // require.js is available: use it to load d3/LDAvis\n",
       "   require.config({paths: {d3: \"https://d3js.org/d3.v5\"}});\n",
       "   require([\"d3\"], function(d3){\n",
       "      window.d3 = d3;\n",
       "      LDAvis_load_lib(\"https://cdn.jsdelivr.net/gh/bmabey/pyLDAvis@3.3.1/pyLDAvis/js/ldavis.v3.0.0.js\", function(){\n",
       "        new LDAvis(\"#\" + \"ldavis_el214751401579547507523975847682\", ldavis_el214751401579547507523975847682_data);\n",
       "      });\n",
       "    });\n",
       "}else{\n",
       "    // require.js not available: dynamically load d3 & LDAvis\n",
       "    LDAvis_load_lib(\"https://d3js.org/d3.v5.js\", function(){\n",
       "         LDAvis_load_lib(\"https://cdn.jsdelivr.net/gh/bmabey/pyLDAvis@3.3.1/pyLDAvis/js/ldavis.v3.0.0.js\", function(){\n",
       "                 new LDAvis(\"#\" + \"ldavis_el214751401579547507523975847682\", ldavis_el214751401579547507523975847682_data);\n",
       "            })\n",
       "         });\n",
       "}\n",
       "</script>"
      ],
      "text/plain": [
       "<IPython.core.display.HTML object>"
      ]
     },
     "execution_count": 18,
     "metadata": {},
     "output_type": "execute_result"
    }
   ],
   "source": [
    "graph"
   ]
  },
  {
   "cell_type": "markdown",
   "id": "35710b8f",
   "metadata": {},
   "source": [
    "We can see from above that our model is not ideal in the first slice, since\n",
    "the two most important topics are overlaping with each other.\n",
    "\n",
    "To learn more about pyLdaVis, check out \n",
    "[their page](https://github.com/bmabey/pyLDAvis)."
   ]
  },
  {
   "cell_type": "markdown",
   "id": "a36be517",
   "metadata": {},
   "source": [
    "## Conclusion\n",
    "\n",
    "With this tutorial, you could see the basics of how to clear the text and how\n",
    "to run a basic model of topic modeling over time. As a sugestion, you can try \n",
    "to run other datasets or even try to run another model (for now we have Gensim's \n",
    "wrapper, LdaSeqModel)."
   ]
  }
 ],
 "metadata": {
  "kernelspec": {
   "display_name": "Python 3 (ipykernel)",
   "language": "python",
   "name": "python3"
  },
  "language_info": {
   "codemirror_mode": {
    "name": "ipython",
    "version": 3
   },
   "file_extension": ".py",
   "mimetype": "text/x-python",
   "name": "python",
   "nbconvert_exporter": "python",
   "pygments_lexer": "ipython3",
   "version": "3.10.6"
  }
 },
 "nbformat": 4,
 "nbformat_minor": 5
}
