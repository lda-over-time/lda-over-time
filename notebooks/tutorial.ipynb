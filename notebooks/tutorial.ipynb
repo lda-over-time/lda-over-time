{
 "cells": [
  {
   "cell_type": "markdown",
   "id": "2b5a69db",
   "metadata": {},
   "source": [
    "# LdaOverTime's Tutorial"
   ]
  },
  {
   "cell_type": "markdown",
   "id": "32660e71",
   "metadata": {},
   "source": [
    "## Introduction\n",
    "\n",
    "In this tutorial, we are exploring the basics of how to make a basic cleanning \n",
    "of our data and how to run the LdaOverTime tutorial.\n",
    "\n",
    "For even further information, you can check our API documentation."
   ]
  },
  {
   "cell_type": "markdown",
   "id": "3b77b183",
   "metadata": {},
   "source": [
    "## Dataset\n",
    "\n",
    "For this tutorial, we will be using the following [dataset](https://www.kaggle.com/datasets/asad1m9a9h6mood/news-articles)."
   ]
  },
  {
   "cell_type": "markdown",
   "id": "5feda440",
   "metadata": {},
   "source": [
    "## Importing\n",
    "\n",
    "Firstly, we are importing the main component of our library and then we are importing the model PrevalenceModel.\n",
    "\n",
    "The LdaOverTime is where you should interact with , it has all the values and methods that you will need, like\n",
    "the functionality of ploting the graph, show the results inside PyLdaVis and also to get the results in a \n",
    "table.\n",
    "\n",
    "PrevalenceModel is the simplest and also the fastest of our models. It consists of a simple LDA training\n",
    "followed by calculation of the proportions of main topics in each time slice. You can see that the topics's\n",
    "words do not change over time (with the method `get_topic_words`) and that is a limitation of this model.\n",
    "\n",
    "Another alternative model is LdaSeqModel, it is basically a wrapper of Gensim's and one advantage over\n",
    "PrevalenceModel is that it tracks the changes the topic's vocabulary over time, making it mode accurate. One disavantage is that it is slower. You can try exchanging the PrevalenceModel with it."
   ]
  },
  {
   "cell_type": "code",
   "execution_count": 1,
   "id": "712d9f8b",
   "metadata": {},
   "outputs": [
    {
     "name": "stderr",
     "output_type": "stream",
     "text": [
      "/home/oozaku/.local/share/hatch/env/virtual/lda-over-time-vJj5Sxd8/lda-over-time/lib/python3.10/site-packages/past/builtins/misc.py:45: DeprecationWarning: the imp module is deprecated in favour of importlib and slated for removal in Python 3.12; see the module's documentation for alternative uses\n",
      "  from imp import reload\n",
      "/home/oozaku/.local/share/hatch/env/virtual/lda-over-time-vJj5Sxd8/lda-over-time/lib/python3.10/site-packages/gensim/matutils.py:22: DeprecationWarning: Please use `triu` from the `scipy.linalg` namespace, the `scipy.linalg.special_matrices` namespace is deprecated.\n",
      "  from scipy.linalg.special_matrices import triu\n"
     ]
    }
   ],
   "source": [
    "from lda_over_time.lda_over_time import LdaOverTime\n",
    "from lda_over_time.models.prevalence_model import PrevalenceModel"
   ]
  },
  {
   "cell_type": "markdown",
   "id": "e0baa147",
   "metadata": {},
   "source": [
    "## Loading dataset\n",
    "\n",
    "Because this dataset seems to be encoded with latin-1, we are setting manually the \n",
    "encoding in Pandas' function."
   ]
  },
  {
   "cell_type": "code",
   "execution_count": 2,
   "id": "f0f00b2c",
   "metadata": {},
   "outputs": [],
   "source": [
    "import pandas as pd"
   ]
  },
  {
   "cell_type": "code",
   "execution_count": 3,
   "id": "14cd1c57",
   "metadata": {},
   "outputs": [],
   "source": [
    "articles_path = \"./Articles.csv\"\n",
    "\n",
    "data = pd.read_csv(\n",
    "    articles_path, \n",
    "    usecols=[\"Date\", \"Article\"], \n",
    "    encoding=\"latin-1\"\n",
    ")"
   ]
  },
  {
   "cell_type": "markdown",
   "id": "94d4c55c",
   "metadata": {},
   "source": [
    "## Preprocessing\n",
    "\n",
    "LdaOverTime does not have a module to filter or to clean your texts, so you will have to clear you dataset's\n",
    "texts by yourselve. Luckily, there are good libraries that can help you, we will be using the \n",
    "spaCy [1].\n",
    "\n",
    "[1] Honnibal, M., Montani, I., Van Landeghem, S., & Boyd, A. (2020). spaCy: Industrial-strength Natural Language Processing in Python. https://doi.org/10.5281/zenodo.1212303"
   ]
  },
  {
   "cell_type": "markdown",
   "id": "edb68775",
   "metadata": {},
   "source": [
    "### Installing library and English module\n",
    "\n",
    "Uncomment to install!"
   ]
  },
  {
   "cell_type": "code",
   "execution_count": null,
   "id": "32cdf8b1",
   "metadata": {
    "scrolled": false
   },
   "outputs": [],
   "source": [
    "# install libraries\n",
    "#! pip install spacy"
   ]
  },
  {
   "cell_type": "code",
   "execution_count": null,
   "id": "5febe2a1",
   "metadata": {},
   "outputs": [],
   "source": [
    "# install spaCy's English module\n",
    "#! python -m spacy download en_core_web_sm"
   ]
  },
  {
   "cell_type": "code",
   "execution_count": 4,
   "id": "7ccb2439",
   "metadata": {},
   "outputs": [],
   "source": [
    "import spacy\n",
    "\n",
    "nlp = spacy.load(\"en_core_web_sm\")"
   ]
  },
  {
   "cell_type": "markdown",
   "id": "b3c739c1",
   "metadata": {},
   "source": [
    "### Cleanning each text"
   ]
  },
  {
   "cell_type": "markdown",
   "id": "561b8c89",
   "metadata": {},
   "source": [
    "For this example, we are considering that only nouns, adjectives, adverbs and verbs carry relevant meaning\n",
    "for our analysis.\n",
    "\n",
    "Another aspect is that we are using lemmatization to improve the final result. In brief, lemmatization\n",
    "transform the word to its basic form, e.g. \"be\", \"been\", \"was\" and \"were\" will all become \"be\"."
   ]
  },
  {
   "cell_type": "code",
   "execution_count": 5,
   "id": "706e2e0f",
   "metadata": {},
   "outputs": [],
   "source": [
    "filters = {\n",
    "    \"ADJ\": \"adjective\",\n",
    "    \"ADV\": \"adverb\",\n",
    "    \"NOUN\": \"noun\",\n",
    "    \"PROPN\": \"proper noun\",\n",
    "    \"VERB\": \"verb\",\n",
    "}"
   ]
  },
  {
   "cell_type": "code",
   "execution_count": 6,
   "id": "0ae94a46",
   "metadata": {},
   "outputs": [],
   "source": [
    "articles = data['Article']"
   ]
  },
  {
   "cell_type": "code",
   "execution_count": 7,
   "id": "b04b203c",
   "metadata": {},
   "outputs": [],
   "source": [
    "# it stores the clean articles\n",
    "clean_articles = []\n",
    "\n",
    "# clear each article\n",
    "for article in articles:\n",
    "    \n",
    "    # words that belongs to one of the chosen part of speeches\n",
    "    clean = []\n",
    "    \n",
    "    # filter and store all words from the chosen part of speech in their basic form\n",
    "    for word in nlp(article):\n",
    "        if word.pos_ in filters:\n",
    "            clean.append(word.lemma_)\n",
    "            \n",
    "    # append cleanned text\n",
    "    clean_articles.append(' '.join(clean))"
   ]
  },
  {
   "cell_type": "markdown",
   "id": "31696cb5",
   "metadata": {},
   "source": [
    "## Choosing a model and trainning it\n",
    "\n",
    "To run LdaOverTime, we instantiate the chosen model, in this example PrevalenceModel, and then we give this \n",
    "new object to our main library component LdaOverTime."
   ]
  },
  {
   "cell_type": "markdown",
   "id": "ffc80baf",
   "metadata": {},
   "source": [
    "### Instantiate chosen model\n",
    "\n",
    "In this example, we want to find 5 topics over the dataset and each timeslice has a length of one semester. \n",
    "Moreover, we found that the date format is MM/DD/YYYY:"
   ]
  },
  {
   "cell_type": "code",
   "execution_count": 8,
   "id": "8ad59224",
   "metadata": {},
   "outputs": [],
   "source": [
    "model = PrevalenceModel(\n",
    "    corpus = clean_articles,         # list texts to be analysed\n",
    "    dates = data[\"Date\"].values,     # dates of each article\n",
    "    date_format = \"%m/%d/%Y\",        # date format is MM/DD/YYYY\n",
    "    freq = \"6M\",                     # frequency of one semester\n",
    "    n_topics = 5,                    # we want to get 5 topics\n",
    ")"
   ]
  },
  {
   "cell_type": "markdown",
   "id": "97e89b16",
   "metadata": {},
   "source": [
    "### Call main component and train model\n",
    "\n",
    "Finally we can call our main component, LdaOverTime, and easily train our model."
   ]
  },
  {
   "cell_type": "code",
   "execution_count": 9,
   "id": "e9f1bdb2",
   "metadata": {},
   "outputs": [],
   "source": [
    "main = LdaOverTime(model)"
   ]
  },
  {
   "cell_type": "markdown",
   "id": "cbbdbd80",
   "metadata": {},
   "source": [
    "## Getting results\n",
    "\n",
    "After trainning the model, we can get the topic's words, plot the graph with \n",
    "the topics' evolution over time and also get this evolution in a table to\n",
    "even further analysis."
   ]
  },
  {
   "cell_type": "markdown",
   "id": "3fcf7a7f",
   "metadata": {},
   "source": [
    "### Get topic words\n",
    "\n",
    "Right bellow, we are printing the top 10 words for each topic, identified by numbers 1 to 5.\n",
    "From the words found, we can infer that the topics are: \n",
    "\n",
    "1. Trade\n",
    "2. World\n",
    "3. Sports\n",
    "4. Business\n",
    "5. Politics"
   ]
  },
  {
   "cell_type": "code",
   "execution_count": 10,
   "id": "587b70cd",
   "metadata": {},
   "outputs": [
    {
     "name": "stdout",
     "output_type": "stream",
     "text": [
      "['percent', 'market', 'say', 'year', 'dollar', 'rate', 'rise', 'high', 'week', 'US']\n",
      "['say', 'Pakistan', 'country', 'year', 'also', 'government', 'project', 'China', 'new', 'company']\n",
      "['say', 'first', 'match', 'win', 'test', 'team', 'play', 'England', 'have', 'wicket']\n",
      "['say', 'year', 'price', 'percent', 'month', 'increase', 'export', 'oil', 'last', 'strong']\n",
      "['oil', 'say', 'price', 'crude', 'barrel', 'market', 'US', 'OPEC', 'production', 'year']\n"
     ]
    }
   ],
   "source": [
    "for topic_id in range(1, 6):\n",
    "    print(\n",
    "        main.get_topic_words(\n",
    "            topic_id=topic_id,  # select which topic we want\n",
    "            timeslice=1,        # get the oldest time slice found in our trainning\n",
    "            n=10                # we want the top 10 words for each topic\n",
    "        )\n",
    "    )"
   ]
  },
  {
   "cell_type": "markdown",
   "id": "5feca701",
   "metadata": {},
   "source": [
    "### Plot\n",
    "\n"
   ]
  },
  {
   "cell_type": "code",
   "execution_count": 11,
   "id": "f8ae6d2c",
   "metadata": {},
   "outputs": [
    {
     "data": {
      "image/png": "[encoded data removed]",
      "text/plain": [
       "<Figure size 640x480 with 1 Axes>"
      ]
     },
     "metadata": {},
     "output_type": "display_data"
    }
   ],
   "source": [
    "main.plot(\n",
    "    title = 'Subjects Found',    # Plot's title\n",
    "    \n",
    "    legend_title=\"Subjects\",     # Legend's title\n",
    "    \n",
    "    topic_names=[                # Names for each topic, if not provided\n",
    "        \"Trade\",                 # it will display the top 10 words\n",
    "        \"World\", \n",
    "        \"Sports\", \n",
    "        \"Business\", \n",
    "        \"Politics\"\n",
    "    ],\n",
    "    \n",
    "    # path_to_save=\"./plot_of_news.png\",   # Set a location to save graph, default\n",
    "                                           # behaviour is to not save plot\n",
    "    \n",
    "    # display=True               # Set it to display graph, default behaviour is \n",
    "                                 # to display\n",
    ")"
   ]
  },
  {
   "cell_type": "markdown",
   "id": "4e1ce9f7",
   "metadata": {},
   "source": [
    "### Get table\n",
    "\n",
    "Finally, we extract the table with the results for further analysis\n",
    "and we also saw above how to extract each topic's top-n words."
   ]
  },
  {
   "cell_type": "code",
   "execution_count": 12,
   "id": "57e1a3f4",
   "metadata": {},
   "outputs": [
    {
     "data": {
      "text/html": [
       "<div>\n",
       "<style scoped>\n",
       "    .dataframe tbody tr th:only-of-type {\n",
       "        vertical-align: middle;\n",
       "    }\n",
       "\n",
       "    .dataframe tbody tr th {\n",
       "        vertical-align: top;\n",
       "    }\n",
       "\n",
       "    .dataframe thead th {\n",
       "        text-align: right;\n",
       "    }\n",
       "</style>\n",
       "<table border=\"1\" class=\"dataframe\">\n",
       "  <thead>\n",
       "    <tr style=\"text-align: right;\">\n",
       "      <th></th>\n",
       "      <th>1</th>\n",
       "      <th>2</th>\n",
       "      <th>3</th>\n",
       "      <th>4</th>\n",
       "      <th>5</th>\n",
       "      <th>date</th>\n",
       "    </tr>\n",
       "  </thead>\n",
       "  <tbody>\n",
       "    <tr>\n",
       "      <th>0</th>\n",
       "      <td>0.275862</td>\n",
       "      <td>0.172414</td>\n",
       "      <td>0.000000</td>\n",
       "      <td>0.241379</td>\n",
       "      <td>0.310345</td>\n",
       "      <td>2015-01-31</td>\n",
       "    </tr>\n",
       "    <tr>\n",
       "      <th>1</th>\n",
       "      <td>0.216080</td>\n",
       "      <td>0.361809</td>\n",
       "      <td>0.005025</td>\n",
       "      <td>0.180905</td>\n",
       "      <td>0.236181</td>\n",
       "      <td>2015-07-31</td>\n",
       "    </tr>\n",
       "    <tr>\n",
       "      <th>2</th>\n",
       "      <td>0.194842</td>\n",
       "      <td>0.203438</td>\n",
       "      <td>0.346705</td>\n",
       "      <td>0.100287</td>\n",
       "      <td>0.154728</td>\n",
       "      <td>2016-01-31</td>\n",
       "    </tr>\n",
       "    <tr>\n",
       "      <th>3</th>\n",
       "      <td>0.075330</td>\n",
       "      <td>0.094162</td>\n",
       "      <td>0.740741</td>\n",
       "      <td>0.049592</td>\n",
       "      <td>0.040176</td>\n",
       "      <td>2016-07-31</td>\n",
       "    </tr>\n",
       "    <tr>\n",
       "      <th>4</th>\n",
       "      <td>0.203540</td>\n",
       "      <td>0.362832</td>\n",
       "      <td>0.154867</td>\n",
       "      <td>0.150442</td>\n",
       "      <td>0.128319</td>\n",
       "      <td>2017-01-31</td>\n",
       "    </tr>\n",
       "    <tr>\n",
       "      <th>5</th>\n",
       "      <td>0.014286</td>\n",
       "      <td>0.557143</td>\n",
       "      <td>0.085714</td>\n",
       "      <td>0.214286</td>\n",
       "      <td>0.128571</td>\n",
       "      <td>2017-07-31</td>\n",
       "    </tr>\n",
       "  </tbody>\n",
       "</table>\n",
       "</div>"
      ],
      "text/plain": [
       "          1         2         3         4         5       date\n",
       "0  0.275862  0.172414  0.000000  0.241379  0.310345 2015-01-31\n",
       "1  0.216080  0.361809  0.005025  0.180905  0.236181 2015-07-31\n",
       "2  0.194842  0.203438  0.346705  0.100287  0.154728 2016-01-31\n",
       "3  0.075330  0.094162  0.740741  0.049592  0.040176 2016-07-31\n",
       "4  0.203540  0.362832  0.154867  0.150442  0.128319 2017-01-31\n",
       "5  0.014286  0.557143  0.085714  0.214286  0.128571 2017-07-31"
      ]
     },
     "execution_count": 12,
     "metadata": {},
     "output_type": "execute_result"
    }
   ],
   "source": [
    "main.get_results()"
   ]
  },
  {
   "cell_type": "markdown",
   "id": "280434d5",
   "metadata": {},
   "source": [
    "## Save your work\n",
    "\n",
    "We can save our current work with `save` and continue our last work with `load`: "
   ]
  },
  {
   "cell_type": "code",
   "execution_count": 13,
   "id": "f7cea289",
   "metadata": {},
   "outputs": [],
   "source": [
    "main.save('./my_work')"
   ]
  },
  {
   "cell_type": "code",
   "execution_count": 14,
   "id": "f96c8eb2",
   "metadata": {},
   "outputs": [],
   "source": [
    "loaded = LdaOverTime.load('./my_work')"
   ]
  },
  {
   "cell_type": "code",
   "execution_count": 15,
   "id": "ac4c4c71",
   "metadata": {},
   "outputs": [
    {
     "data": {
      "text/html": [
       "<div>\n",
       "<style scoped>\n",
       "    .dataframe tbody tr th:only-of-type {\n",
       "        vertical-align: middle;\n",
       "    }\n",
       "\n",
       "    .dataframe tbody tr th {\n",
       "        vertical-align: top;\n",
       "    }\n",
       "\n",
       "    .dataframe thead th {\n",
       "        text-align: right;\n",
       "    }\n",
       "</style>\n",
       "<table border=\"1\" class=\"dataframe\">\n",
       "  <thead>\n",
       "    <tr style=\"text-align: right;\">\n",
       "      <th></th>\n",
       "      <th>1</th>\n",
       "      <th>2</th>\n",
       "      <th>3</th>\n",
       "      <th>4</th>\n",
       "      <th>5</th>\n",
       "      <th>date</th>\n",
       "    </tr>\n",
       "  </thead>\n",
       "  <tbody>\n",
       "    <tr>\n",
       "      <th>0</th>\n",
       "      <td>0.275862</td>\n",
       "      <td>0.172414</td>\n",
       "      <td>0.000000</td>\n",
       "      <td>0.241379</td>\n",
       "      <td>0.310345</td>\n",
       "      <td>2015-01-31</td>\n",
       "    </tr>\n",
       "    <tr>\n",
       "      <th>1</th>\n",
       "      <td>0.216080</td>\n",
       "      <td>0.361809</td>\n",
       "      <td>0.005025</td>\n",
       "      <td>0.180905</td>\n",
       "      <td>0.236181</td>\n",
       "      <td>2015-07-31</td>\n",
       "    </tr>\n",
       "    <tr>\n",
       "      <th>2</th>\n",
       "      <td>0.194842</td>\n",
       "      <td>0.203438</td>\n",
       "      <td>0.346705</td>\n",
       "      <td>0.100287</td>\n",
       "      <td>0.154728</td>\n",
       "      <td>2016-01-31</td>\n",
       "    </tr>\n",
       "    <tr>\n",
       "      <th>3</th>\n",
       "      <td>0.075330</td>\n",
       "      <td>0.094162</td>\n",
       "      <td>0.740741</td>\n",
       "      <td>0.049592</td>\n",
       "      <td>0.040176</td>\n",
       "      <td>2016-07-31</td>\n",
       "    </tr>\n",
       "    <tr>\n",
       "      <th>4</th>\n",
       "      <td>0.203540</td>\n",
       "      <td>0.362832</td>\n",
       "      <td>0.154867</td>\n",
       "      <td>0.150442</td>\n",
       "      <td>0.128319</td>\n",
       "      <td>2017-01-31</td>\n",
       "    </tr>\n",
       "    <tr>\n",
       "      <th>5</th>\n",
       "      <td>0.014286</td>\n",
       "      <td>0.557143</td>\n",
       "      <td>0.085714</td>\n",
       "      <td>0.214286</td>\n",
       "      <td>0.128571</td>\n",
       "      <td>2017-07-31</td>\n",
       "    </tr>\n",
       "  </tbody>\n",
       "</table>\n",
       "</div>"
      ],
      "text/plain": [
       "          1         2         3         4         5       date\n",
       "0  0.275862  0.172414  0.000000  0.241379  0.310345 2015-01-31\n",
       "1  0.216080  0.361809  0.005025  0.180905  0.236181 2015-07-31\n",
       "2  0.194842  0.203438  0.346705  0.100287  0.154728 2016-01-31\n",
       "3  0.075330  0.094162  0.740741  0.049592  0.040176 2016-07-31\n",
       "4  0.203540  0.362832  0.154867  0.150442  0.128319 2017-01-31\n",
       "5  0.014286  0.557143  0.085714  0.214286  0.128571 2017-07-31"
      ]
     },
     "execution_count": 15,
     "metadata": {},
     "output_type": "execute_result"
    }
   ],
   "source": [
    "loaded.get_results()"
   ]
  },
  {
   "cell_type": "markdown",
   "id": "0296e19f",
   "metadata": {},
   "source": [
    "## PyLdaVis\n",
    "\n",
    "One last functionality is the possibility to use \n",
    "[pyLdaVis](https://github.com/bmabey/pyLDAvis) \n",
    "to show how good is our model for different time slices.\n",
    "\n",
    "In this example, we will show how our model behaves \n",
    "at the first time slice:"
   ]
  },
  {
   "cell_type": "code",
   "execution_count": 16,
   "id": "fcdf4539",
   "metadata": {
    "scrolled": false
   },
   "outputs": [
    {
     "name": "stderr",
     "output_type": "stream",
     "text": [
      "/home/oozaku/.local/share/hatch/env/virtual/lda-over-time-vJj5Sxd8/lda-over-time/lib/python3.10/site-packages/pyLDAvis/_prepare.py:247: FutureWarning: In a future version of pandas all arguments of DataFrame.drop except for the argument 'labels' will be keyword-only.\n",
      "  by='saliency', ascending=False).head(R).drop('saliency', 1)\n",
      "/home/oozaku/.local/share/hatch/env/virtual/lda-over-time-vJj5Sxd8/lda-over-time/lib/python3.10/site-packages/past/builtins/misc.py:45: DeprecationWarning: the imp module is deprecated in favour of importlib and slated for removal in Python 3.12; see the module's documentation for alternative uses\n",
      "  from imp import reload\n",
      "/home/oozaku/.local/share/hatch/env/virtual/lda-over-time-vJj5Sxd8/lda-over-time/lib/python3.10/site-packages/past/builtins/misc.py:45: DeprecationWarning: the imp module is deprecated in favour of importlib and slated for removal in Python 3.12; see the module's documentation for alternative uses\n",
      "  from imp import reload\n",
      "/home/oozaku/.local/share/hatch/env/virtual/lda-over-time-vJj5Sxd8/lda-over-time/lib/python3.10/site-packages/past/builtins/misc.py:45: DeprecationWarning: the imp module is deprecated in favour of importlib and slated for removal in Python 3.12; see the module's documentation for alternative uses\n",
      "  from imp import reload\n",
      "/home/oozaku/.local/share/hatch/env/virtual/lda-over-time-vJj5Sxd8/lda-over-time/lib/python3.10/site-packages/past/builtins/misc.py:45: DeprecationWarning: the imp module is deprecated in favour of importlib and slated for removal in Python 3.12; see the module's documentation for alternative uses\n",
      "  from imp import reload\n",
      "/home/oozaku/.local/share/hatch/env/virtual/lda-over-time-vJj5Sxd8/lda-over-time/lib/python3.10/site-packages/past/builtins/misc.py:45: DeprecationWarning: the imp module is deprecated in favour of importlib and slated for removal in Python 3.12; see the module's documentation for alternative uses\n",
      "  from imp import reload\n",
      "/home/oozaku/.local/share/hatch/env/virtual/lda-over-time-vJj5Sxd8/lda-over-time/lib/python3.10/site-packages/past/builtins/misc.py:45: DeprecationWarning: the imp module is deprecated in favour of importlib and slated for removal in Python 3.12; see the module's documentation for alternative uses\n",
      "  from imp import reload\n",
      "/home/oozaku/.local/share/hatch/env/virtual/lda-over-time-vJj5Sxd8/lda-over-time/lib/python3.10/site-packages/past/builtins/misc.py:45: DeprecationWarning: the imp module is deprecated in favour of importlib and slated for removal in Python 3.12; see the module's documentation for alternative uses\n",
      "  from imp import reload\n",
      "/home/oozaku/.local/share/hatch/env/virtual/lda-over-time-vJj5Sxd8/lda-over-time/lib/python3.10/site-packages/past/builtins/misc.py:45: DeprecationWarning: the imp module is deprecated in favour of importlib and slated for removal in Python 3.12; see the module's documentation for alternative uses\n",
      "  from imp import reload\n",
      "/home/oozaku/.local/share/hatch/env/virtual/lda-over-time-vJj5Sxd8/lda-over-time/lib/python3.10/site-packages/joblib/backports.py:36: DeprecationWarning: distutils Version classes are deprecated. Use packaging.version instead.\n",
      "  if LooseVersion(np.__version__) < '1.13':\n",
      "/home/oozaku/.local/share/hatch/env/virtual/lda-over-time-vJj5Sxd8/lda-over-time/lib/python3.10/site-packages/setuptools/_distutils/version.py:346: DeprecationWarning: distutils Version classes are deprecated. Use packaging.version instead.\n",
      "  other = LooseVersion(other)\n",
      "/home/oozaku/.local/share/hatch/env/virtual/lda-over-time-vJj5Sxd8/lda-over-time/lib/python3.10/site-packages/joblib/backports.py:36: DeprecationWarning: distutils Version classes are deprecated. Use packaging.version instead.\n",
      "  if LooseVersion(np.__version__) < '1.13':\n",
      "/home/oozaku/.local/share/hatch/env/virtual/lda-over-time-vJj5Sxd8/lda-over-time/lib/python3.10/site-packages/setuptools/_distutils/version.py:346: DeprecationWarning: distutils Version classes are deprecated. Use packaging.version instead.\n",
      "  other = LooseVersion(other)\n",
      "/home/oozaku/.local/share/hatch/env/virtual/lda-over-time-vJj5Sxd8/lda-over-time/lib/python3.10/site-packages/joblib/backports.py:36: DeprecationWarning: distutils Version classes are deprecated. Use packaging.version instead.\n",
      "  if LooseVersion(np.__version__) < '1.13':\n",
      "/home/oozaku/.local/share/hatch/env/virtual/lda-over-time-vJj5Sxd8/lda-over-time/lib/python3.10/site-packages/setuptools/_distutils/version.py:346: DeprecationWarning: distutils Version classes are deprecated. Use packaging.version instead.\n",
      "  other = LooseVersion(other)\n",
      "/home/oozaku/.local/share/hatch/env/virtual/lda-over-time-vJj5Sxd8/lda-over-time/lib/python3.10/site-packages/joblib/backports.py:36: DeprecationWarning: distutils Version classes are deprecated. Use packaging.version instead.\n",
      "  if LooseVersion(np.__version__) < '1.13':\n",
      "/home/oozaku/.local/share/hatch/env/virtual/lda-over-time-vJj5Sxd8/lda-over-time/lib/python3.10/site-packages/setuptools/_distutils/version.py:346: DeprecationWarning: distutils Version classes are deprecated. Use packaging.version instead.\n",
      "  other = LooseVersion(other)\n",
      "/home/oozaku/.local/share/hatch/env/virtual/lda-over-time-vJj5Sxd8/lda-over-time/lib/python3.10/site-packages/joblib/backports.py:36: DeprecationWarning: distutils Version classes are deprecated. Use packaging.version instead.\n",
      "  if LooseVersion(np.__version__) < '1.13':\n",
      "/home/oozaku/.local/share/hatch/env/virtual/lda-over-time-vJj5Sxd8/lda-over-time/lib/python3.10/site-packages/setuptools/_distutils/version.py:346: DeprecationWarning: distutils Version classes are deprecated. Use packaging.version instead.\n",
      "  other = LooseVersion(other)\n",
      "/home/oozaku/.local/share/hatch/env/virtual/lda-over-time-vJj5Sxd8/lda-over-time/lib/python3.10/site-packages/joblib/backports.py:36: DeprecationWarning: distutils Version classes are deprecated. Use packaging.version instead.\n",
      "  if LooseVersion(np.__version__) < '1.13':\n",
      "/home/oozaku/.local/share/hatch/env/virtual/lda-over-time-vJj5Sxd8/lda-over-time/lib/python3.10/site-packages/setuptools/_distutils/version.py:346: DeprecationWarning: distutils Version classes are deprecated. Use packaging.version instead.\n",
      "  other = LooseVersion(other)\n",
      "/home/oozaku/.local/share/hatch/env/virtual/lda-over-time-vJj5Sxd8/lda-over-time/lib/python3.10/site-packages/joblib/backports.py:36: DeprecationWarning: distutils Version classes are deprecated. Use packaging.version instead.\n",
      "  if LooseVersion(np.__version__) < '1.13':\n",
      "/home/oozaku/.local/share/hatch/env/virtual/lda-over-time-vJj5Sxd8/lda-over-time/lib/python3.10/site-packages/setuptools/_distutils/version.py:346: DeprecationWarning: distutils Version classes are deprecated. Use packaging.version instead.\n",
      "  other = LooseVersion(other)\n",
      "/home/oozaku/.local/share/hatch/env/virtual/lda-over-time-vJj5Sxd8/lda-over-time/lib/python3.10/site-packages/joblib/backports.py:36: DeprecationWarning: distutils Version classes are deprecated. Use packaging.version instead.\n",
      "  if LooseVersion(np.__version__) < '1.13':\n",
      "/home/oozaku/.local/share/hatch/env/virtual/lda-over-time-vJj5Sxd8/lda-over-time/lib/python3.10/site-packages/setuptools/_distutils/version.py:346: DeprecationWarning: distutils Version classes are deprecated. Use packaging.version instead.\n",
      "  other = LooseVersion(other)\n",
      "/home/oozaku/.local/share/hatch/env/virtual/lda-over-time-vJj5Sxd8/lda-over-time/lib/python3.10/site-packages/joblib/backports.py:36: DeprecationWarning: distutils Version classes are deprecated. Use packaging.version instead.\n",
      "  if LooseVersion(np.__version__) < '1.13':\n",
      "/home/oozaku/.local/share/hatch/env/virtual/lda-over-time-vJj5Sxd8/lda-over-time/lib/python3.10/site-packages/setuptools/_distutils/version.py:346: DeprecationWarning: distutils Version classes are deprecated. Use packaging.version instead.\n",
      "  other = LooseVersion(other)\n",
      "/home/oozaku/.local/share/hatch/env/virtual/lda-over-time-vJj5Sxd8/lda-over-time/lib/python3.10/site-packages/joblib/backports.py:36: DeprecationWarning: distutils Version classes are deprecated. Use packaging.version instead.\n",
      "  if LooseVersion(np.__version__) < '1.13':\n",
      "/home/oozaku/.local/share/hatch/env/virtual/lda-over-time-vJj5Sxd8/lda-over-time/lib/python3.10/site-packages/setuptools/_distutils/version.py:346: DeprecationWarning: distutils Version classes are deprecated. Use packaging.version instead.\n",
      "  other = LooseVersion(other)\n",
      "/home/oozaku/.local/share/hatch/env/virtual/lda-over-time-vJj5Sxd8/lda-over-time/lib/python3.10/site-packages/joblib/backports.py:36: DeprecationWarning: distutils Version classes are deprecated. Use packaging.version instead.\n",
      "  if LooseVersion(np.__version__) < '1.13':\n",
      "/home/oozaku/.local/share/hatch/env/virtual/lda-over-time-vJj5Sxd8/lda-over-time/lib/python3.10/site-packages/setuptools/_distutils/version.py:346: DeprecationWarning: distutils Version classes are deprecated. Use packaging.version instead.\n",
      "  other = LooseVersion(other)\n",
      "/home/oozaku/.local/share/hatch/env/virtual/lda-over-time-vJj5Sxd8/lda-over-time/lib/python3.10/site-packages/joblib/backports.py:36: DeprecationWarning: distutils Version classes are deprecated. Use packaging.version instead.\n",
      "  if LooseVersion(np.__version__) < '1.13':\n",
      "/home/oozaku/.local/share/hatch/env/virtual/lda-over-time-vJj5Sxd8/lda-over-time/lib/python3.10/site-packages/setuptools/_distutils/version.py:346: DeprecationWarning: distutils Version classes are deprecated. Use packaging.version instead.\n",
      "  other = LooseVersion(other)\n",
      "/home/oozaku/.local/share/hatch/env/virtual/lda-over-time-vJj5Sxd8/lda-over-time/lib/python3.10/site-packages/joblib/backports.py:36: DeprecationWarning: distutils Version classes are deprecated. Use packaging.version instead.\n",
      "  if LooseVersion(np.__version__) < '1.13':\n",
      "/home/oozaku/.local/share/hatch/env/virtual/lda-over-time-vJj5Sxd8/lda-over-time/lib/python3.10/site-packages/setuptools/_distutils/version.py:346: DeprecationWarning: distutils Version classes are deprecated. Use packaging.version instead.\n",
      "  other = LooseVersion(other)\n",
      "/home/oozaku/.local/share/hatch/env/virtual/lda-over-time-vJj5Sxd8/lda-over-time/lib/python3.10/site-packages/joblib/backports.py:36: DeprecationWarning: distutils Version classes are deprecated. Use packaging.version instead.\n",
      "  if LooseVersion(np.__version__) < '1.13':\n",
      "/home/oozaku/.local/share/hatch/env/virtual/lda-over-time-vJj5Sxd8/lda-over-time/lib/python3.10/site-packages/setuptools/_distutils/version.py:346: DeprecationWarning: distutils Version classes are deprecated. Use packaging.version instead.\n",
      "  other = LooseVersion(other)\n",
      "/home/oozaku/.local/share/hatch/env/virtual/lda-over-time-vJj5Sxd8/lda-over-time/lib/python3.10/site-packages/joblib/backports.py:36: DeprecationWarning: distutils Version classes are deprecated. Use packaging.version instead.\n",
      "  if LooseVersion(np.__version__) < '1.13':\n",
      "/home/oozaku/.local/share/hatch/env/virtual/lda-over-time-vJj5Sxd8/lda-over-time/lib/python3.10/site-packages/setuptools/_distutils/version.py:346: DeprecationWarning: distutils Version classes are deprecated. Use packaging.version instead.\n",
      "  other = LooseVersion(other)\n",
      "/home/oozaku/.local/share/hatch/env/virtual/lda-over-time-vJj5Sxd8/lda-over-time/lib/python3.10/site-packages/joblib/backports.py:36: DeprecationWarning: distutils Version classes are deprecated. Use packaging.version instead.\n",
      "  if LooseVersion(np.__version__) < '1.13':\n",
      "/home/oozaku/.local/share/hatch/env/virtual/lda-over-time-vJj5Sxd8/lda-over-time/lib/python3.10/site-packages/setuptools/_distutils/version.py:346: DeprecationWarning: distutils Version classes are deprecated. Use packaging.version instead.\n",
      "  other = LooseVersion(other)\n"
     ]
    },
    {
     "name": "stderr",
     "output_type": "stream",
     "text": [
      "/home/oozaku/.local/share/hatch/env/virtual/lda-over-time-vJj5Sxd8/lda-over-time/lib/python3.10/site-packages/joblib/backports.py:36: DeprecationWarning: distutils Version classes are deprecated. Use packaging.version instead.\n",
      "  if LooseVersion(np.__version__) < '1.13':\n",
      "/home/oozaku/.local/share/hatch/env/virtual/lda-over-time-vJj5Sxd8/lda-over-time/lib/python3.10/site-packages/setuptools/_distutils/version.py:346: DeprecationWarning: distutils Version classes are deprecated. Use packaging.version instead.\n",
      "  other = LooseVersion(other)\n",
      "/home/oozaku/.local/share/hatch/env/virtual/lda-over-time-vJj5Sxd8/lda-over-time/lib/python3.10/site-packages/joblib/backports.py:36: DeprecationWarning: distutils Version classes are deprecated. Use packaging.version instead.\n",
      "  if LooseVersion(np.__version__) < '1.13':\n",
      "/home/oozaku/.local/share/hatch/env/virtual/lda-over-time-vJj5Sxd8/lda-over-time/lib/python3.10/site-packages/setuptools/_distutils/version.py:346: DeprecationWarning: distutils Version classes are deprecated. Use packaging.version instead.\n",
      "  other = LooseVersion(other)\n",
      "/home/oozaku/.local/share/hatch/env/virtual/lda-over-time-vJj5Sxd8/lda-over-time/lib/python3.10/site-packages/joblib/backports.py:36: DeprecationWarning: distutils Version classes are deprecated. Use packaging.version instead.\n",
      "  if LooseVersion(np.__version__) < '1.13':\n",
      "/home/oozaku/.local/share/hatch/env/virtual/lda-over-time-vJj5Sxd8/lda-over-time/lib/python3.10/site-packages/setuptools/_distutils/version.py:346: DeprecationWarning: distutils Version classes are deprecated. Use packaging.version instead.\n",
      "  other = LooseVersion(other)\n",
      "/home/oozaku/.local/share/hatch/env/virtual/lda-over-time-vJj5Sxd8/lda-over-time/lib/python3.10/site-packages/joblib/backports.py:36: DeprecationWarning: distutils Version classes are deprecated. Use packaging.version instead.\n",
      "  if LooseVersion(np.__version__) < '1.13':\n",
      "/home/oozaku/.local/share/hatch/env/virtual/lda-over-time-vJj5Sxd8/lda-over-time/lib/python3.10/site-packages/setuptools/_distutils/version.py:346: DeprecationWarning: distutils Version classes are deprecated. Use packaging.version instead.\n",
      "  other = LooseVersion(other)\n",
      "/home/oozaku/.local/share/hatch/env/virtual/lda-over-time-vJj5Sxd8/lda-over-time/lib/python3.10/site-packages/joblib/backports.py:36: DeprecationWarning: distutils Version classes are deprecated. Use packaging.version instead.\n",
      "  if LooseVersion(np.__version__) < '1.13':\n",
      "/home/oozaku/.local/share/hatch/env/virtual/lda-over-time-vJj5Sxd8/lda-over-time/lib/python3.10/site-packages/setuptools/_distutils/version.py:346: DeprecationWarning: distutils Version classes are deprecated. Use packaging.version instead.\n",
      "  other = LooseVersion(other)\n",
      "/home/oozaku/.local/share/hatch/env/virtual/lda-over-time-vJj5Sxd8/lda-over-time/lib/python3.10/site-packages/joblib/backports.py:36: DeprecationWarning: distutils Version classes are deprecated. Use packaging.version instead.\n",
      "  if LooseVersion(np.__version__) < '1.13':\n",
      "/home/oozaku/.local/share/hatch/env/virtual/lda-over-time-vJj5Sxd8/lda-over-time/lib/python3.10/site-packages/setuptools/_distutils/version.py:346: DeprecationWarning: distutils Version classes are deprecated. Use packaging.version instead.\n",
      "  other = LooseVersion(other)\n"
     ]
    },
    {
     "data": {
      "text/html": [
       "\n",
       "<link rel=\"stylesheet\" type=\"text/css\" href=\"https://cdn.jsdelivr.net/gh/bmabey/pyLDAvis@3.3.1/pyLDAvis/js/ldavis.v1.0.0.css\">\n",
       "\n",
       "\n",
       "<div id=\"ldavis_el147361404617606305603474847345\"></div>\n",
       "<script type=\"text/javascript\">\n",
       "\n",
       "var ldavis_el147361404617606305603474847345_data = {\"mdsDat\": {\"x\": [-0.10529342429683645, -0.09390091239519809, 0.009401430276097512, -0.025764919356526667, 0.21555782577246374], \"y\": [-0.06891559561598208, -0.08754768970321689, 0.14772802190016956, 0.07769253606385469, -0.0689572726448254], \"topics\": [1, 2, 3, 4, 5], \"cluster\": [1, 1, 1, 1, 1], \"Freq\": [38.42626490667158, 33.9903353752034, 13.922744628923262, 13.54668131160517, 0.1139737775965901]}, \"tinfo\": {\"Term\": [\"say\", \"first\", \"year\", \"Pakistan\", \"day\", \"oil\", \"have\", \"last\", \"take\", \"make\", \"time\", \"strong\", \"barrel\", \"also\", \"crude\", \"second\", \"OPEC\", \"percent\", \"price\", \"come\", \"West\", \"back\", \"run\", \"New\", \"just\", \"point\", \"world\", \"go\", \"more\", \"India\", \"yen\", \"Nikkei\", \"ounce\", \"index\", \"stimulus\", \"WTO\", \"DOWN\", \"Dow\", \"Wall\", \"Fed\", \"Azevedo\", \"Composite\", \"Yellen\", \"outflow\", \"FTSE\", \"Nasdaq\", \"Topix\", \"s&amp;p\", \"Taipei\", \"banker\", \"Hang\", \"Seng\", \"KONG\", \"HONG\", \"FX\", \"Treasuries\", \"sterling\", \"MSCI\", \"SPDR\", \"britain\\u00b4\", \"broad\", \"gold\", \"Janet\", \"Shanghai\", \"easing\", \"monetary\", \"haven\", \"Index\", \"Street\", \"Reserve\", \"Kong\", \"Tokyo\", \"rate\", \"Hong\", \"point\", \"inflation\", \"dollar\", \"percent\", \"currency\", \"vote\", \"central\", \"euro\", \"hike\", \"Japan\", \"stock\", \"gain\", \"interest\", \"investor\", \"share\", \"economy\", \"rise\", \"Bank\", \"market\", \"trade\", \"growth\", \"low\", \"bank\", \"high\", \"fall\", \"U.S.\", \"week\", \"year\", \"global\", \"US\", \"month\", \"say\", \"more\", \"strong\", \"price\", \"last\", \"bpd\", \"opec\", \"EIA\", \"SoftBank\", \"Algeria\", \"Countries\", \"Exporting\", \"Gladiators\", \"Novak\", \"Halley\", \"Iran\\u00b4s\", \"shale\", \"Delport\", \"VIENNA\", \"condensate\", \"Nabi\", \"Niekerk\", \"OPEC\", \"Shenwari\", \"Baker\", \"facial\", \"Pop\", \"Carrier\", \"Falih\", \"IEA\", \"BuzzFeed\", \"\\\"OPEC\", \"Preez\", \"Zanganeh\", \"sanctions\", \"sanction\", \"cosmetic\", \"storage\", \"disruption\", \"gasoline\", \"compliance\", \"Iran\", \"inventory\", \"output\", \"barrel\", \"production\", \"iranian\", \"Vienna\", \"Iraq\", \"lifting\", \"Energy\", \"WTI\", \"crude\", \"producer\", \"oil\", \"nuclear\", \"Arabia\", \"rig\", \"Saudi\", \"supply\", \"Organization\", \"stockpile\", \"glut\", \"Petroleum\", \"cut\", \"cent\", \"price\", \"deal\", \"West\", \"Texas\", \"Intermediate\", \"US\", \"say\", \"analyst\", \"Russia\", \"market\", \"day\", \"demand\", \"last\", \"week\", \"year\", \"global\", \"level\", \"fall\", \"U.S.\", \"high\", \"more\", \"rise\", \"percent\", \"month\", \"CPEC\", \"Road\", \"Xinjiang\", \"Belt\", \"borrower\", \"sukuk\", \"waive\", \"Gwadar\", \"Silk\", \"railway\", \"Afiniti\", \"tiny_mce\", \"PCB\", \"PSX\", \"Corridor\", \"b&amp;r\", \"locomotive\", \"accident\", \"china\\u0092s\", \"NBP\", \"corridor\", \"autonomous\", \"Railways\", \"foodpanda\", \"alt=\", \"hydropower\", \"bridge\", \"Dasu\", \"sharia\", \"mutual\", \"FBR\", \"education\", \"train\", \"pakistan\\u0092s\", \"road\", \"project\", \"Modi\", \"Economic\", \"Pakistan\", \"Board\", \"loan\", \"Sharif\", \"enhance\", \"delegation\", \"tax\", \"infrastructure\", \"airport\", \"coal\", \"Nawaz\", \"security\", \"pakistani\", \"port\", \"business\", \"government\", \"Minister\", \"system\", \"country\", \"World\", \"say\", \"service\", \"Prime\", \"power\", \"investment\", \"construction\", \"company\", \"development\", \"China\", \"worth\", \"also\", \"new\", \"include\", \"sector\", \"economic\", \"have\", \"year\", \"ISLAMABAD\", \"chinese\", \"provide\", \"strong\", \"other\", \"Bank\", \"make\", \"add\", \"-\", \"more\", \"percent\", \"minister\", \"litre\", \"Arcelik\", \"banknote\", \"lira\", \"Bulgurlu\", \"OGRA\", \"Erdogan\", \"CNG\", \"riyal\", \"bale\", \"gem\", \"RDIF\", \"turkish\", \"halal\", \"petrol\", \"cereal\", \"migrant\", \"chicken\", \"poultry\", \"kg\", \"Tayyip\", \"corresponding\", \"jewellary\", \"metric\", \"WEF\", \"Sui\", \"TWF\", \"T\\u00fcrkiye\", \"Wenig\", \"Ma\", \"Sechin\", \"emission\", \"carmaker\", \"coup\", \"sugar\", \"Davos\", \"tourism\", \"cotton\", \"diesel\", \"Regulatory\", \"Gas\", \"wheat\", \"employ\", \"shop\", \"crop\", \"Authority\", \"petroleum\", \"decrease\", \"import\", \"r\", \"gas\", \"Turkey\", \"ISLAMABAD\", \"period\", \"aircraft\", \"export\", \"say\", \"year\", \"product\", \"price\", \"compare\", \"increase\", \"government\", \"accord\", \"car\", \"month\", \"country\", \"state\", \"last\", \"strong\", \"company\", \"Pakistan\", \"percent\", \"make\", \"new\", \"June\", \"have\", \"oil\", \"also\", \"market\", \"more\", \"other\", \"Lord\\u00b4s\", \"tournament\", \"Messi\", \"Ronaldo\", \"captain\", \"title\", \"Indies\", \"batsman\", \"spinner\", \"Test\", \"Woakes\", \"bowl\", \"Misbah\", \"Root\", \"bowler\", \"Wimbledon\", \"squad\", \"england\\u00b4s\", \"innings\", \"bowling\", \"Barcelona\", \"athlete\", \"Kohli\", \"Anderson\", \"Cup\", \"Broad\", \"Yasir\", \"Djokovic\", \"Olympics\", \"rounder\", \"champion\", \"opener\", \"Twenty20\", \"wicket\", \"match\", \"batting\", \"cricket\", \"ball\", \"test\", \"score\", \"coach\", \"team\", \"play\", \"England\", \"Lanka\", \"bat\", \"win\", \"game\", \"player\", \"final\", \"Amir\", \"over\", \"series\", \"run\", \"Sri\", \"first\", \"have\", \"make\", \"say\", \"second\", \"Pakistan\", \"take\", \"year\", \"time\", \"day\", \"India\", \"last\", \"World\", \"strong\", \"also\"], \"Freq\": [79.0, 11.0, 43.0, 14.0, 14.0, 50.0, 9.0, 22.0, 9.0, 9.0, 8.0, 22.0, 23.0, 20.0, 26.0, 4.0, 14.0, 72.0, 42.0, 8.0, 5.0, 5.0, 2.0, 5.0, 4.0, 10.0, 8.0, 5.0, 21.0, 4.0, 10.399287404774181, 2.4930684670742482, 2.8509681669228444, 8.427566405269234, 1.4876635230078665, 0.8150501569891414, 0.8138220105693033, 2.2495500454396438, 3.1822699469757754, 5.245090621136867, 0.5275232699190003, 1.004170264952821, 1.4283355469669812, 0.7066325977961917, 0.7389904624122199, 1.2930733728338444, 0.6160364562956631, 1.5043097434822006, 0.49566767776330634, 0.4593491383606628, 0.45253350450430346, 0.45255178458586043, 0.4934477652885906, 0.4935922295067882, 0.4336512690382709, 0.4329526432881097, 0.5442166518576648, 1.211399458350037, 0.47318019762306257, 0.4705915890833394, 2.658914306434434, 7.367385855817284, 1.0652077437931002, 2.3682933293217054, 0.8776747365780132, 2.5915922616244065, 1.3671559533860713, 1.5502772147738675, 3.1822174562086714, 3.450141333938726, 3.556015440404701, 3.6350800594853308, 15.713678216223727, 3.24066901981278, 9.289887477860681, 3.2762921425077924, 16.438087477029907, 56.272071770670564, 7.058319760674625, 2.2729001849772485, 4.019780994895624, 5.26406844022684, 4.613914589834879, 4.603494828738762, 8.861124554769793, 9.04970806497893, 6.941663729741246, 8.23808803062877, 7.690812416283359, 9.426292873395264, 13.653593938471749, 6.57803611819326, 20.587720544178445, 10.975298619675133, 8.480257049879352, 11.909677366982143, 7.03929151377346, 12.51600578197146, 11.470773869495279, 10.565310429125509, 11.960267464038811, 17.229985652857692, 9.597435695886475, 11.912855235956506, 10.486495427710278, 19.702452066886952, 9.918085059259836, 9.250926950934081, 10.838432955754765, 8.437749155652751, 9.367566118814038, 1.9050559661926252, 1.0740784573486812, 0.6628569662150607, 0.7339833264818011, 3.023300256424208, 2.9715383552709587, 0.7458075260424175, 0.6161517099643402, 0.43807638239828195, 0.9776278143847802, 1.7665471438176958, 0.41683072344171973, 0.3844705125581685, 0.38277389713351545, 0.4044270205545715, 0.3662176911181965, 14.113537019651094, 0.34129854118616204, 0.6841280964527585, 0.3530286617462062, 0.35280953269476534, 0.307292885541254, 0.7640161719171963, 1.0809813012592082, 0.34532880750944045, 0.3014431840635883, 0.2640868257382751, 0.293875451009469, 0.2749962388100291, 5.202917472772007, 1.8989432642330255, 0.9650035884954823, 0.8814347735118859, 0.9611069133392341, 1.7299451409269286, 9.619694596244383, 4.5018930716755134, 12.434767002662637, 20.87989014291683, 13.44956311874982, 2.1792546877852486, 1.2526647312109511, 1.3199372993141611, 1.2441131730910409, 3.8061910278312254, 4.102127067467723, 22.650095216151175, 6.975605907211114, 40.04819454021454, 2.990189922647354, 5.829496187484584, 2.212944702300543, 6.589032860781858, 9.92536943449185, 2.9945804111783736, 2.3592263965848264, 3.478631062075623, 3.7664925281802417, 10.792959489562833, 9.307231471490104, 24.87102953702403, 8.088360160592488, 4.496607210587323, 4.316414294482521, 4.086057400938931, 15.045337614664417, 31.15335917875906, 7.620229541951569, 4.040294860880368, 15.451577227342623, 7.9277802830294135, 7.002046972527138, 9.548031539610154, 9.31332633088063, 12.779029640636228, 8.314645298770792, 6.247190323995404, 8.164474938210697, 7.679908069349099, 7.839097037550265, 7.587198891466149, 7.591618171415447, 9.42114492066584, 7.526875598504351, 1.0505417760708566, 0.6970589712082561, 0.5863469871366699, 0.5265863720969047, 0.47615539973980275, 0.4480225445553164, 0.6610138192796245, 0.5314855421961183, 0.35070707909457355, 0.3824617821859373, 0.31288922736978697, 0.3066826083795852, 0.480454278239133, 0.23992838442149234, 0.5631836461279192, 0.22122568422027228, 0.2218030330206996, 0.22472212533193342, 0.209663987447188, 0.21245358270846082, 0.22522460378409084, 0.17315213122337883, 0.1870908888845317, 0.16073269557271505, 0.16384280485679495, 0.17048607411302277, 0.36209862542282373, 0.15405667313445845, 0.15940000960232525, 0.23839804779099294, 0.4662158730831851, 0.39597465504850116, 0.40801761077958537, 0.4040776365620614, 0.5597881948592932, 3.655308765265228, 0.5191082652371245, 1.1337093202851802, 10.598206995946864, 0.7485573962401367, 1.1391546328250182, 0.8545663348131076, 0.5865523303824794, 0.5888938662661416, 2.5886980600825535, 1.0642494862457235, 0.5427071664693932, 0.5551786646265148, 0.7852533346901691, 1.1961714551515648, 1.0668849391149953, 0.7120418442531573, 2.152887687381005, 3.797678199873742, 2.753698022921864, 1.0216567707930744, 4.654153790855875, 1.084548859950078, 14.90963680530855, 1.479296563151474, 1.230471625507818, 2.0249779054135097, 2.5421897458391327, 0.8876148456920726, 2.8351888533688876, 1.3352003351084314, 3.360464599879495, 1.0448438228217154, 4.197381381655912, 2.8660934063548, 2.3717001213019406, 2.0000339124889734, 2.359774184229439, 2.2731449972128552, 4.484698481701216, 1.3659173592575233, 1.7117006021481287, 1.4552113160961677, 2.8338470837109306, 2.1864800983274355, 1.8950116181061818, 1.9012829544772922, 1.8435288896864175, 1.8123731909066418, 2.0357378084430726, 2.3286400786726804, 1.4699498535175413, 1.5556735474717382, 0.5067890714936922, 0.4395359004473596, 0.514326359469682, 0.4227864658873538, 0.7812914600172163, 0.5032182242952081, 0.8776900718358505, 0.3473096675608908, 0.29328702295746417, 0.3998555331723828, 0.25515171709179985, 0.7836343954130195, 0.28606829872101036, 1.4351908785641898, 0.22745731809257502, 0.22693873535467865, 0.2729680341204868, 0.22411650991381932, 0.3496088860480533, 0.32557319230446524, 0.34041471915382016, 0.20077222615092868, 0.269063552566087, 0.18058978194680841, 0.2861802374413331, 0.17101606178106782, 0.17101606178106782, 0.1709711125566105, 0.2553421199864112, 0.2515219207531062, 0.41825247296966656, 0.24548347224235778, 0.5546659551008345, 0.572771179481865, 0.27509638494901556, 1.1161927982076454, 0.9687181301144255, 1.5190764343698513, 0.642043045450949, 1.0375307261199982, 0.38681363185700857, 0.4020141060412658, 0.58341527704475, 0.4249875435509596, 0.818374307569823, 1.3187755791197149, 0.9558018442047481, 2.3578956290089295, 1.631412566442451, 1.576194312872257, 0.9235191293824133, 1.5789477508482728, 1.8127418994943982, 0.6055795477066176, 3.2915241116974254, 13.440072979891822, 8.8014267929895, 2.2961190310666795, 6.981809783352487, 2.1078058208498813, 3.296016367492538, 2.605800561427075, 2.279115981871241, 0.9284008777831604, 3.792167886838502, 2.807763305666316, 1.6040394786409762, 3.11439321802688, 3.0877667923988623, 1.9938932942231902, 2.5076170714604618, 4.756888384443934, 2.047384204652711, 2.1245708108718344, 1.8162633328488271, 1.9626173612211049, 3.1449346099946873, 2.2721072159672753, 2.388097467464522, 2.1390752892444045, 1.647994769685577, 0.0037544948912480057, 0.012883404013581245, 0.004059602717161024, 0.003361080790285933, 0.022105791502099605, 0.008193830398036681, 0.010185869032583752, 0.010680683994375516, 0.009399071424691959, 0.0033839168559013514, 0.0028372297122556353, 0.008186801929004194, 0.0042001404839773285, 0.004587443596943802, 0.013422420553448762, 0.002800364923071746, 0.005967385726542534, 0.0029129149291581354, 0.010136387604391315, 0.006342771784040257, 0.0025713347675095743, 0.0023804701574068193, 0.003034478277109314, 0.0035723115077921676, 0.011506941785195783, 0.0030685943624531625, 0.002292416623058367, 0.0024175105223430437, 0.003928419585637087, 0.0032290226694367094, 0.008126142801124862, 0.005869752010896535, 0.01053166930106167, 0.0321609036800102, 0.03896985169209058, 0.004143665259989071, 0.020184922745213472, 0.029436609798582293, 0.036229159409321636, 0.017339592073124542, 0.009008229941917053, 0.03432244141219969, 0.03325757600398925, 0.0330798124384073, 0.013319710268034376, 0.010172757790052169, 0.03650769835773852, 0.019332275221953178, 0.02043542940158668, 0.022925139120812482, 0.011102861924688184, 0.01791609242143055, 0.017849228823790097, 0.031977679419586985, 0.014763215579050094, 0.045929969577097204, 0.03292502295152004, 0.02909593097112021, 0.04794207789686762, 0.02456669252072736, 0.03054500303628934, 0.02739215066913477, 0.03208423639466918, 0.02392963230518032, 0.02291907742320234, 0.019299547765744447, 0.022663097834374934, 0.017138655907571288, 0.020282147860560717, 0.018352295336041068], \"Total\": [79.0, 11.0, 43.0, 14.0, 14.0, 50.0, 9.0, 22.0, 9.0, 9.0, 8.0, 22.0, 23.0, 20.0, 26.0, 4.0, 14.0, 72.0, 42.0, 8.0, 5.0, 5.0, 2.0, 5.0, 4.0, 10.0, 8.0, 5.0, 21.0, 4.0, 10.49542945515443, 2.5189188517579133, 2.893117103580012, 8.552998784235198, 1.5105346304471967, 0.8279768244732557, 0.8275325197506253, 2.288545905999426, 3.2397597989536537, 5.340436887027668, 0.5376734864811954, 1.0235518104320838, 1.4560276963459464, 0.7210875116885156, 0.7544159417856674, 1.320842173721836, 0.6293921194084282, 1.5374564746042452, 0.507745688570581, 0.47156759069711834, 0.4645946961612781, 0.4646521873565656, 0.506718859136111, 0.5069033208115381, 0.44542431360323304, 0.44494832067372964, 0.5594742824055009, 1.2482124965604033, 0.48809312573989105, 0.48559271057905284, 2.75192770715548, 7.7237057579702615, 1.0997493346809337, 2.47031511304722, 0.9067382679842242, 2.7171455207650714, 1.4255136083965159, 1.620662843706548, 3.382138691446513, 3.6746404926623333, 3.823250982661494, 3.917627934673492, 17.79447988830945, 3.4999628748572116, 10.591636186769609, 3.5646137821611954, 19.557902351309263, 72.77926006926916, 8.094834250810557, 2.444344087216246, 4.554923168386249, 6.124309321973518, 5.357548493767706, 5.347056974545428, 11.15515676479909, 11.603834279147573, 8.640106004740916, 10.532886107644845, 10.053372884214715, 13.503236155426562, 22.631527197822432, 8.903065965546556, 39.591976681875394, 17.79183442083956, 12.701225933117987, 20.127463844931036, 10.094942530939683, 22.632093972195918, 20.3036385844919, 18.572007742278096, 22.30187303503953, 43.3272248045793, 19.105066903434267, 28.034566898878648, 22.532294477943683, 79.25346310874325, 21.692888554752532, 22.03457717302542, 42.960062476790036, 22.46832992208554, 9.40274731750678, 1.9214022452747772, 1.089633345323911, 0.6725567382495826, 0.7455029616129596, 3.0757080514047694, 3.025463089371057, 0.7609889967996847, 0.6288332583847832, 0.44729478625653707, 0.9983213111160173, 1.806359145044039, 0.42668304644265526, 0.39367922151584783, 0.3920871692618612, 0.4146927684685769, 0.3758016577333069, 14.492555396568383, 0.35098347448341166, 0.7036090304232141, 0.36401600457797545, 0.36392891601283495, 0.317286848051707, 0.7891016412396256, 1.1166908203493742, 0.35676890765049624, 0.3117852368505985, 0.27360562503298275, 0.30453594251974964, 0.2850610260387933, 5.394666655142775, 1.9781267340222144, 1.0015772329479276, 0.9141783395617816, 1.0015038157789815, 1.8136438461077504, 10.275211799813846, 4.778488245979247, 13.543031640638308, 23.18219665946814, 15.00896433989271, 2.316473566895805, 1.3166036782220767, 1.389978631638568, 1.3087889610195054, 4.155267593457116, 4.500109935310148, 26.801802572159698, 7.860103634598469, 50.08810203132489, 3.2787448552593945, 6.788260306156051, 2.4256633707914115, 7.879762402231079, 12.290804026677046, 3.3867549673449395, 2.6393855488046154, 4.0794168634996595, 4.496351472776457, 15.01939193635518, 13.268959832519784, 42.960062476790036, 11.36961078450587, 5.679973979342928, 5.417723971620078, 5.1469972787752205, 28.034566898878648, 79.25346310874325, 11.863281650373517, 5.110571462175376, 39.591976681875394, 14.749290205506883, 12.216881444358362, 22.46832992208554, 22.30187303503953, 43.3272248045793, 19.105066903434267, 10.953471986186956, 20.3036385844919, 18.572007742278096, 22.632093972195918, 21.692888554752532, 22.631527197822432, 72.77926006926916, 22.532294477943683, 1.0707476398542026, 0.7114311028792253, 0.600939732342973, 0.5404823649873547, 0.4896009530692412, 0.461414116434, 0.6808778744241007, 0.5518933540116859, 0.3643453691687972, 0.3986138785031675, 0.3262649869671214, 0.32063928643787837, 0.506340739151168, 0.253672567563009, 0.5962709965966903, 0.2345722999365058, 0.23661218643149476, 0.23984314091708733, 0.2239262566236047, 0.22733099559238923, 0.24113696366865253, 0.18661810370864945, 0.20197841341929168, 0.17413330427618431, 0.17759755761119525, 0.18514423238893174, 0.3938679015955557, 0.16762788426173422, 0.17376957902910364, 0.2602652592298, 0.511020600048863, 0.43545515127916906, 0.45023287611508017, 0.4505183221947918, 0.6346644007265938, 4.57945366996621, 0.5883036682401133, 1.343325061003597, 14.674440735184303, 0.8836281259764458, 1.3984183065996496, 1.0251936580230956, 0.6811725508201586, 0.7011458001918158, 3.708098319426675, 1.4514682464814954, 0.6465987877615309, 0.6650742260181158, 1.0327751566839225, 1.7787589836239843, 1.5698022283771844, 0.9477133199904275, 4.238969346613901, 9.375840929494005, 6.14510918743923, 1.5545580508629928, 13.212910996543611, 1.6945132110825918, 79.25346310874325, 2.7556757766100004, 2.1029664933289482, 4.645472643412666, 6.812809705955053, 1.3132988492293478, 8.300111952528217, 2.544843026907661, 13.11630974595891, 1.7454146598352203, 20.07797123373086, 10.481683952143763, 7.5249549507778815, 5.966076222764182, 9.562965296540664, 9.157353020122844, 43.3272248045793, 3.074390750497734, 5.4921705249686825, 3.6164517118668438, 22.03457717302542, 11.051221235941531, 8.903065965546556, 9.28968841086874, 12.595823907736351, 12.370079722182027, 21.692888554752532, 72.77926006926916, 4.851094348203081, 1.5936560273545395, 0.5194040405244353, 0.45165215157199956, 0.5290710991171792, 0.4351969594973445, 0.8049326226733112, 0.5206886885406138, 0.9113185181120013, 0.36192108061384737, 0.3062917482563137, 0.4180033632531551, 0.2667610223453669, 0.8198704447145133, 0.29982701496597924, 1.508456100619234, 0.23983746825241803, 0.2395325822959757, 0.2882461836058552, 0.23679032811654338, 0.37008870633414237, 0.34476026081918154, 0.36065535830644874, 0.21376446138943234, 0.2869197158998089, 0.19273336216947218, 0.30546565995173597, 0.1826179891928464, 0.1826179891928464, 0.18257413566560904, 0.27273892742393974, 0.26913462687166123, 0.45037865444165365, 0.2634812135663022, 0.6062098470670717, 0.6300333197396276, 0.29618142878114984, 1.2824616667214688, 1.1397861272625478, 1.860105126288727, 0.7378713509767341, 1.2798151396601645, 0.4318335027655897, 0.4537352785610603, 0.6974333587676548, 0.4847352461207093, 1.0673580587014688, 2.0331243544786313, 1.4712373638860654, 4.910924972123624, 3.014310864271139, 2.9090991959623604, 1.4130172243527983, 3.074390750497734, 3.7942072554524757, 0.8025835473565067, 9.402909060749085, 79.25346310874325, 43.3272248045793, 6.488327587678363, 42.960062476790036, 5.901375950596086, 12.707333257445658, 9.375840929494005, 8.01819061518647, 1.5620054836463142, 22.532294477943683, 13.212910996543611, 4.767476740995714, 22.46832992208554, 22.03457717302542, 8.300111952528217, 14.674440735184303, 72.77926006926916, 9.28968841086874, 10.481683952143763, 7.030774814500989, 9.157353020122844, 50.08810203132489, 20.07797123373086, 39.591976681875394, 21.692888554752532, 11.051221235941531, 0.02085137350030505, 0.07333159295477833, 0.02559763400865947, 0.02143881115428928, 0.14116827138012641, 0.05546898540394664, 0.0703235566434295, 0.07450986868524154, 0.06831656675882743, 0.024996474125205552, 0.021071017963698625, 0.0610509844665002, 0.0319664453167984, 0.03508562477314087, 0.10585321063642843, 0.022198955614150796, 0.04761741010276041, 0.023464587344536176, 0.08226021145356675, 0.05184926030941624, 0.02111452768608203, 0.019683468561131554, 0.025666594603819676, 0.030778219275940953, 0.0991542815729099, 0.02653383764694994, 0.019868254100704218, 0.021007726035960343, 0.034301642834821636, 0.028248418009521395, 0.07742239851212575, 0.05467628761584319, 0.10352329085782598, 0.3678824353126809, 0.46111206896818746, 0.03810212200173059, 0.3108385166916791, 0.5160973782948464, 0.7265290206778015, 0.27313994195788166, 0.11017160998034248, 0.7112120366267388, 0.8197308557763048, 0.8628918025466935, 0.24477997499078322, 0.15265181903519018, 1.6184375117496996, 0.5252771391934794, 0.5849112763564319, 0.790753668669994, 0.18405525610420542, 0.5232432351932231, 0.5546949585113958, 2.630801228006224, 0.39994591986943445, 11.505170438887601, 9.157353020122844, 9.28968841086874, 79.25346310874325, 4.748577238430128, 14.674440735184303, 9.785758098780471, 43.3272248045793, 8.834076646075728, 14.749290205506883, 4.202769173058062, 22.46832992208554, 1.6945132110825918, 22.03457717302542, 20.07797123373086], \"Category\": [\"Default\", \"Default\", \"Default\", \"Default\", \"Default\", \"Default\", \"Default\", \"Default\", \"Default\", \"Default\", \"Default\", \"Default\", \"Default\", \"Default\", \"Default\", \"Default\", \"Default\", \"Default\", \"Default\", \"Default\", \"Default\", \"Default\", \"Default\", \"Default\", \"Default\", \"Default\", \"Default\", \"Default\", \"Default\", \"Default\", \"Topic1\", \"Topic1\", \"Topic1\", \"Topic1\", \"Topic1\", \"Topic1\", \"Topic1\", \"Topic1\", \"Topic1\", \"Topic1\", \"Topic1\", \"Topic1\", \"Topic1\", \"Topic1\", \"Topic1\", \"Topic1\", \"Topic1\", \"Topic1\", \"Topic1\", \"Topic1\", \"Topic1\", \"Topic1\", \"Topic1\", \"Topic1\", \"Topic1\", \"Topic1\", \"Topic1\", \"Topic1\", \"Topic1\", \"Topic1\", \"Topic1\", \"Topic1\", \"Topic1\", \"Topic1\", \"Topic1\", \"Topic1\", \"Topic1\", \"Topic1\", \"Topic1\", \"Topic1\", \"Topic1\", \"Topic1\", \"Topic1\", \"Topic1\", \"Topic1\", \"Topic1\", \"Topic1\", \"Topic1\", \"Topic1\", \"Topic1\", \"Topic1\", \"Topic1\", \"Topic1\", \"Topic1\", \"Topic1\", \"Topic1\", \"Topic1\", \"Topic1\", \"Topic1\", \"Topic1\", \"Topic1\", \"Topic1\", \"Topic1\", \"Topic1\", \"Topic1\", \"Topic1\", \"Topic1\", \"Topic1\", \"Topic1\", \"Topic1\", \"Topic1\", \"Topic1\", \"Topic1\", \"Topic1\", \"Topic1\", \"Topic1\", \"Topic1\", \"Topic1\", \"Topic1\", \"Topic1\", \"Topic2\", \"Topic2\", \"Topic2\", \"Topic2\", \"Topic2\", \"Topic2\", \"Topic2\", \"Topic2\", \"Topic2\", \"Topic2\", \"Topic2\", \"Topic2\", \"Topic2\", \"Topic2\", \"Topic2\", \"Topic2\", \"Topic2\", \"Topic2\", \"Topic2\", \"Topic2\", \"Topic2\", \"Topic2\", \"Topic2\", \"Topic2\", \"Topic2\", \"Topic2\", \"Topic2\", \"Topic2\", \"Topic2\", \"Topic2\", \"Topic2\", \"Topic2\", \"Topic2\", \"Topic2\", \"Topic2\", \"Topic2\", \"Topic2\", \"Topic2\", \"Topic2\", \"Topic2\", \"Topic2\", \"Topic2\", \"Topic2\", \"Topic2\", \"Topic2\", \"Topic2\", \"Topic2\", \"Topic2\", \"Topic2\", \"Topic2\", \"Topic2\", \"Topic2\", \"Topic2\", \"Topic2\", \"Topic2\", \"Topic2\", \"Topic2\", \"Topic2\", \"Topic2\", \"Topic2\", \"Topic2\", \"Topic2\", \"Topic2\", \"Topic2\", \"Topic2\", \"Topic2\", \"Topic2\", \"Topic2\", \"Topic2\", \"Topic2\", \"Topic2\", \"Topic2\", \"Topic2\", \"Topic2\", \"Topic2\", \"Topic2\", \"Topic2\", \"Topic2\", \"Topic2\", \"Topic2\", \"Topic2\", \"Topic2\", \"Topic2\", \"Topic2\", \"Topic2\", \"Topic3\", \"Topic3\", \"Topic3\", \"Topic3\", \"Topic3\", \"Topic3\", \"Topic3\", \"Topic3\", \"Topic3\", \"Topic3\", \"Topic3\", \"Topic3\", \"Topic3\", \"Topic3\", \"Topic3\", \"Topic3\", \"Topic3\", \"Topic3\", \"Topic3\", \"Topic3\", \"Topic3\", \"Topic3\", \"Topic3\", \"Topic3\", \"Topic3\", \"Topic3\", \"Topic3\", \"Topic3\", \"Topic3\", \"Topic3\", \"Topic3\", \"Topic3\", \"Topic3\", \"Topic3\", \"Topic3\", \"Topic3\", \"Topic3\", \"Topic3\", \"Topic3\", \"Topic3\", \"Topic3\", \"Topic3\", \"Topic3\", \"Topic3\", \"Topic3\", \"Topic3\", \"Topic3\", \"Topic3\", \"Topic3\", \"Topic3\", \"Topic3\", \"Topic3\", \"Topic3\", \"Topic3\", \"Topic3\", \"Topic3\", \"Topic3\", \"Topic3\", \"Topic3\", \"Topic3\", \"Topic3\", \"Topic3\", \"Topic3\", \"Topic3\", \"Topic3\", \"Topic3\", \"Topic3\", \"Topic3\", \"Topic3\", \"Topic3\", \"Topic3\", \"Topic3\", \"Topic3\", \"Topic3\", \"Topic3\", \"Topic3\", \"Topic3\", \"Topic3\", \"Topic3\", \"Topic3\", \"Topic3\", \"Topic3\", \"Topic3\", \"Topic3\", \"Topic3\", \"Topic3\", \"Topic3\", \"Topic4\", \"Topic4\", \"Topic4\", \"Topic4\", \"Topic4\", \"Topic4\", \"Topic4\", \"Topic4\", \"Topic4\", \"Topic4\", \"Topic4\", \"Topic4\", \"Topic4\", \"Topic4\", \"Topic4\", \"Topic4\", \"Topic4\", \"Topic4\", \"Topic4\", \"Topic4\", \"Topic4\", \"Topic4\", \"Topic4\", \"Topic4\", \"Topic4\", \"Topic4\", \"Topic4\", \"Topic4\", \"Topic4\", \"Topic4\", \"Topic4\", \"Topic4\", \"Topic4\", \"Topic4\", \"Topic4\", \"Topic4\", \"Topic4\", \"Topic4\", \"Topic4\", \"Topic4\", \"Topic4\", \"Topic4\", \"Topic4\", \"Topic4\", \"Topic4\", \"Topic4\", \"Topic4\", \"Topic4\", \"Topic4\", \"Topic4\", \"Topic4\", \"Topic4\", \"Topic4\", \"Topic4\", \"Topic4\", \"Topic4\", \"Topic4\", \"Topic4\", \"Topic4\", \"Topic4\", \"Topic4\", \"Topic4\", \"Topic4\", \"Topic4\", \"Topic4\", \"Topic4\", \"Topic4\", \"Topic4\", \"Topic4\", \"Topic4\", \"Topic4\", \"Topic4\", \"Topic4\", \"Topic4\", \"Topic4\", \"Topic4\", \"Topic4\", \"Topic4\", \"Topic4\", \"Topic4\", \"Topic4\", \"Topic4\", \"Topic5\", \"Topic5\", \"Topic5\", \"Topic5\", \"Topic5\", \"Topic5\", \"Topic5\", \"Topic5\", \"Topic5\", \"Topic5\", \"Topic5\", \"Topic5\", \"Topic5\", \"Topic5\", \"Topic5\", \"Topic5\", \"Topic5\", \"Topic5\", \"Topic5\", \"Topic5\", \"Topic5\", \"Topic5\", \"Topic5\", \"Topic5\", \"Topic5\", \"Topic5\", \"Topic5\", \"Topic5\", \"Topic5\", \"Topic5\", \"Topic5\", \"Topic5\", \"Topic5\", \"Topic5\", \"Topic5\", \"Topic5\", \"Topic5\", \"Topic5\", \"Topic5\", \"Topic5\", \"Topic5\", \"Topic5\", \"Topic5\", \"Topic5\", \"Topic5\", \"Topic5\", \"Topic5\", \"Topic5\", \"Topic5\", \"Topic5\", \"Topic5\", \"Topic5\", \"Topic5\", \"Topic5\", \"Topic5\", \"Topic5\", \"Topic5\", \"Topic5\", \"Topic5\", \"Topic5\", \"Topic5\", \"Topic5\", \"Topic5\", \"Topic5\", \"Topic5\", \"Topic5\", \"Topic5\", \"Topic5\", \"Topic5\", \"Topic5\"], \"logprob\": [30.0, 29.0, 28.0, 27.0, 26.0, 25.0, 24.0, 23.0, 22.0, 21.0, 20.0, 19.0, 18.0, 17.0, 16.0, 15.0, 14.0, 13.0, 12.0, 11.0, 10.0, 9.0, 8.0, 7.0, 6.0, 5.0, 4.0, 3.0, 2.0, 1.0, -5.2435, -6.6717, -6.5376, -5.4538, -7.1881, -7.7898, -7.7913, -6.7745, -6.4277, -5.928, -8.2248, -7.5811, -7.2288, -7.9325, -7.8877, -7.3282, -8.0697, -7.1769, -8.2871, -8.3632, -8.3782, -8.3781, -8.2916, -8.2913, -8.4208, -8.4224, -8.1937, -7.3935, -8.3335, -8.339, -6.6073, -5.5882, -7.5221, -6.7231, -7.7157, -6.633, -7.2725, -7.1468, -6.4277, -6.3468, -6.3166, -6.2946, -4.8307, -6.4095, -5.3563, -6.3985, -4.7857, -3.5551, -5.6311, -6.7642, -6.194, -5.9244, -6.0562, -6.0584, -5.4036, -5.3825, -5.6477, -5.4765, -5.5452, -5.3418, -4.9713, -5.7015, -4.5606, -5.1896, -5.4475, -5.1079, -5.6338, -5.0583, -5.1455, -5.2277, -5.1037, -4.7386, -5.3238, -5.1076, -5.2352, -4.6045, -5.2909, -5.3605, -5.2022, -5.4525, -5.2253, -6.8181, -7.3911, -7.8738, -7.7719, -6.3562, -6.3735, -7.7559, -7.9469, -8.288, -7.4852, -6.8936, -8.3377, -8.4185, -8.4229, -8.3679, -8.4671, -4.8155, -8.5376, -7.8422, -8.5038, -8.5044, -8.6426, -7.7318, -7.3847, -8.5259, -8.6618, -8.7941, -8.6872, -8.7536, -5.8134, -6.8213, -7.4982, -7.5888, -7.5023, -6.9145, -5.1988, -5.9581, -4.9421, -4.4238, -4.8637, -6.6836, -7.2373, -7.185, -7.2442, -6.126, -6.0511, -4.3424, -5.5202, -3.7725, -6.3673, -5.6997, -6.6683, -5.5772, -5.1675, -6.3658, -6.6043, -6.216, -6.1365, -5.0837, -5.2318, -4.2489, -5.3722, -5.9593, -6.0002, -6.055, -4.7515, -4.0237, -5.4318, -6.0663, -4.7249, -5.3922, -5.5164, -5.2063, -5.2312, -4.9148, -5.3446, -5.6305, -5.3628, -5.424, -5.4035, -5.4361, -5.4356, -5.2196, -5.4441, -6.5207, -6.9309, -7.1039, -7.2114, -7.3121, -7.373, -6.984, -7.2021, -7.6178, -7.5312, -7.732, -7.752, -7.3031, -7.9975, -7.1442, -8.0786, -8.076, -8.0629, -8.1323, -8.1191, -8.0607, -8.3236, -8.2462, -8.3981, -8.3789, -8.3391, -7.5859, -8.4405, -8.4064, -8.0039, -7.3332, -7.4964, -7.4665, -7.4762, -7.1502, -5.2739, -7.2257, -6.4445, -4.2094, -6.8597, -6.4398, -6.7272, -7.1035, -7.0996, -5.6189, -6.5078, -7.1812, -7.1585, -6.8118, -6.3909, -6.5053, -6.9097, -5.8032, -5.2357, -5.5571, -6.5486, -5.0323, -6.4889, -3.868, -6.1785, -6.3626, -5.8645, -5.637, -6.6893, -5.5279, -6.281, -5.358, -6.5262, -5.1356, -5.5171, -5.7064, -5.8769, -5.7115, -5.7489, -5.0694, -6.2582, -6.0326, -6.1949, -5.5284, -5.7878, -5.9308, -5.9275, -5.9584, -5.9754, -5.8592, -5.7248, -6.1848, -6.1008, -7.2223, -7.3647, -7.2076, -7.4036, -6.7895, -7.2294, -6.6731, -7.6002, -7.7693, -7.4593, -7.9086, -6.7865, -7.7942, -6.1814, -8.0235, -8.0257, -7.8411, -8.0383, -7.5936, -7.6648, -7.6203, -8.1482, -7.8555, -8.2542, -7.7938, -8.3087, -8.3087, -8.3089, -7.9078, -7.9229, -7.4143, -7.9472, -7.1321, -7.0999, -7.8333, -6.4327, -6.5744, -6.1246, -6.9858, -6.5058, -7.4925, -7.4539, -7.0815, -7.3984, -6.7431, -6.266, -6.5879, -5.6849, -6.0532, -6.0876, -6.6222, -6.0859, -5.9478, -7.0442, -5.3513, -3.9444, -4.3677, -5.7114, -4.5994, -5.797, -5.3499, -5.5849, -5.7189, -6.617, -5.2097, -5.5103, -6.0701, -5.4066, -5.4152, -5.8526, -5.6233, -4.9831, -5.8261, -5.7891, -5.9459, -5.8684, -5.3969, -5.722, -5.6722, -5.7823, -6.0431, -7.3495, -6.1165, -7.2714, -7.4602, -5.5766, -6.5691, -6.3515, -6.3041, -6.4319, -7.4535, -7.6297, -6.57, -7.2374, -7.1492, -6.0756, -7.6427, -6.8862, -7.6033, -6.3564, -6.8252, -7.7281, -7.8052, -7.5624, -7.3993, -6.2295, -7.5513, -7.8429, -7.7898, -7.3043, -7.5003, -6.5774, -6.9027, -6.3181, -5.2017, -5.0097, -7.2509, -5.6676, -5.2902, -5.0826, -5.8195, -6.4744, -5.1367, -5.1682, -5.1736, -6.0832, -6.3528, -5.075, -5.7107, -5.6552, -5.5403, -6.2653, -5.7868, -5.7905, -5.2075, -5.9804, -4.8454, -5.1783, -5.3019, -4.8025, -5.4711, -5.2533, -5.3622, -5.2041, -5.4974, -5.5405, -5.7124, -5.5518, -5.8312, -5.6627, -5.7627], \"loglift\": [30.0, 29.0, 28.0, 27.0, 26.0, 25.0, 24.0, 23.0, 22.0, 21.0, 20.0, 19.0, 18.0, 17.0, 16.0, 15.0, 14.0, 13.0, 12.0, 11.0, 10.0, 9.0, 8.0, 7.0, 6.0, 5.0, 4.0, 3.0, 2.0, 1.0, 0.9472, 0.9461, 0.9418, 0.9417, 0.9412, 0.9407, 0.9397, 0.9392, 0.9385, 0.9384, 0.9374, 0.9373, 0.9372, 0.9362, 0.9358, 0.9352, 0.935, 0.9346, 0.9324, 0.9302, 0.9301, 0.93, 0.9299, 0.9298, 0.9296, 0.9291, 0.9288, 0.9265, 0.9254, 0.925, 0.922, 0.9092, 0.9245, 0.9143, 0.9239, 0.9091, 0.9146, 0.912, 0.8955, 0.8934, 0.884, 0.8816, 0.8321, 0.8795, 0.8253, 0.8721, 0.7827, 0.6992, 0.8194, 0.8837, 0.8314, 0.8051, 0.807, 0.8067, 0.7262, 0.7078, 0.7376, 0.7107, 0.6885, 0.597, 0.4511, 0.6538, 0.3025, 0.4733, 0.5525, 0.4317, 0.5959, 0.3641, 0.3854, 0.3923, 0.3333, 0.0343, 0.268, 0.1006, 0.1916, -0.4355, 0.1738, 0.0885, -0.4207, -0.023, 1.0753, 1.0706, 1.0647, 1.0646, 1.0635, 1.0619, 1.0611, 1.0589, 1.0587, 1.0583, 1.0581, 1.0568, 1.0557, 1.0554, 1.0551, 1.054, 1.0533, 1.0526, 1.0511, 1.051, 1.0484, 1.0481, 1.0471, 1.0468, 1.0466, 1.0465, 1.0454, 1.0437, 1.0435, 1.0431, 1.0429, 1.0382, 1.0419, 1.0426, 1.0379, 1.0318, 1.0132, 1.0195, 0.9937, 0.9745, 0.9694, 1.018, 1.0293, 1.0274, 1.0284, 0.9913, 0.9865, 0.9108, 0.9597, 0.8554, 0.987, 0.9268, 0.9873, 0.9002, 0.8653, 0.956, 0.9669, 0.9198, 0.902, 0.7486, 0.7245, 0.5325, 0.7386, 0.8455, 0.8518, 0.8483, 0.4567, 0.1454, 0.6365, 0.8441, 0.1382, 0.4583, 0.5225, 0.2233, 0.2059, -0.1419, 0.2472, 0.5176, 0.1681, 0.196, 0.0188, 0.0286, -0.0132, -0.9654, -0.0174, 1.9526, 1.9512, 1.9471, 1.9456, 1.9438, 1.9422, 1.942, 1.934, 1.9335, 1.9303, 1.9298, 1.9271, 1.9192, 1.9159, 1.9146, 1.9131, 1.907, 1.9065, 1.9058, 1.904, 1.9034, 1.8968, 1.8951, 1.8916, 1.891, 1.8892, 1.8875, 1.8872, 1.8853, 1.8839, 1.8799, 1.8766, 1.8732, 1.8629, 1.8461, 1.7462, 1.8465, 1.802, 1.6462, 1.8058, 1.7666, 1.7896, 1.8221, 1.7972, 1.6123, 1.6613, 1.7965, 1.791, 1.6976, 1.5749, 1.5854, 1.6857, 1.2941, 1.0679, 1.1689, 1.5519, 0.9282, 1.5254, 0.301, 1.3496, 1.4357, 1.1413, 0.9859, 1.5799, 0.8975, 1.3267, 0.6099, 1.4585, 0.4065, 0.675, 0.817, 0.8787, 0.5723, 0.5783, -0.2965, 1.1604, 0.8058, 1.0613, -0.0793, 0.3514, 0.4245, 0.3853, 0.05, 0.051, -0.3945, -1.4705, 0.7777, 1.9749, 1.9744, 1.9718, 1.9708, 1.9701, 1.9692, 1.9649, 1.9614, 1.9578, 1.9556, 1.9546, 1.9545, 1.9538, 1.9521, 1.9492, 1.946, 1.945, 1.9446, 1.944, 1.9421, 1.9418, 1.9413, 1.9363, 1.9348, 1.9339, 1.9338, 1.9334, 1.9334, 1.9334, 1.9331, 1.9313, 1.925, 1.9283, 1.9102, 1.9037, 1.9252, 1.8602, 1.8364, 1.7965, 1.8599, 1.7892, 1.8889, 1.878, 1.8205, 1.8675, 1.7334, 1.5662, 1.5677, 1.2653, 1.3851, 1.3862, 1.5737, 1.3327, 1.2604, 1.7174, 0.9494, 0.2246, 0.4052, 0.9602, 0.1821, 0.9695, 0.6496, 0.7186, 0.7411, 1.4788, 0.217, 0.4502, 0.9097, 0.023, 0.0339, 0.5728, 0.2323, -0.7288, 0.4867, 0.403, 0.6455, 0.4588, -0.769, -0.1799, -0.8091, -0.3176, 0.096, 5.0625, 5.0379, 4.9355, 4.924, 4.9228, 4.8645, 4.8449, 4.8345, 4.7934, 4.7773, 4.7719, 4.7678, 4.7474, 4.7425, 4.7118, 4.7067, 4.7001, 4.6906, 4.6832, 4.6759, 4.6714, 4.6645, 4.6418, 4.6234, 4.6232, 4.6198, 4.6174, 4.6148, 4.61, 4.6081, 4.5228, 4.5453, 4.4915, 4.3399, 4.3061, 4.5583, 4.0426, 3.9129, 3.7785, 4.02, 4.2731, 3.7458, 3.5723, 3.5156, 3.8658, 4.0685, 2.9853, 3.4748, 3.4228, 3.2362, 3.9689, 3.4026, 3.3405, 2.367, 3.4778, 1.2535, 1.1489, 1.0109, -0.6335, 1.5127, 0.6023, 0.8985, -0.4312, 0.8657, 0.31, 1.3935, -0.1222, 2.1831, -0.2137, -0.2207]}, \"token.table\": {\"Topic\": [1, 2, 3, 4, 2, 2, 4, 4, 4, 1, 2, 1, 3, 3, 3, 4, 3, 1, 2, 3, 1, 3, 2, 1, 1, 2, 3, 2, 1, 4, 2, 1, 2, 1, 4, 2, 3, 1, 2, 3, 4, 1, 2, 3, 4, 1, 2, 2, 2, 2, 1, 1, 2, 1, 2, 4, 1, 1, 1, 2, 3, 4, 3, 1, 3, 1, 2, 1, 2, 4, 2, 2, 1, 3, 4, 2, 4, 1, 3, 4, 1, 3, 2, 4, 2, 4, 1, 3, 2, 1, 1, 2, 1, 1, 4, 1, 2, 1, 2, 3, 4, 2, 2, 1, 1, 1, 2, 3, 3, 1, 1, 2, 3, 4, 1, 2, 3, 4, 4, 3, 1, 2, 3, 4, 1, 2, 1, 2, 1, 2, 3, 1, 2, 2, 1, 1, 3, 4, 4, 1, 2, 1, 1, 2, 3, 3, 1, 2, 3, 4, 1, 2, 3, 4, 1, 2, 4, 2, 3, 2, 4, 1, 2, 3, 4, 4, 1, 2, 1, 2, 1, 2, 4, 1, 2, 3, 4, 1, 2, 3, 4, 3, 1, 2, 3, 4, 2, 3, 4, 2, 1, 2, 1, 1, 2, 3, 4, 1, 2, 3, 4, 3, 1, 1, 2, 3, 4, 1, 2, 4, 1, 2, 3, 4, 1, 2, 2, 4, 2, 1, 2, 3, 4, 1, 2, 1, 2, 3, 4, 1, 1, 2, 3, 4, 1, 2, 3, 4, 1, 2, 3, 4, 1, 1, 2, 3, 4, 1, 1, 2, 3, 4, 1, 2, 3, 4, 1, 2, 3, 4, 1, 1, 3, 1, 2, 3, 2, 1, 2, 3, 4, 1, 2, 3, 2, 1, 2, 1, 2, 3, 4, 1, 2, 2, 4, 4, 3, 1, 2, 4, 1, 2, 3, 4, 1, 2, 3, 4, 2, 3, 4, 1, 1, 2, 3, 4, 1, 2, 3, 4, 1, 2, 3, 4, 2, 1, 2, 4, 2, 1, 2, 3, 4, 1, 1, 1, 2, 3, 1, 2, 3, 4, 1, 2, 4, 4, 2, 4, 1, 2, 3, 1, 2, 3, 4, 1, 2, 4, 1, 2, 2, 3, 4, 1, 2, 4, 3, 1, 2, 3, 3, 4, 1, 2, 4, 2, 1, 2, 4, 3, 1, 2, 1, 2, 1, 2, 3, 4, 1, 2, 1, 3, 4, 3, 1, 2, 3, 2, 1, 2, 3, 4, 1, 2, 3, 4, 1, 1, 1, 2, 2, 2, 1, 2, 3, 4, 4, 1, 2, 4, 3, 1, 2, 3, 4, 1, 3, 1, 2, 3, 4, 4, 1, 2, 3, 4, 4, 1, 3, 1, 2, 4, 2, 1, 2, 3, 4, 3, 1, 2, 3, 4, 1], \"Freq\": [0.32336089094294196, 0.48504133641441294, 0.16168044547147098, 0.08084022273573549, 1.341376294248938, 0.883878892292742, 0.147313148715457, 1.9252834440608382, 0.9368927248430432, 1.8598648159954863, 1.4212438396342206, 0.7862459996465131, 0.224641714184718, 1.850199127261805, 1.1316977929996948, 1.0973111816840089, 0.9339268776125101, 0.5336866950825613, 0.1524819128807318, 0.2287228693210977, 0.9769901140401075, 1.6770897892194254, 0.9753851633056684, 1.2084117253801063, 0.8739173615687574, 0.9177399024097724, 0.7444214576425016, 0.9626335512779971, 1.1588938463068632, 1.9205333666894127, 0.9915837382182869, 1.3255287230980917, 1.267263870379318, 0.9362529893659796, 0.7813628460947375, 1.3140794468848678, 1.811944269179994, 0.8571519491110006, 0.8955030181828972, 0.32526769729518057, 0.6505353945903611, 1.2340629685973958, 0.23793835893023116, 0.23793835893023116, 0.23793835893023116, 0.19428803743956127, 0.7771521497582451, 0.9732159487146697, 1.0016815116188456, 0.719435520257715, 0.9092981177298246, 0.9350938327013184, 0.18701876654026367, 0.42669550357557934, 0.2844636690503862, 0.2844636690503862, 1.0462300325403866, 0.801145640470367, 0.1627310385377736, 0.1627310385377736, 0.4881931156133208, 0.1627310385377736, 1.6998024217517795, 0.7570927245472674, 0.968264964090385, 0.6975209885857355, 0.17438024714643388, 0.7939914374789135, 1.5902466777418758, 1.2423400068925503, 0.9660132127778506, 0.8858036760633623, 0.06814569754623365, 0.7496026730085701, 0.20443709263870094, 0.8896101704278104, 0.2224025426069526, 0.47551875085609313, 0.47551875085609313, 1.3552497988657255, 0.8164063956706834, 1.405617488401773, 0.7826913349328946, 0.19567283373322364, 0.8883516586766648, 0.12690737981095213, 0.8096133118551545, 0.9754254644223248, 1.4868634021906189, 0.8870127081385077, 0.18457935569223305, 0.7383174227689322, 1.0210260052001017, 1.5888346376816884, 0.7077054566394463, 0.5922892211033888, 0.43075579716610096, 0.4280429957517905, 0.5350537446897381, 0.03567024964598254, 0.03567024964598254, 0.7595300062888979, 0.8888671738025706, 1.2077632736111694, 0.9259945755759149, 0.17605714456383517, 0.7042285782553407, 0.5901399844272204, 1.6640603810654213, 0.6868001223531698, 0.24943283291519608, 0.37414924937279415, 0.12471641645759804, 0.24943283291519608, 0.3969569626111557, 0.3969569626111557, 0.15878278504446228, 0.07939139252223114, 1.2459762018468106, 1.5465540903067783, 0.34864080232568745, 0.34864080232568745, 0.19922331561467854, 0.09961165780733927, 0.3371748322163505, 0.674349664432701, 0.5473845804153764, 0.18246152680512548, 0.6934165279837813, 0.19811900799536605, 0.09905950399768303, 0.08627310126726728, 0.9058675633063064, 0.9571670593809415, 1.0901449163070271, 0.2359064004081092, 0.4718128008162184, 0.2359064004081092, 0.640202618025143, 0.22609157295416263, 0.6782747188624878, 0.8781706852405917, 0.5462321292394879, 0.18207737641316266, 0.3641547528263253, 1.5035915705035323, 0.44954930617864525, 0.3371619796339839, 0.11238732654466131, 0.11238732654466131, 0.12048030264162878, 0.24096060528325755, 0.3614409079248863, 0.24096060528325755, 0.33890401437617, 0.169452007188085, 0.33890401437617, 1.1027523426345185, 0.7614413129097055, 1.011057565524788, 0.8773575814628701, 0.15136709847838856, 0.22705064771758285, 0.3784177461959714, 0.22705064771758285, 1.6495937913878178, 0.14924369318931516, 0.8581512358385622, 0.8647490217973359, 0.12353557454247657, 0.19974177468119408, 0.7323865071643784, 0.06658059156039803, 0.3389993640597817, 0.5423989824956507, 0.06779987281195633, 0.06779987281195633, 0.1759075167925303, 0.7036300671701212, 0.08795375839626515, 0.679699975372187, 1.4262368821526497, 0.3274157990496962, 0.5729776483369684, 0.08185394976242405, 0.08185394976242405, 0.3929515453120656, 0.3929515453120656, 1.0752080469722647, 1.0938784662950531, 0.8180836427444845, 0.15339068301459083, 1.1028540818323533, 0.5228503758984376, 0.10457007517968751, 0.20914015035937503, 0.10457007517968751, 0.6665068948218875, 0.1481126432937528, 0.0740563216468764, 0.0740563216468764, 1.4680568070395095, 0.8164185930420612, 0.21270013216959363, 0.42540026433918726, 0.10635006608479682, 0.31905019825439046, 0.5417748131313713, 0.39401804591372463, 0.04925225573921558, 0.4345872168134029, 0.3476697734507223, 0.08691744336268058, 0.08691744336268058, 0.7756056992448833, 0.17235682205441852, 0.3437490207923933, 0.6874980415847866, 0.9984984422872001, 0.5234213546879771, 0.4187370837503817, 0.052342135468797714, 0.052342135468797714, 0.24513307501065673, 0.7353992250319702, 0.3773741855574005, 0.18868709277870024, 0.18868709277870024, 0.18868709277870024, 0.9063007084101496, 0.21331419923182676, 0.10665709961591338, 0.4266283984636535, 0.3199712988477401, 0.6298604593073405, 0.15746511482683512, 0.07873255741341756, 0.07873255741341756, 0.327605585741605, 0.21840372382773668, 0.21840372382773668, 0.21840372382773668, 0.7015015459058623, 0.5744055329555815, 0.35348032797266554, 0.04418504099658319, 0.04418504099658319, 0.9332626677698517, 0.20362762731591305, 0.20362762731591305, 0.20362762731591305, 0.4072552546318261, 0.26578232203147645, 0.26578232203147645, 0.26578232203147645, 0.13289116101573822, 0.3147788697251852, 0.3147788697251852, 0.0786947174312963, 0.2360841522938889, 0.9353444565835225, 0.8416059027245092, 0.6889575451782016, 0.8101752450906304, 0.11573932072723292, 0.11573932072723292, 1.0463560319955039, 0.29356463578482267, 0.29356463578482267, 0.440346953677234, 0.14678231789241133, 0.7595259189400654, 0.09494073986750817, 0.09494073986750817, 0.86338131743938, 0.4413306460340062, 0.4413306460340062, 0.35605672641188585, 0.4450709080148573, 0.04450709080148573, 0.1335212724044572, 0.36518101338500353, 0.5477715200775053, 0.7640651241595372, 1.890105132691285, 1.2549759582185307, 0.7150936134636058, 0.5962003008651344, 0.2981001504325672, 0.049683358405427876, 0.21529247392840886, 0.3229387108926133, 0.21529247392840886, 0.21529247392840886, 0.530410496266368, 0.3788646401902629, 0.02525764267935086, 0.05051528535870172, 0.41227810808108284, 0.20613905404054142, 0.20613905404054142, 1.1040998640202695, 0.44380744312518894, 0.35504595450015114, 0.04438074431251889, 0.17752297725007557, 0.4609805639650131, 0.3687844511720105, 0.09219611279300262, 0.09219611279300262, 0.2862135524880452, 0.2862135524880452, 0.2862135524880452, 0.19080903499203014, 0.9149842797885711, 0.13975374821793465, 0.7985928469596266, 0.059894463521971995, 1.040906455125945, 0.2714632108027298, 0.36195094773697306, 0.18097547386848653, 0.18097547386848653, 1.0369438541867968, 1.3867942292584936, 0.07383871104600537, 0.8860645325520644, 0.6370229204183069, 0.7694499771871939, 0.1236616034765133, 0.027480356328114065, 0.06870089082028516, 0.26355966679546755, 0.26355966679546755, 0.5271193335909351, 0.6629294678111557, 0.49185382969672664, 0.49185382969672664, 0.8497270715588042, 0.09441411906208937, 1.0551714098627427, 0.21526334923487528, 0.21526334923487528, 0.43052669846975056, 0.21526334923487528, 0.25605176915054423, 0.5819358389785096, 0.1629420349139827, 0.12722478563745868, 0.8905734994622106, 0.4623687628992624, 0.1541229209664208, 0.3082458419328416, 0.06662684895200094, 0.8661490363760121, 0.06662684895200094, 0.8734666377855319, 0.27651413033351174, 0.27651413033351174, 0.27651413033351174, 0.3317507865074826, 0.6635015730149652, 0.8991552492923167, 0.056197203080769795, 0.056197203080769795, 0.8245167173990297, 0.618606065672274, 0.3534891803841566, 0.044186147548019576, 1.5756358775679757, 0.3801123358748995, 0.3801123358748995, 1.3008498341488448, 0.9268413267450851, 0.25235490306030045, 0.3911500997434657, 0.18926617729522532, 0.1640306869891953, 0.4211787867351183, 0.4211787867351183, 0.33522870397947524, 0.33522870397947524, 0.16761435198973762, 0.5621897115946722, 0.36288739353444116, 0.36288739353444116, 0.36288739353444116, 1.107199531990766, 0.7957528375935587, 0.09946910469919484, 0.09946910469919484, 1.4338287485516494, 0.2097545629118569, 0.2097545629118569, 0.2097545629118569, 0.4195091258237138, 1.7873922563525642, 0.6620172618643957, 0.8068017500569922, 0.17928927779044268, 0.7577521218549542, 0.998425250798398, 0.4084489540837543, 0.31768251984292, 0.13614965136125143, 0.13614965136125143, 1.5872176417800692, 0.08136164223508176, 0.8136164223508175, 0.08136164223508176, 0.6432696414552438, 0.4087572939799617, 0.30656797048497125, 0.10218932349499042, 0.20437864698998084, 0.26968001219412496, 0.8090400365823749, 0.45279208685345507, 0.22639604342672753, 0.11319802171336377, 0.11319802171336377, 0.7797504018630327, 0.6182611494582992, 0.28102779520831783, 0.056205559041663564, 0.056205559041663564, 1.2197049014838064, 0.8182154102034426, 1.468692165751191, 0.5380713979111186, 0.4035535484333389, 0.04483928315925988, 0.6178798951087681, 0.44792215769627114, 0.33594161827220337, 0.11198053942406778, 0.11198053942406778, 0.5729297587625437, 0.3923630021695563, 0.3000422957767195, 0.09232070639283677, 0.20772158938388272, 0.9527956948049308], \"Term\": [\"-\", \"-\", \"-\", \"-\", \"Algeria\", \"Arabia\", \"Arabia\", \"Arcelik\", \"Authority\", \"Azevedo\", \"Baker\", \"Bank\", \"Bank\", \"Belt\", \"Board\", \"CNG\", \"CPEC\", \"China\", \"China\", \"China\", \"Composite\", \"Corridor\", \"Countries\", \"DOWN\", \"Dow\", \"EIA\", \"Economic\", \"Energy\", \"England\", \"Erdogan\", \"Exporting\", \"FTSE\", \"Falih\", \"Fed\", \"Gas\", \"Gladiators\", \"Gwadar\", \"Hong\", \"IEA\", \"ISLAMABAD\", \"ISLAMABAD\", \"Index\", \"India\", \"India\", \"India\", \"Intermediate\", \"Intermediate\", \"Iran\", \"Iran\\u00b4s\", \"Iraq\", \"Janet\", \"Japan\", \"Japan\", \"June\", \"June\", \"June\", \"Kong\", \"MSCI\", \"Minister\", \"Minister\", \"Minister\", \"Minister\", \"Modi\", \"Nasdaq\", \"Nawaz\", \"New\", \"New\", \"Nikkei\", \"Novak\", \"OGRA\", \"OPEC\", \"Organization\", \"Pakistan\", \"Pakistan\", \"Pakistan\", \"Petroleum\", \"Petroleum\", \"Prime\", \"Prime\", \"Regulatory\", \"Reserve\", \"Road\", \"Russia\", \"Russia\", \"Saudi\", \"Saudi\", \"Shanghai\", \"Sharif\", \"SoftBank\", \"Street\", \"Texas\", \"Texas\", \"Tokyo\", \"Topix\", \"Turkey\", \"U.S.\", \"U.S.\", \"US\", \"US\", \"US\", \"US\", \"Vienna\", \"WTI\", \"WTO\", \"Wall\", \"West\", \"West\", \"World\", \"Xinjiang\", \"Yellen\", \"accord\", \"accord\", \"accord\", \"accord\", \"add\", \"add\", \"add\", \"add\", \"aircraft\", \"airport\", \"also\", \"also\", \"also\", \"also\", \"analyst\", \"analyst\", \"back\", \"back\", \"bank\", \"bank\", \"bank\", \"barrel\", \"barrel\", \"bpd\", \"broad\", \"business\", \"business\", \"business\", \"car\", \"cent\", \"cent\", \"central\", \"chinese\", \"chinese\", \"chinese\", \"coal\", \"come\", \"come\", \"come\", \"come\", \"company\", \"company\", \"company\", \"company\", \"compare\", \"compare\", \"compare\", \"compliance\", \"construction\", \"cosmetic\", \"cotton\", \"country\", \"country\", \"country\", \"country\", \"coup\", \"crude\", \"crude\", \"currency\", \"currency\", \"cut\", \"cut\", \"cut\", \"day\", \"day\", \"day\", \"day\", \"deal\", \"deal\", \"deal\", \"decrease\", \"delegation\", \"demand\", \"demand\", \"demand\", \"demand\", \"development\", \"development\", \"diesel\", \"disruption\", \"dollar\", \"dollar\", \"easing\", \"economic\", \"economic\", \"economic\", \"economic\", \"economy\", \"economy\", \"economy\", \"economy\", \"enhance\", \"euro\", \"export\", \"export\", \"export\", \"export\", \"fall\", \"fall\", \"fall\", \"first\", \"first\", \"first\", \"first\", \"gain\", \"gain\", \"gas\", \"gas\", \"gasoline\", \"global\", \"global\", \"global\", \"global\", \"glut\", \"glut\", \"go\", \"go\", \"go\", \"go\", \"gold\", \"government\", \"government\", \"government\", \"government\", \"growth\", \"growth\", \"growth\", \"growth\", \"have\", \"have\", \"have\", \"have\", \"haven\", \"high\", \"high\", \"high\", \"high\", \"hike\", \"import\", \"import\", \"import\", \"import\", \"include\", \"include\", \"include\", \"include\", \"increase\", \"increase\", \"increase\", \"increase\", \"index\", \"inflation\", \"infrastructure\", \"interest\", \"interest\", \"interest\", \"inventory\", \"investment\", \"investment\", \"investment\", \"investment\", \"investor\", \"investor\", \"investor\", \"iranian\", \"just\", \"just\", \"last\", \"last\", \"last\", \"last\", \"level\", \"level\", \"lifting\", \"lira\", \"litre\", \"loan\", \"low\", \"low\", \"low\", \"make\", \"make\", \"make\", \"make\", \"market\", \"market\", \"market\", \"market\", \"minister\", \"minister\", \"minister\", \"monetary\", \"month\", \"month\", \"month\", \"month\", \"more\", \"more\", \"more\", \"more\", \"new\", \"new\", \"new\", \"new\", \"nuclear\", \"oil\", \"oil\", \"oil\", \"opec\", \"other\", \"other\", \"other\", \"other\", \"ounce\", \"outflow\", \"output\", \"output\", \"pakistani\", \"percent\", \"percent\", \"percent\", \"percent\", \"period\", \"period\", \"period\", \"petrol\", \"petroleum\", \"petroleum\", \"point\", \"point\", \"port\", \"power\", \"power\", \"power\", \"power\", \"price\", \"price\", \"price\", \"producer\", \"producer\", \"product\", \"product\", \"product\", \"production\", \"production\", \"production\", \"project\", \"provide\", \"provide\", \"provide\", \"r\", \"r\", \"rate\", \"rate\", \"rate\", \"rig\", \"rise\", \"rise\", \"rise\", \"road\", \"run\", \"run\", \"s&amp;p\", \"sanction\", \"say\", \"say\", \"say\", \"say\", \"second\", \"second\", \"sector\", \"sector\", \"sector\", \"security\", \"service\", \"service\", \"service\", \"shale\", \"share\", \"share\", \"share\", \"shop\", \"state\", \"state\", \"state\", \"state\", \"sterling\", \"stimulus\", \"stock\", \"stock\", \"stockpile\", \"storage\", \"strong\", \"strong\", \"strong\", \"strong\", \"sugar\", \"supply\", \"supply\", \"supply\", \"system\", \"take\", \"take\", \"take\", \"take\", \"tax\", \"tax\", \"time\", \"time\", \"time\", \"time\", \"tourism\", \"trade\", \"trade\", \"trade\", \"trade\", \"turkish\", \"vote\", \"waive\", \"week\", \"week\", \"week\", \"win\", \"world\", \"world\", \"world\", \"world\", \"worth\", \"year\", \"year\", \"year\", \"year\", \"yen\"]}, \"R\": 30, \"lambda.step\": 0.01, \"plot.opts\": {\"xlab\": \"PC1\", \"ylab\": \"PC2\"}, \"topic.order\": [1, 5, 2, 4, 3]};\n",
       "\n",
       "function LDAvis_load_lib(url, callback){\n",
       "  var s = document.createElement('script');\n",
       "  s.src = url;\n",
       "  s.async = true;\n",
       "  s.onreadystatechange = s.onload = callback;\n",
       "  s.onerror = function(){console.warn(\"failed to load library \" + url);};\n",
       "  document.getElementsByTagName(\"head\")[0].appendChild(s);\n",
       "}\n",
       "\n",
       "if(typeof(LDAvis) !== \"undefined\"){\n",
       "   // already loaded: just create the visualization\n",
       "   !function(LDAvis){\n",
       "       new LDAvis(\"#\" + \"ldavis_el147361404617606305603474847345\", ldavis_el147361404617606305603474847345_data);\n",
       "   }(LDAvis);\n",
       "}else if(typeof define === \"function\" && define.amd){\n",
       "   // require.js is available: use it to load d3/LDAvis\n",
       "   require.config({paths: {d3: \"https://d3js.org/d3.v5\"}});\n",
       "   require([\"d3\"], function(d3){\n",
       "      window.d3 = d3;\n",
       "      LDAvis_load_lib(\"https://cdn.jsdelivr.net/gh/bmabey/pyLDAvis@3.3.1/pyLDAvis/js/ldavis.v3.0.0.js\", function(){\n",
       "        new LDAvis(\"#\" + \"ldavis_el147361404617606305603474847345\", ldavis_el147361404617606305603474847345_data);\n",
       "      });\n",
       "    });\n",
       "}else{\n",
       "    // require.js not available: dynamically load d3 & LDAvis\n",
       "    LDAvis_load_lib(\"https://d3js.org/d3.v5.js\", function(){\n",
       "         LDAvis_load_lib(\"https://cdn.jsdelivr.net/gh/bmabey/pyLDAvis@3.3.1/pyLDAvis/js/ldavis.v3.0.0.js\", function(){\n",
       "                 new LDAvis(\"#\" + \"ldavis_el147361404617606305603474847345\", ldavis_el147361404617606305603474847345_data);\n",
       "            })\n",
       "         });\n",
       "}\n",
       "</script>"
      ],
      "text/plain": [
       "<IPython.core.display.HTML object>"
      ]
     },
     "execution_count": 16,
     "metadata": {},
     "output_type": "execute_result"
    }
   ],
   "source": [
    "main.showvis(1)"
   ]
  },
  {
   "cell_type": "markdown",
   "id": "35710b8f",
   "metadata": {},
   "source": [
    "We can see from above that our model is not ideal in the first slice, since\n",
    "the two most important topics are overlaping with each other.\n",
    "\n",
    "To learn more about pyLdaVis, check out \n",
    "[their page](https://github.com/bmabey/pyLDAvis)."
   ]
  },
  {
   "cell_type": "markdown",
   "id": "a36be517",
   "metadata": {},
   "source": [
    "## Conclusion\n",
    "\n",
    "With this tutorial, you could see the basics of how to clear the text and how\n",
    "to run a basic model of topic modeling over time. As a sugestion, you can try \n",
    "to run other datasets or even try to run another model (for now we have Gensim's \n",
    "wrapper, LdaSeqModel)."
   ]
  }
 ],
 "metadata": {
  "kernelspec": {
   "display_name": "Python 3 (ipykernel)",
   "language": "python",
   "name": "python3"
  },
  "language_info": {
   "codemirror_mode": {
    "name": "ipython",
    "version": 3
   },
   "file_extension": ".py",
   "mimetype": "text/x-python",
   "name": "python",
   "nbconvert_exporter": "python",
   "pygments_lexer": "ipython3",
   "version": "3.10.6"
  }
 },
 "nbformat": 4,
 "nbformat_minor": 5
}
